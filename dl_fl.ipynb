{
  "metadata": {
    "kernelspec": {
      "name": "python3",
      "display_name": "Python 3",
      "language": "python"
    },
    "language_info": {
      "name": "python",
      "version": "3.10.14",
      "mimetype": "text/x-python",
      "codemirror_mode": {
        "name": "ipython",
        "version": 3
      },
      "pygments_lexer": "ipython3",
      "nbconvert_exporter": "python",
      "file_extension": ".py"
    },
    "colab": {
      "provenance": []
    },
    "kaggle": {
      "accelerator": "nvidiaTeslaT4",
      "dataSources": [
        {
          "sourceId": 267091,
          "sourceType": "datasetVersion",
          "datasetId": 111554
        }
      ],
      "dockerImageVersionId": 30787,
      "isInternetEnabled": false,
      "language": "python",
      "sourceType": "notebook",
      "isGpuEnabled": true
    }
  },
  "nbformat_minor": 0,
  "nbformat": 4,
  "cells": [
    {
      "cell_type": "markdown",
      "source": [
        "# **Importing Libraries**"
      ],
      "metadata": {
        "id": "KcOobxX23ETT"
      }
    },
    {
      "cell_type": "code",
      "source": [
        "import pandas as pd\n",
        "\n",
        "import numpy as np\n",
        "\n",
        "import tensorflow as tf\n",
        "\n",
        "import seaborn as sns\n",
        "\n",
        "\n",
        "\n",
        "import matplotlib.pyplot as plt\n",
        "\n",
        "\n",
        "\n",
        "from sklearn.model_selection import train_test_split\n",
        "\n",
        "from sklearn.compose import ColumnTransformer\n",
        "\n",
        "from sklearn.preprocessing import OneHotEncoder\n",
        "\n",
        "from sklearn.preprocessing import StandardScaler\n",
        "\n",
        "from sklearn.preprocessing import LabelEncoder\n"
      ],
      "metadata": {
        "execution": {
          "iopub.status.busy": "2024-11-27T19:23:25.652262Z",
          "iopub.execute_input": "2024-11-27T19:23:25.652617Z",
          "iopub.status.idle": "2024-11-27T19:23:39.009712Z",
          "shell.execute_reply.started": "2024-11-27T19:23:25.652585Z",
          "shell.execute_reply": "2024-11-27T19:23:39.009045Z"
        },
        "id": "hpJeTr073ETV",
        "trusted": true
      },
      "outputs": [],
      "execution_count": null
    },
    {
      "cell_type": "code",
      "source": [
        "import os\n",
        "for dirname, _, filenames in os.walk('/kaggle/input'):\n",
        "    for filename in filenames:\n",
        "        print(os.path.join(dirname, filename))"
      ],
      "metadata": {
        "colab": {
          "base_uri": "https://localhost:8080/"
        },
        "id": "V2LIHPMzS2u_",
        "outputId": "db7300e2-1652-44af-c9fc-7a45a7577b2c",
        "trusted": true,
        "execution": {
          "iopub.status.busy": "2024-11-27T19:23:52.424585Z",
          "iopub.execute_input": "2024-11-27T19:23:52.425126Z",
          "iopub.status.idle": "2024-11-27T19:23:52.439327Z",
          "shell.execute_reply.started": "2024-11-27T19:23:52.425094Z",
          "shell.execute_reply": "2024-11-27T19:23:52.438572Z"
        }
      },
      "outputs": [
        {
          "name": "stdout",
          "text": "/kaggle/input/UNSW_NB15_testing-set.csv\n/kaggle/input/UNSW-NB15_1.csv\n/kaggle/input/UNSW_NB15_training-set.csv\n/kaggle/input/UNSW-NB15_LIST_EVENTS.csv\n/kaggle/input/UNSW-NB15_4.csv\n/kaggle/input/UNSW-NB15_3.csv\n/kaggle/input/UNSW-NB15_2.csv\n/kaggle/input/NUSW-NB15_features.csv\n",
          "output_type": "stream"
        }
      ],
      "execution_count": null
    },
    {
      "cell_type": "markdown",
      "source": [
        "# **Loading Dataset**"
      ],
      "metadata": {
        "id": "NXcX1HIZ3ETY"
      }
    },
    {
      "cell_type": "code",
      "source": [
        "import pandas as pd\n",
        "\n",
        "\n",
        "\n",
        "# Charger les ensembles de données depuis le dossier local 'dataset'\n",
        "\n",
        "testing_set = pd.read_csv('/kaggle/input/UNSW_NB15_testing-set.csv')\n",
        "\n",
        "training_set = pd.read_csv('/kaggle/input/UNSW_NB15_training-set.csv')\n",
        "\n",
        "LIST_EVENTS = pd.read_csv('/kaggle/input/UNSW-NB15_LIST_EVENTS.csv')\n",
        "\n",
        "NB15_1 = pd.read_csv('/kaggle/input/UNSW-NB15_1.csv')\n",
        "\n",
        "NB15_2 = pd.read_csv('/kaggle/input/UNSW-NB15_2.csv')\n",
        "\n",
        "NB15_3 = pd.read_csv('/kaggle/input/UNSW-NB15_3.csv')\n",
        "\n",
        "NB15_4 = pd.read_csv('/kaggle/input/UNSW-NB15_4.csv')\n",
        "\n",
        "NB15_features = pd.read_csv('/kaggle/input/NUSW-NB15_features.csv', encoding='cp1252')\n"
      ],
      "metadata": {
        "colab": {
          "base_uri": "https://localhost:8080/"
        },
        "execution": {
          "iopub.status.busy": "2024-11-27T19:23:55.924610Z",
          "iopub.execute_input": "2024-11-27T19:23:55.924913Z",
          "iopub.status.idle": "2024-11-27T19:24:15.619315Z",
          "shell.execute_reply.started": "2024-11-27T19:23:55.924887Z",
          "shell.execute_reply": "2024-11-27T19:24:15.618569Z"
        },
        "id": "-6QYLf_n3ETY",
        "outputId": "d4a2624d-1b29-4de8-83f1-cda1bb615711",
        "trusted": true
      },
      "outputs": [
        {
          "name": "stderr",
          "text": "/tmp/ipykernel_30/309897338.py:13: DtypeWarning: Columns (1,3,47) have mixed types. Specify dtype option on import or set low_memory=False.\n  NB15_1 = pd.read_csv('/kaggle/input/UNSW-NB15_1.csv')\n/tmp/ipykernel_30/309897338.py:15: DtypeWarning: Columns (3,39,47) have mixed types. Specify dtype option on import or set low_memory=False.\n  NB15_2 = pd.read_csv('/kaggle/input/UNSW-NB15_2.csv')\n",
          "output_type": "stream"
        }
      ],
      "execution_count": null
    },
    {
      "cell_type": "code",
      "source": [
        "NB15_1.columns = NB15_features['Name']\n",
        "\n",
        "NB15_2.columns = NB15_features['Name']\n",
        "\n",
        "NB15_3.columns = NB15_features['Name']\n",
        "\n",
        "NB15_4.columns = NB15_features['Name']"
      ],
      "metadata": {
        "id": "uMpnyFSs3o7p",
        "trusted": true,
        "execution": {
          "iopub.status.busy": "2024-11-27T19:24:53.033022Z",
          "iopub.execute_input": "2024-11-27T19:24:53.033767Z",
          "iopub.status.idle": "2024-11-27T19:24:53.038569Z",
          "shell.execute_reply.started": "2024-11-27T19:24:53.033730Z",
          "shell.execute_reply": "2024-11-27T19:24:53.037760Z"
        }
      },
      "outputs": [],
      "execution_count": null
    },
    {
      "cell_type": "code",
      "source": [
        "training_set = pd.concat([NB15_1, NB15_2, NB15_3, NB15_4], ignore_index=True)"
      ],
      "metadata": {
        "id": "XCtP7Ry_3rmm",
        "trusted": true,
        "execution": {
          "iopub.status.busy": "2024-11-27T19:24:56.130546Z",
          "iopub.execute_input": "2024-11-27T19:24:56.130904Z",
          "iopub.status.idle": "2024-11-27T19:24:56.582807Z",
          "shell.execute_reply.started": "2024-11-27T19:24:56.130873Z",
          "shell.execute_reply": "2024-11-27T19:24:56.582057Z"
        }
      },
      "outputs": [],
      "execution_count": null
    },
    {
      "cell_type": "code",
      "source": [
        "# Shuffle the data points in train_df\n",
        "\n",
        "training_set = training_set.sample(frac=1, random_state=42).reset_index(drop=True)\n"
      ],
      "metadata": {
        "id": "pDy-XxL83uvH",
        "trusted": true,
        "execution": {
          "iopub.status.busy": "2024-11-27T19:24:59.381624Z",
          "iopub.execute_input": "2024-11-27T19:24:59.382646Z",
          "iopub.status.idle": "2024-11-27T19:25:04.131475Z",
          "shell.execute_reply.started": "2024-11-27T19:24:59.382598Z",
          "shell.execute_reply": "2024-11-27T19:25:04.130726Z"
        }
      },
      "outputs": [],
      "execution_count": null
    },
    {
      "cell_type": "code",
      "source": [
        "combined_data=training_set"
      ],
      "metadata": {
        "id": "gWwMbqZs31O1",
        "trusted": true,
        "execution": {
          "iopub.status.busy": "2024-11-27T19:25:10.037893Z",
          "iopub.execute_input": "2024-11-27T19:25:10.038703Z",
          "iopub.status.idle": "2024-11-27T19:25:10.042452Z",
          "shell.execute_reply.started": "2024-11-27T19:25:10.038665Z",
          "shell.execute_reply": "2024-11-27T19:25:10.041569Z"
        }
      },
      "outputs": [],
      "execution_count": null
    },
    {
      "cell_type": "code",
      "source": [
        "combined_data.head()"
      ],
      "metadata": {
        "colab": {
          "base_uri": "https://localhost:8080/",
          "height": 273
        },
        "execution": {
          "iopub.status.busy": "2024-11-27T19:25:14.906713Z",
          "iopub.execute_input": "2024-11-27T19:25:14.907548Z",
          "iopub.status.idle": "2024-11-27T19:25:14.929909Z",
          "shell.execute_reply.started": "2024-11-27T19:25:14.907512Z",
          "shell.execute_reply": "2024-11-27T19:25:14.929101Z"
        },
        "id": "4EtwM8QM3ETZ",
        "outputId": "88e38fc5-c6d7-4450-8d57-df58d1f0e7bb",
        "trusted": true
      },
      "outputs": [
        {
          "execution_count": 9,
          "output_type": "execute_result",
          "data": {
            "text/plain": "Name         srcip  sport           dstip dsport proto state       dur  \\\n0     175.45.176.3  57672  149.171.126.15   3260   tcp   CON  0.285356   \n1       59.166.0.8  38052   149.171.126.9   6881   tcp   FIN  0.314311   \n2       59.166.0.0  42911   149.171.126.2  38558   udp   CON  0.301180   \n3     175.45.176.1  47439  149.171.126.14     53   udp   INT  0.000009   \n4       59.166.0.5  61544   149.171.126.6     53   udp   CON  0.001079   \n\nName  sbytes  dbytes  sttl  ...  ct_ftp_cmd  ct_srv_src  ct_srv_dst  \\\n0        986      86    62  ...                      10           8   \n1       1540    1644    31  ...                      14           6   \n2        536     304    31  ...           0           9          16   \n3        114       0   254  ...                      33          33   \n4        146     178    31  ...                       2           2   \n\nName ct_dst_ltm  ct_src_ ltm  ct_src_dport_ltm  ct_dst_sport_ltm  \\\n0             4            5                 3                 1   \n1             8           12                 5                 1   \n2             7            6                 1                 1   \n3            17           17                17                17   \n4             5            4                 1                 1   \n\nName  ct_dst_src_ltm  attack_cat  Label  \n0                  7         NaN      0  \n1                  6         NaN      0  \n2                  3         NaN      0  \n3                 33     Generic      1  \n4                  1         NaN      0  \n\n[5 rows x 49 columns]",
            "text/html": "<div>\n<style scoped>\n    .dataframe tbody tr th:only-of-type {\n        vertical-align: middle;\n    }\n\n    .dataframe tbody tr th {\n        vertical-align: top;\n    }\n\n    .dataframe thead th {\n        text-align: right;\n    }\n</style>\n<table border=\"1\" class=\"dataframe\">\n  <thead>\n    <tr style=\"text-align: right;\">\n      <th>Name</th>\n      <th>srcip</th>\n      <th>sport</th>\n      <th>dstip</th>\n      <th>dsport</th>\n      <th>proto</th>\n      <th>state</th>\n      <th>dur</th>\n      <th>sbytes</th>\n      <th>dbytes</th>\n      <th>sttl</th>\n      <th>...</th>\n      <th>ct_ftp_cmd</th>\n      <th>ct_srv_src</th>\n      <th>ct_srv_dst</th>\n      <th>ct_dst_ltm</th>\n      <th>ct_src_ ltm</th>\n      <th>ct_src_dport_ltm</th>\n      <th>ct_dst_sport_ltm</th>\n      <th>ct_dst_src_ltm</th>\n      <th>attack_cat</th>\n      <th>Label</th>\n    </tr>\n  </thead>\n  <tbody>\n    <tr>\n      <th>0</th>\n      <td>175.45.176.3</td>\n      <td>57672</td>\n      <td>149.171.126.15</td>\n      <td>3260</td>\n      <td>tcp</td>\n      <td>CON</td>\n      <td>0.285356</td>\n      <td>986</td>\n      <td>86</td>\n      <td>62</td>\n      <td>...</td>\n      <td></td>\n      <td>10</td>\n      <td>8</td>\n      <td>4</td>\n      <td>5</td>\n      <td>3</td>\n      <td>1</td>\n      <td>7</td>\n      <td>NaN</td>\n      <td>0</td>\n    </tr>\n    <tr>\n      <th>1</th>\n      <td>59.166.0.8</td>\n      <td>38052</td>\n      <td>149.171.126.9</td>\n      <td>6881</td>\n      <td>tcp</td>\n      <td>FIN</td>\n      <td>0.314311</td>\n      <td>1540</td>\n      <td>1644</td>\n      <td>31</td>\n      <td>...</td>\n      <td></td>\n      <td>14</td>\n      <td>6</td>\n      <td>8</td>\n      <td>12</td>\n      <td>5</td>\n      <td>1</td>\n      <td>6</td>\n      <td>NaN</td>\n      <td>0</td>\n    </tr>\n    <tr>\n      <th>2</th>\n      <td>59.166.0.0</td>\n      <td>42911</td>\n      <td>149.171.126.2</td>\n      <td>38558</td>\n      <td>udp</td>\n      <td>CON</td>\n      <td>0.301180</td>\n      <td>536</td>\n      <td>304</td>\n      <td>31</td>\n      <td>...</td>\n      <td>0</td>\n      <td>9</td>\n      <td>16</td>\n      <td>7</td>\n      <td>6</td>\n      <td>1</td>\n      <td>1</td>\n      <td>3</td>\n      <td>NaN</td>\n      <td>0</td>\n    </tr>\n    <tr>\n      <th>3</th>\n      <td>175.45.176.1</td>\n      <td>47439</td>\n      <td>149.171.126.14</td>\n      <td>53</td>\n      <td>udp</td>\n      <td>INT</td>\n      <td>0.000009</td>\n      <td>114</td>\n      <td>0</td>\n      <td>254</td>\n      <td>...</td>\n      <td></td>\n      <td>33</td>\n      <td>33</td>\n      <td>17</td>\n      <td>17</td>\n      <td>17</td>\n      <td>17</td>\n      <td>33</td>\n      <td>Generic</td>\n      <td>1</td>\n    </tr>\n    <tr>\n      <th>4</th>\n      <td>59.166.0.5</td>\n      <td>61544</td>\n      <td>149.171.126.6</td>\n      <td>53</td>\n      <td>udp</td>\n      <td>CON</td>\n      <td>0.001079</td>\n      <td>146</td>\n      <td>178</td>\n      <td>31</td>\n      <td>...</td>\n      <td></td>\n      <td>2</td>\n      <td>2</td>\n      <td>5</td>\n      <td>4</td>\n      <td>1</td>\n      <td>1</td>\n      <td>1</td>\n      <td>NaN</td>\n      <td>0</td>\n    </tr>\n  </tbody>\n</table>\n<p>5 rows × 49 columns</p>\n</div>"
          },
          "metadata": {}
        }
      ],
      "execution_count": null
    },
    {
      "cell_type": "markdown",
      "source": [
        "# **Data Cleaning**"
      ],
      "metadata": {
        "id": "_1xN_Y0_3ETc"
      }
    },
    {
      "cell_type": "code",
      "source": [
        "combined_data['Label'].value_counts()"
      ],
      "metadata": {
        "colab": {
          "base_uri": "https://localhost:8080/",
          "height": 178
        },
        "execution": {
          "iopub.status.busy": "2024-11-27T19:25:30.329226Z",
          "iopub.execute_input": "2024-11-27T19:25:30.329593Z",
          "iopub.status.idle": "2024-11-27T19:25:30.356093Z",
          "shell.execute_reply.started": "2024-11-27T19:25:30.329562Z",
          "shell.execute_reply": "2024-11-27T19:25:30.355146Z"
        },
        "id": "YXLa9U383ETd",
        "outputId": "f4d3e996-da22-4b45-9b5e-122b90bf85cb",
        "trusted": true
      },
      "outputs": [
        {
          "execution_count": 10,
          "output_type": "execute_result",
          "data": {
            "text/plain": "Label\n0    2218760\n1     321283\nName: count, dtype: int64"
          },
          "metadata": {}
        }
      ],
      "execution_count": null
    },
    {
      "cell_type": "code",
      "source": [
        "combined_data['attack_cat'].isnull().sum()"
      ],
      "metadata": {
        "colab": {
          "base_uri": "https://localhost:8080/"
        },
        "execution": {
          "iopub.status.busy": "2024-11-27T19:25:30.357681Z",
          "iopub.execute_input": "2024-11-27T19:25:30.357965Z",
          "iopub.status.idle": "2024-11-27T19:25:30.485203Z",
          "shell.execute_reply.started": "2024-11-27T19:25:30.357941Z",
          "shell.execute_reply": "2024-11-27T19:25:30.484320Z"
        },
        "id": "edw3WAeq3ETd",
        "outputId": "bd154b80-dcc6-4290-9aea-d5297db66e10",
        "trusted": true
      },
      "outputs": [
        {
          "execution_count": 11,
          "output_type": "execute_result",
          "data": {
            "text/plain": "2218760"
          },
          "metadata": {}
        }
      ],
      "execution_count": null
    },
    {
      "cell_type": "code",
      "source": [
        "combined_data['attack_cat'] = combined_data['attack_cat'].fillna(value='normal').apply(lambda x: x.strip().lower())"
      ],
      "metadata": {
        "execution": {
          "iopub.status.busy": "2024-11-27T19:25:30.486343Z",
          "iopub.execute_input": "2024-11-27T19:25:30.486649Z",
          "iopub.status.idle": "2024-11-27T19:25:31.286998Z",
          "shell.execute_reply.started": "2024-11-27T19:25:30.486623Z",
          "shell.execute_reply": "2024-11-27T19:25:31.286294Z"
        },
        "id": "Zwm-ADAp3ETe",
        "trusted": true
      },
      "outputs": [],
      "execution_count": null
    },
    {
      "cell_type": "code",
      "source": [
        "combined_data['attack_cat'].value_counts()"
      ],
      "metadata": {
        "colab": {
          "base_uri": "https://localhost:8080/",
          "height": 460
        },
        "execution": {
          "iopub.status.busy": "2024-11-27T19:25:31.289029Z",
          "iopub.execute_input": "2024-11-27T19:25:31.289667Z",
          "iopub.status.idle": "2024-11-27T19:25:31.498283Z",
          "shell.execute_reply.started": "2024-11-27T19:25:31.289625Z",
          "shell.execute_reply": "2024-11-27T19:25:31.497426Z"
        },
        "id": "P7OrVXwv3ETe",
        "outputId": "79675364-ad33-49c5-9c6c-3c59dbfeba65",
        "trusted": true
      },
      "outputs": [
        {
          "execution_count": 13,
          "output_type": "execute_result",
          "data": {
            "text/plain": "attack_cat\nnormal            2218760\ngeneric            215481\nexploits            44525\nfuzzers             24246\ndos                 16353\nreconnaissance      13987\nanalysis             2677\nbackdoor             1795\nshellcode            1511\nbackdoors             534\nworms                 174\nName: count, dtype: int64"
          },
          "metadata": {}
        }
      ],
      "execution_count": null
    },
    {
      "cell_type": "code",
      "source": [
        "combined_data['attack_cat'] = combined_data['attack_cat'].replace('backdoors','backdoor', regex=True).apply(lambda x: x.strip().lower())"
      ],
      "metadata": {
        "execution": {
          "iopub.status.busy": "2024-11-27T19:25:31.499489Z",
          "iopub.execute_input": "2024-11-27T19:25:31.499776Z",
          "iopub.status.idle": "2024-11-27T19:25:33.147412Z",
          "shell.execute_reply.started": "2024-11-27T19:25:31.499748Z",
          "shell.execute_reply": "2024-11-27T19:25:33.146412Z"
        },
        "id": "7W6KSZ3M3ETe",
        "trusted": true
      },
      "outputs": [],
      "execution_count": null
    },
    {
      "cell_type": "code",
      "source": [
        "combined_data['attack_cat'].value_counts()"
      ],
      "metadata": {
        "colab": {
          "base_uri": "https://localhost:8080/",
          "height": 429
        },
        "execution": {
          "iopub.status.busy": "2024-11-27T19:25:33.148809Z",
          "iopub.execute_input": "2024-11-27T19:25:33.149056Z",
          "iopub.status.idle": "2024-11-27T19:25:33.358257Z",
          "shell.execute_reply.started": "2024-11-27T19:25:33.149033Z",
          "shell.execute_reply": "2024-11-27T19:25:33.357296Z"
        },
        "id": "gYuPvKhF3ETe",
        "outputId": "3e06dd3f-65a9-4191-f7a6-86e0afc9a763",
        "trusted": true
      },
      "outputs": [
        {
          "execution_count": 15,
          "output_type": "execute_result",
          "data": {
            "text/plain": "attack_cat\nnormal            2218760\ngeneric            215481\nexploits            44525\nfuzzers             24246\ndos                 16353\nreconnaissance      13987\nanalysis             2677\nbackdoor             2329\nshellcode            1511\nworms                 174\nName: count, dtype: int64"
          },
          "metadata": {}
        }
      ],
      "execution_count": null
    },
    {
      "cell_type": "code",
      "source": [
        "combined_data.isnull().sum()"
      ],
      "metadata": {
        "colab": {
          "base_uri": "https://localhost:8080/",
          "height": 1000
        },
        "execution": {
          "iopub.status.busy": "2024-11-27T19:25:33.359430Z",
          "iopub.execute_input": "2024-11-27T19:25:33.359710Z",
          "iopub.status.idle": "2024-11-27T19:25:34.647417Z",
          "shell.execute_reply.started": "2024-11-27T19:25:33.359685Z",
          "shell.execute_reply": "2024-11-27T19:25:34.646445Z"
        },
        "id": "JrgYRPXG3ETf",
        "outputId": "cb84271a-f165-46b4-a670-06065a1127c3",
        "trusted": true
      },
      "outputs": [
        {
          "execution_count": 16,
          "output_type": "execute_result",
          "data": {
            "text/plain": "Name\nsrcip                     0\nsport                     0\ndstip                     0\ndsport                    0\nproto                     0\nstate                     0\ndur                       0\nsbytes                    0\ndbytes                    0\nsttl                      0\ndttl                      0\nsloss                     0\ndloss                     0\nservice                   0\nSload                     0\nDload                     0\nSpkts                     0\nDpkts                     0\nswin                      0\ndwin                      0\nstcpb                     0\ndtcpb                     0\nsmeansz                   0\ndmeansz                   0\ntrans_depth               0\nres_bdy_len               0\nSjit                      0\nDjit                      0\nStime                     0\nLtime                     0\nSintpkt                   0\nDintpkt                   0\ntcprtt                    0\nsynack                    0\nackdat                    0\nis_sm_ips_ports           0\nct_state_ttl              0\nct_flw_http_mthd    1348143\nis_ftp_login        1429877\nct_ftp_cmd                0\nct_srv_src                0\nct_srv_dst                0\nct_dst_ltm                0\nct_src_ ltm               0\nct_src_dport_ltm          0\nct_dst_sport_ltm          0\nct_dst_src_ltm            0\nattack_cat                0\nLabel                     0\ndtype: int64"
          },
          "metadata": {}
        }
      ],
      "execution_count": null
    },
    {
      "cell_type": "code",
      "source": [
        "combined_data['ct_flw_http_mthd'] = combined_data['ct_flw_http_mthd'].fillna(value=0)"
      ],
      "metadata": {
        "execution": {
          "iopub.status.busy": "2024-11-27T19:25:34.648675Z",
          "iopub.execute_input": "2024-11-27T19:25:34.648943Z",
          "iopub.status.idle": "2024-11-27T19:25:34.668674Z",
          "shell.execute_reply.started": "2024-11-27T19:25:34.648917Z",
          "shell.execute_reply": "2024-11-27T19:25:34.667862Z"
        },
        "id": "TGUHSMY33ETf",
        "trusted": true
      },
      "outputs": [],
      "execution_count": null
    },
    {
      "cell_type": "code",
      "source": [
        "combined_data['is_ftp_login'].value_counts()"
      ],
      "metadata": {
        "colab": {
          "base_uri": "https://localhost:8080/",
          "height": 241
        },
        "execution": {
          "iopub.status.busy": "2024-11-27T19:25:34.671906Z",
          "iopub.execute_input": "2024-11-27T19:25:34.672345Z",
          "iopub.status.idle": "2024-11-27T19:25:34.700423Z",
          "shell.execute_reply.started": "2024-11-27T19:25:34.672320Z",
          "shell.execute_reply": "2024-11-27T19:25:34.699331Z"
        },
        "id": "Lup5zPwW3ETf",
        "outputId": "dc93bf4b-4d22-4620-d369-78218bd41a4c",
        "trusted": true
      },
      "outputs": [
        {
          "execution_count": 18,
          "output_type": "execute_result",
          "data": {
            "text/plain": "is_ftp_login\n0.0    1066591\n1.0      43389\n4.0        156\n2.0         30\nName: count, dtype: int64"
          },
          "metadata": {}
        }
      ],
      "execution_count": null
    },
    {
      "cell_type": "code",
      "source": [
        "combined_data['is_ftp_login'] = combined_data['is_ftp_login'].fillna(value=0)"
      ],
      "metadata": {
        "execution": {
          "iopub.status.busy": "2024-11-27T19:25:34.701539Z",
          "iopub.execute_input": "2024-11-27T19:25:34.701776Z",
          "iopub.status.idle": "2024-11-27T19:25:34.721043Z",
          "shell.execute_reply.started": "2024-11-27T19:25:34.701753Z",
          "shell.execute_reply": "2024-11-27T19:25:34.720473Z"
        },
        "id": "eQalH-0t3ETf",
        "trusted": true
      },
      "outputs": [],
      "execution_count": null
    },
    {
      "cell_type": "code",
      "source": [
        "combined_data['is_ftp_login'].value_counts()"
      ],
      "metadata": {
        "colab": {
          "base_uri": "https://localhost:8080/",
          "height": 241
        },
        "execution": {
          "iopub.status.busy": "2024-11-27T19:25:34.721851Z",
          "iopub.execute_input": "2024-11-27T19:25:34.722076Z",
          "iopub.status.idle": "2024-11-27T19:25:34.744480Z",
          "shell.execute_reply.started": "2024-11-27T19:25:34.722053Z",
          "shell.execute_reply": "2024-11-27T19:25:34.743683Z"
        },
        "id": "h52CmABt3ETf",
        "outputId": "4b9b2985-84d0-471a-e240-e46b9210ecc5",
        "trusted": true
      },
      "outputs": [
        {
          "execution_count": 20,
          "output_type": "execute_result",
          "data": {
            "text/plain": "is_ftp_login\n0.0    2496468\n1.0      43389\n4.0        156\n2.0         30\nName: count, dtype: int64"
          },
          "metadata": {}
        }
      ],
      "execution_count": null
    },
    {
      "cell_type": "code",
      "source": [
        "combined_data['is_ftp_login'] = np.where(combined_data['is_ftp_login']>1, 1, combined_data['is_ftp_login'])"
      ],
      "metadata": {
        "execution": {
          "iopub.status.busy": "2024-11-27T19:25:34.745703Z",
          "iopub.execute_input": "2024-11-27T19:25:34.746194Z",
          "iopub.status.idle": "2024-11-27T19:25:34.761885Z",
          "shell.execute_reply.started": "2024-11-27T19:25:34.746157Z",
          "shell.execute_reply": "2024-11-27T19:25:34.761098Z"
        },
        "id": "dOhcKBgg3ETg",
        "trusted": true
      },
      "outputs": [],
      "execution_count": null
    },
    {
      "cell_type": "code",
      "source": [
        "combined_data['is_ftp_login'].value_counts()"
      ],
      "metadata": {
        "colab": {
          "base_uri": "https://localhost:8080/",
          "height": 178
        },
        "execution": {
          "iopub.status.busy": "2024-11-27T19:25:34.762801Z",
          "iopub.execute_input": "2024-11-27T19:25:34.763003Z",
          "iopub.status.idle": "2024-11-27T19:25:34.785242Z",
          "shell.execute_reply.started": "2024-11-27T19:25:34.762982Z",
          "shell.execute_reply": "2024-11-27T19:25:34.784268Z"
        },
        "id": "7Cx-hXWe3ETg",
        "outputId": "98745f87-ce49-4675-ec07-841519b6ce6e",
        "trusted": true
      },
      "outputs": [
        {
          "execution_count": 22,
          "output_type": "execute_result",
          "data": {
            "text/plain": "is_ftp_login\n0.0    2496468\n1.0      43575\nName: count, dtype: int64"
          },
          "metadata": {}
        }
      ],
      "execution_count": null
    },
    {
      "cell_type": "code",
      "source": [
        "combined_data['service'].value_counts()"
      ],
      "metadata": {
        "colab": {
          "base_uri": "https://localhost:8080/",
          "height": 523
        },
        "execution": {
          "iopub.status.busy": "2024-11-27T19:25:34.786471Z",
          "iopub.execute_input": "2024-11-27T19:25:34.786701Z",
          "iopub.status.idle": "2024-11-27T19:25:34.937658Z",
          "shell.execute_reply.started": "2024-11-27T19:25:34.786679Z",
          "shell.execute_reply": "2024-11-27T19:25:34.936840Z"
        },
        "id": "dZsW_Waj3ETg",
        "outputId": "7d9c3f9d-bf45-4cef-ffa6-a180a2ac1fcf",
        "trusted": true
      },
      "outputs": [
        {
          "execution_count": 23,
          "output_type": "execute_result",
          "data": {
            "text/plain": "service\n-           1246395\ndns          781667\nhttp         206273\nftp-data     125783\nsmtp          81644\nftp           49090\nssh           47160\npop3           1533\ndhcp            172\nssl             142\nsnmp            113\nradius           40\nirc              31\nName: count, dtype: int64"
          },
          "metadata": {}
        }
      ],
      "execution_count": null
    },
    {
      "cell_type": "code",
      "source": [
        "#combined_data['service'] = combined_data['servie'].replace(to_replace='-', value='None')\n",
        "\n",
        "combined_data['service'] = combined_data['service'].apply(lambda x:\"None\" if x=='-' else x)"
      ],
      "metadata": {
        "execution": {
          "iopub.status.busy": "2024-11-27T19:25:34.938696Z",
          "iopub.execute_input": "2024-11-27T19:25:34.938981Z",
          "iopub.status.idle": "2024-11-27T19:25:35.295171Z",
          "shell.execute_reply.started": "2024-11-27T19:25:34.938956Z",
          "shell.execute_reply": "2024-11-27T19:25:35.294469Z"
        },
        "id": "tsLdry893ETg",
        "trusted": true
      },
      "outputs": [],
      "execution_count": null
    },
    {
      "cell_type": "code",
      "source": [
        "combined_data['service'].value_counts()"
      ],
      "metadata": {
        "colab": {
          "base_uri": "https://localhost:8080/",
          "height": 523
        },
        "execution": {
          "iopub.status.busy": "2024-11-27T19:25:35.296215Z",
          "iopub.execute_input": "2024-11-27T19:25:35.296564Z",
          "iopub.status.idle": "2024-11-27T19:25:35.448669Z",
          "shell.execute_reply.started": "2024-11-27T19:25:35.296529Z",
          "shell.execute_reply": "2024-11-27T19:25:35.447668Z"
        },
        "id": "lQdxiEC73ETg",
        "outputId": "110e76e9-89d9-4738-b7cc-a1c349d702c2",
        "trusted": true
      },
      "outputs": [
        {
          "execution_count": 25,
          "output_type": "execute_result",
          "data": {
            "text/plain": "service\nNone        1246395\ndns          781667\nhttp         206273\nftp-data     125783\nsmtp          81644\nftp           49090\nssh           47160\npop3           1533\ndhcp            172\nssl             142\nsnmp            113\nradius           40\nirc              31\nName: count, dtype: int64"
          },
          "metadata": {}
        }
      ],
      "execution_count": null
    },
    {
      "cell_type": "code",
      "source": [
        "combined_data['ct_ftp_cmd'].unique()"
      ],
      "metadata": {
        "colab": {
          "base_uri": "https://localhost:8080/"
        },
        "execution": {
          "iopub.status.busy": "2024-11-27T19:25:35.449949Z",
          "iopub.execute_input": "2024-11-27T19:25:35.450248Z",
          "iopub.status.idle": "2024-11-27T19:25:35.514649Z",
          "shell.execute_reply.started": "2024-11-27T19:25:35.450223Z",
          "shell.execute_reply": "2024-11-27T19:25:35.513978Z"
        },
        "id": "wzmLt6Pl3ETg",
        "outputId": "d4ae6a90-0633-48f9-c67d-a0482172968c",
        "trusted": true
      },
      "outputs": [
        {
          "execution_count": 26,
          "output_type": "execute_result",
          "data": {
            "text/plain": "array([' ', 0, 1, '1', 2, '0', '4', 5, 3, 4, 6, 8, '2'], dtype=object)"
          },
          "metadata": {}
        }
      ],
      "execution_count": null
    },
    {
      "cell_type": "code",
      "source": [
        "combined_data['ct_ftp_cmd'] = combined_data['ct_ftp_cmd'].replace(to_replace=' ', value=0).astype(int)"
      ],
      "metadata": {
        "execution": {
          "iopub.status.busy": "2024-11-27T19:25:35.515636Z",
          "iopub.execute_input": "2024-11-27T19:25:35.515886Z",
          "iopub.status.idle": "2024-11-27T19:25:35.773205Z",
          "shell.execute_reply.started": "2024-11-27T19:25:35.515862Z",
          "shell.execute_reply": "2024-11-27T19:25:35.772406Z"
        },
        "id": "d4cLyXf13ETh",
        "trusted": true
      },
      "outputs": [],
      "execution_count": null
    },
    {
      "cell_type": "code",
      "source": [
        "combined_data['ct_ftp_cmd'].unique()"
      ],
      "metadata": {
        "colab": {
          "base_uri": "https://localhost:8080/"
        },
        "execution": {
          "iopub.status.busy": "2024-11-27T19:25:35.774143Z",
          "iopub.execute_input": "2024-11-27T19:25:35.774383Z",
          "iopub.status.idle": "2024-11-27T19:25:35.810072Z",
          "shell.execute_reply.started": "2024-11-27T19:25:35.774344Z",
          "shell.execute_reply": "2024-11-27T19:25:35.809264Z"
        },
        "id": "bn-tqzJ63ETh",
        "outputId": "98e4728f-5eb1-43a2-8c21-19f19afbf399",
        "trusted": true
      },
      "outputs": [
        {
          "execution_count": 28,
          "output_type": "execute_result",
          "data": {
            "text/plain": "array([0, 1, 2, 4, 5, 3, 6, 8])"
          },
          "metadata": {}
        }
      ],
      "execution_count": null
    },
    {
      "cell_type": "code",
      "source": [
        "combined_data[['service','ct_flw_http_mthd','is_ftp_login','ct_ftp_cmd','attack_cat','Label']]"
      ],
      "metadata": {
        "colab": {
          "base_uri": "https://localhost:8080/",
          "height": 423
        },
        "execution": {
          "iopub.status.busy": "2024-11-27T19:25:35.811053Z",
          "iopub.execute_input": "2024-11-27T19:25:35.811299Z",
          "iopub.status.idle": "2024-11-27T19:25:35.936710Z",
          "shell.execute_reply.started": "2024-11-27T19:25:35.811274Z",
          "shell.execute_reply": "2024-11-27T19:25:35.935737Z"
        },
        "id": "qCB-9tuL3ETh",
        "outputId": "0c06d7c5-b791-4bd6-b9e6-57db2eb0f0c1",
        "trusted": true
      },
      "outputs": [
        {
          "execution_count": 29,
          "output_type": "execute_result",
          "data": {
            "text/plain": "Name    service  ct_flw_http_mthd  is_ftp_login  ct_ftp_cmd attack_cat  Label\n0          None               0.0           0.0           0     normal      0\n1          None               0.0           0.0           0     normal      0\n2          None               0.0           0.0           0     normal      0\n3           dns               0.0           0.0           0    generic      1\n4           dns               0.0           0.0           0     normal      0\n...         ...               ...           ...         ...        ...    ...\n2540038    None               0.0           0.0           0     normal      0\n2540039     dns               0.0           0.0           0     normal      0\n2540040    None               0.0           0.0           0     normal      0\n2540041     dns               0.0           0.0           0    generic      1\n2540042     dns               0.0           0.0           0     normal      0\n\n[2540043 rows x 6 columns]",
            "text/html": "<div>\n<style scoped>\n    .dataframe tbody tr th:only-of-type {\n        vertical-align: middle;\n    }\n\n    .dataframe tbody tr th {\n        vertical-align: top;\n    }\n\n    .dataframe thead th {\n        text-align: right;\n    }\n</style>\n<table border=\"1\" class=\"dataframe\">\n  <thead>\n    <tr style=\"text-align: right;\">\n      <th>Name</th>\n      <th>service</th>\n      <th>ct_flw_http_mthd</th>\n      <th>is_ftp_login</th>\n      <th>ct_ftp_cmd</th>\n      <th>attack_cat</th>\n      <th>Label</th>\n    </tr>\n  </thead>\n  <tbody>\n    <tr>\n      <th>0</th>\n      <td>None</td>\n      <td>0.0</td>\n      <td>0.0</td>\n      <td>0</td>\n      <td>normal</td>\n      <td>0</td>\n    </tr>\n    <tr>\n      <th>1</th>\n      <td>None</td>\n      <td>0.0</td>\n      <td>0.0</td>\n      <td>0</td>\n      <td>normal</td>\n      <td>0</td>\n    </tr>\n    <tr>\n      <th>2</th>\n      <td>None</td>\n      <td>0.0</td>\n      <td>0.0</td>\n      <td>0</td>\n      <td>normal</td>\n      <td>0</td>\n    </tr>\n    <tr>\n      <th>3</th>\n      <td>dns</td>\n      <td>0.0</td>\n      <td>0.0</td>\n      <td>0</td>\n      <td>generic</td>\n      <td>1</td>\n    </tr>\n    <tr>\n      <th>4</th>\n      <td>dns</td>\n      <td>0.0</td>\n      <td>0.0</td>\n      <td>0</td>\n      <td>normal</td>\n      <td>0</td>\n    </tr>\n    <tr>\n      <th>...</th>\n      <td>...</td>\n      <td>...</td>\n      <td>...</td>\n      <td>...</td>\n      <td>...</td>\n      <td>...</td>\n    </tr>\n    <tr>\n      <th>2540038</th>\n      <td>None</td>\n      <td>0.0</td>\n      <td>0.0</td>\n      <td>0</td>\n      <td>normal</td>\n      <td>0</td>\n    </tr>\n    <tr>\n      <th>2540039</th>\n      <td>dns</td>\n      <td>0.0</td>\n      <td>0.0</td>\n      <td>0</td>\n      <td>normal</td>\n      <td>0</td>\n    </tr>\n    <tr>\n      <th>2540040</th>\n      <td>None</td>\n      <td>0.0</td>\n      <td>0.0</td>\n      <td>0</td>\n      <td>normal</td>\n      <td>0</td>\n    </tr>\n    <tr>\n      <th>2540041</th>\n      <td>dns</td>\n      <td>0.0</td>\n      <td>0.0</td>\n      <td>0</td>\n      <td>generic</td>\n      <td>1</td>\n    </tr>\n    <tr>\n      <th>2540042</th>\n      <td>dns</td>\n      <td>0.0</td>\n      <td>0.0</td>\n      <td>0</td>\n      <td>normal</td>\n      <td>0</td>\n    </tr>\n  </tbody>\n</table>\n<p>2540043 rows × 6 columns</p>\n</div>"
          },
          "metadata": {}
        }
      ],
      "execution_count": null
    },
    {
      "cell_type": "code",
      "source": [
        "combined_data['attack_cat'].nunique()"
      ],
      "metadata": {
        "colab": {
          "base_uri": "https://localhost:8080/"
        },
        "execution": {
          "iopub.status.busy": "2024-11-27T19:25:35.937867Z",
          "iopub.execute_input": "2024-11-27T19:25:35.938164Z",
          "iopub.status.idle": "2024-11-27T19:25:36.072266Z",
          "shell.execute_reply.started": "2024-11-27T19:25:35.938125Z",
          "shell.execute_reply": "2024-11-27T19:25:36.071384Z"
        },
        "id": "J61DxfJN3ETh",
        "outputId": "b5ad1a2e-7900-4fc7-e8f4-f1ec6fed7691",
        "trusted": true
      },
      "outputs": [
        {
          "execution_count": 30,
          "output_type": "execute_result",
          "data": {
            "text/plain": "10"
          },
          "metadata": {}
        }
      ],
      "execution_count": null
    },
    {
      "cell_type": "code",
      "source": [
        "combined_data.info()"
      ],
      "metadata": {
        "colab": {
          "base_uri": "https://localhost:8080/"
        },
        "execution": {
          "iopub.status.busy": "2024-11-27T19:25:36.073485Z",
          "iopub.execute_input": "2024-11-27T19:25:36.073741Z",
          "iopub.status.idle": "2024-11-27T19:25:36.088140Z",
          "shell.execute_reply.started": "2024-11-27T19:25:36.073717Z",
          "shell.execute_reply": "2024-11-27T19:25:36.087229Z"
        },
        "id": "uI7vw5s03ETh",
        "outputId": "e578fbc6-de3b-42ee-b925-b49b49e004fa",
        "trusted": true
      },
      "outputs": [
        {
          "name": "stdout",
          "text": "<class 'pandas.core.frame.DataFrame'>\nRangeIndex: 2540043 entries, 0 to 2540042\nData columns (total 49 columns):\n #   Column            Dtype  \n---  ------            -----  \n 0   srcip             object \n 1   sport             object \n 2   dstip             object \n 3   dsport            object \n 4   proto             object \n 5   state             object \n 6   dur               float64\n 7   sbytes            int64  \n 8   dbytes            int64  \n 9   sttl              int64  \n 10  dttl              int64  \n 11  sloss             int64  \n 12  dloss             int64  \n 13  service           object \n 14  Sload             float64\n 15  Dload             float64\n 16  Spkts             int64  \n 17  Dpkts             int64  \n 18  swin              int64  \n 19  dwin              int64  \n 20  stcpb             int64  \n 21  dtcpb             int64  \n 22  smeansz           int64  \n 23  dmeansz           int64  \n 24  trans_depth       int64  \n 25  res_bdy_len       int64  \n 26  Sjit              float64\n 27  Djit              float64\n 28  Stime             int64  \n 29  Ltime             int64  \n 30  Sintpkt           float64\n 31  Dintpkt           float64\n 32  tcprtt            float64\n 33  synack            float64\n 34  ackdat            float64\n 35  is_sm_ips_ports   int64  \n 36  ct_state_ttl      int64  \n 37  ct_flw_http_mthd  float64\n 38  is_ftp_login      float64\n 39  ct_ftp_cmd        int64  \n 40  ct_srv_src        int64  \n 41  ct_srv_dst        int64  \n 42  ct_dst_ltm        int64  \n 43  ct_src_ ltm       int64  \n 44  ct_src_dport_ltm  int64  \n 45  ct_dst_sport_ltm  int64  \n 46  ct_dst_src_ltm    int64  \n 47  attack_cat        object \n 48  Label             int64  \ndtypes: float64(12), int64(29), object(8)\nmemory usage: 949.6+ MB\n",
          "output_type": "stream"
        }
      ],
      "execution_count": null
    },
    {
      "cell_type": "code",
      "source": [
        "combined_data.shape"
      ],
      "metadata": {
        "colab": {
          "base_uri": "https://localhost:8080/"
        },
        "execution": {
          "iopub.status.busy": "2024-11-27T19:25:36.089245Z",
          "iopub.execute_input": "2024-11-27T19:25:36.089915Z",
          "iopub.status.idle": "2024-11-27T19:25:36.098890Z",
          "shell.execute_reply.started": "2024-11-27T19:25:36.089878Z",
          "shell.execute_reply": "2024-11-27T19:25:36.098030Z"
        },
        "id": "mpZWzxuE3ETh",
        "outputId": "17eb48d6-467a-4b58-fe0a-717f66eb9c7a",
        "trusted": true
      },
      "outputs": [
        {
          "execution_count": 32,
          "output_type": "execute_result",
          "data": {
            "text/plain": "(2540043, 49)"
          },
          "metadata": {}
        }
      ],
      "execution_count": null
    },
    {
      "cell_type": "code",
      "source": [
        "combined_data.drop(columns=['srcip','sport','dstip','dsport','Label'],inplace=True)"
      ],
      "metadata": {
        "execution": {
          "iopub.status.busy": "2024-11-27T19:25:36.104682Z",
          "iopub.execute_input": "2024-11-27T19:25:36.105010Z",
          "iopub.status.idle": "2024-11-27T19:25:36.506148Z",
          "shell.execute_reply.started": "2024-11-27T19:25:36.104987Z",
          "shell.execute_reply": "2024-11-27T19:25:36.505472Z"
        },
        "id": "NLUNDmu13ETi",
        "trusted": true
      },
      "outputs": [],
      "execution_count": null
    },
    {
      "cell_type": "code",
      "source": [
        "combined_data.info()"
      ],
      "metadata": {
        "colab": {
          "base_uri": "https://localhost:8080/"
        },
        "execution": {
          "iopub.status.busy": "2024-11-27T19:25:36.507173Z",
          "iopub.execute_input": "2024-11-27T19:25:36.507474Z",
          "iopub.status.idle": "2024-11-27T19:25:36.517423Z",
          "shell.execute_reply.started": "2024-11-27T19:25:36.507448Z",
          "shell.execute_reply": "2024-11-27T19:25:36.516584Z"
        },
        "id": "1X3GD0-g3ETi",
        "outputId": "a71a0c0e-b73b-4f2b-cdb2-1d689810774f",
        "trusted": true
      },
      "outputs": [
        {
          "name": "stdout",
          "text": "<class 'pandas.core.frame.DataFrame'>\nRangeIndex: 2540043 entries, 0 to 2540042\nData columns (total 44 columns):\n #   Column            Dtype  \n---  ------            -----  \n 0   proto             object \n 1   state             object \n 2   dur               float64\n 3   sbytes            int64  \n 4   dbytes            int64  \n 5   sttl              int64  \n 6   dttl              int64  \n 7   sloss             int64  \n 8   dloss             int64  \n 9   service           object \n 10  Sload             float64\n 11  Dload             float64\n 12  Spkts             int64  \n 13  Dpkts             int64  \n 14  swin              int64  \n 15  dwin              int64  \n 16  stcpb             int64  \n 17  dtcpb             int64  \n 18  smeansz           int64  \n 19  dmeansz           int64  \n 20  trans_depth       int64  \n 21  res_bdy_len       int64  \n 22  Sjit              float64\n 23  Djit              float64\n 24  Stime             int64  \n 25  Ltime             int64  \n 26  Sintpkt           float64\n 27  Dintpkt           float64\n 28  tcprtt            float64\n 29  synack            float64\n 30  ackdat            float64\n 31  is_sm_ips_ports   int64  \n 32  ct_state_ttl      int64  \n 33  ct_flw_http_mthd  float64\n 34  is_ftp_login      float64\n 35  ct_ftp_cmd        int64  \n 36  ct_srv_src        int64  \n 37  ct_srv_dst        int64  \n 38  ct_dst_ltm        int64  \n 39  ct_src_ ltm       int64  \n 40  ct_src_dport_ltm  int64  \n 41  ct_dst_sport_ltm  int64  \n 42  ct_dst_src_ltm    int64  \n 43  attack_cat        object \ndtypes: float64(12), int64(28), object(4)\nmemory usage: 852.7+ MB\n",
          "output_type": "stream"
        }
      ],
      "execution_count": null
    },
    {
      "cell_type": "code",
      "source": [
        "combined_data.shape"
      ],
      "metadata": {
        "colab": {
          "base_uri": "https://localhost:8080/"
        },
        "execution": {
          "iopub.status.busy": "2024-11-27T19:25:36.518521Z",
          "iopub.execute_input": "2024-11-27T19:25:36.518773Z",
          "iopub.status.idle": "2024-11-27T19:25:36.528026Z",
          "shell.execute_reply.started": "2024-11-27T19:25:36.518749Z",
          "shell.execute_reply": "2024-11-27T19:25:36.527174Z"
        },
        "id": "4U8HgsxB3ETi",
        "outputId": "708414df-9624-4092-babc-9e7520774f36",
        "trusted": true
      },
      "outputs": [
        {
          "execution_count": 35,
          "output_type": "execute_result",
          "data": {
            "text/plain": "(2540043, 44)"
          },
          "metadata": {}
        }
      ],
      "execution_count": null
    },
    {
      "cell_type": "code",
      "source": [
        "train, test = train_test_split(combined_data,test_size=0.2,random_state=16)\n",
        "\n",
        "train, val = train_test_split(train,test_size=0.2,random_state=16)"
      ],
      "metadata": {
        "execution": {
          "iopub.status.busy": "2024-11-27T19:25:36.528929Z",
          "iopub.execute_input": "2024-11-27T19:25:36.529288Z",
          "iopub.status.idle": "2024-11-27T19:25:39.755022Z",
          "shell.execute_reply.started": "2024-11-27T19:25:36.529242Z",
          "shell.execute_reply": "2024-11-27T19:25:39.754072Z"
        },
        "id": "GQAGum4b3ETj",
        "trusted": true
      },
      "outputs": [],
      "execution_count": null
    },
    {
      "cell_type": "code",
      "source": [
        "train.shape"
      ],
      "metadata": {
        "colab": {
          "base_uri": "https://localhost:8080/"
        },
        "execution": {
          "iopub.status.busy": "2024-11-27T19:25:39.756139Z",
          "iopub.execute_input": "2024-11-27T19:25:39.756443Z",
          "iopub.status.idle": "2024-11-27T19:25:39.761887Z",
          "shell.execute_reply.started": "2024-11-27T19:25:39.756417Z",
          "shell.execute_reply": "2024-11-27T19:25:39.761126Z"
        },
        "id": "pcxUXxnY3ETj",
        "outputId": "a88cc52f-fb4b-4a7b-d35d-9525baa2538b",
        "trusted": true
      },
      "outputs": [
        {
          "execution_count": 37,
          "output_type": "execute_result",
          "data": {
            "text/plain": "(1625627, 44)"
          },
          "metadata": {}
        }
      ],
      "execution_count": null
    },
    {
      "cell_type": "code",
      "source": [
        "test.shape"
      ],
      "metadata": {
        "colab": {
          "base_uri": "https://localhost:8080/"
        },
        "execution": {
          "iopub.status.busy": "2024-11-27T19:25:39.762894Z",
          "iopub.execute_input": "2024-11-27T19:25:39.763111Z",
          "iopub.status.idle": "2024-11-27T19:25:39.772321Z",
          "shell.execute_reply.started": "2024-11-27T19:25:39.763084Z",
          "shell.execute_reply": "2024-11-27T19:25:39.771623Z"
        },
        "id": "eR6-WkoQ3ETj",
        "outputId": "6570dbd5-c5d4-4fb6-89f1-3a90c79242a8",
        "trusted": true
      },
      "outputs": [
        {
          "execution_count": 38,
          "output_type": "execute_result",
          "data": {
            "text/plain": "(508009, 44)"
          },
          "metadata": {}
        }
      ],
      "execution_count": null
    },
    {
      "cell_type": "code",
      "source": [
        "x_train, y_train = train.drop(columns=['attack_cat']), train[['attack_cat']]\n",
        "\n",
        "x_test, y_test = test.drop(columns=['attack_cat']), test[['attack_cat']]\n",
        "\n",
        "x_val, y_val = val.drop(columns=['attack_cat']), val[['attack_cat']]"
      ],
      "metadata": {
        "execution": {
          "iopub.status.busy": "2024-11-27T19:25:39.773309Z",
          "iopub.execute_input": "2024-11-27T19:25:39.773644Z",
          "iopub.status.idle": "2024-11-27T19:25:40.182758Z",
          "shell.execute_reply.started": "2024-11-27T19:25:39.773609Z",
          "shell.execute_reply": "2024-11-27T19:25:40.181773Z"
        },
        "id": "4GIxgq493ETr",
        "trusted": true
      },
      "outputs": [],
      "execution_count": null
    },
    {
      "cell_type": "code",
      "source": [
        "x_train.shape, y_train.shape"
      ],
      "metadata": {
        "colab": {
          "base_uri": "https://localhost:8080/"
        },
        "execution": {
          "iopub.status.busy": "2024-11-27T19:25:40.183872Z",
          "iopub.execute_input": "2024-11-27T19:25:40.184152Z",
          "iopub.status.idle": "2024-11-27T19:25:40.189563Z",
          "shell.execute_reply.started": "2024-11-27T19:25:40.184127Z",
          "shell.execute_reply": "2024-11-27T19:25:40.188622Z"
        },
        "id": "1_0kpG1w3ETr",
        "outputId": "848acc63-7fcb-4330-be34-1e084b9f1abb",
        "trusted": true
      },
      "outputs": [
        {
          "execution_count": 40,
          "output_type": "execute_result",
          "data": {
            "text/plain": "((1625627, 43), (1625627, 1))"
          },
          "metadata": {}
        }
      ],
      "execution_count": null
    },
    {
      "cell_type": "code",
      "source": [
        "x_test.shape, y_test.shape"
      ],
      "metadata": {
        "colab": {
          "base_uri": "https://localhost:8080/"
        },
        "execution": {
          "iopub.status.busy": "2024-11-27T19:25:40.190576Z",
          "iopub.execute_input": "2024-11-27T19:25:40.190868Z",
          "iopub.status.idle": "2024-11-27T19:25:40.197994Z",
          "shell.execute_reply.started": "2024-11-27T19:25:40.190844Z",
          "shell.execute_reply": "2024-11-27T19:25:40.197254Z"
        },
        "id": "VPD3Omnw3ETs",
        "outputId": "19fbf9f1-a341-4af5-a40a-e4503c3be302",
        "trusted": true
      },
      "outputs": [
        {
          "execution_count": 41,
          "output_type": "execute_result",
          "data": {
            "text/plain": "((508009, 43), (508009, 1))"
          },
          "metadata": {}
        }
      ],
      "execution_count": null
    },
    {
      "cell_type": "code",
      "source": [
        "x_val.shape, y_val.shape"
      ],
      "metadata": {
        "colab": {
          "base_uri": "https://localhost:8080/"
        },
        "execution": {
          "iopub.status.busy": "2024-11-27T19:25:40.198903Z",
          "iopub.execute_input": "2024-11-27T19:25:40.199146Z",
          "iopub.status.idle": "2024-11-27T19:25:40.207160Z",
          "shell.execute_reply.started": "2024-11-27T19:25:40.199123Z",
          "shell.execute_reply": "2024-11-27T19:25:40.206487Z"
        },
        "id": "MZF8UZGB3ETs",
        "outputId": "3ee5502b-689b-4612-e5db-3f2d4436add6",
        "trusted": true
      },
      "outputs": [
        {
          "execution_count": 42,
          "output_type": "execute_result",
          "data": {
            "text/plain": "((406407, 43), (406407, 1))"
          },
          "metadata": {}
        }
      ],
      "execution_count": null
    },
    {
      "cell_type": "code",
      "source": [
        "train.info()"
      ],
      "metadata": {
        "colab": {
          "base_uri": "https://localhost:8080/"
        },
        "execution": {
          "iopub.status.busy": "2024-11-27T19:25:40.207964Z",
          "iopub.execute_input": "2024-11-27T19:25:40.208168Z",
          "iopub.status.idle": "2024-11-27T19:25:40.741881Z",
          "shell.execute_reply.started": "2024-11-27T19:25:40.208148Z",
          "shell.execute_reply": "2024-11-27T19:25:40.740889Z"
        },
        "id": "AiIpSKP_3ETs",
        "outputId": "0546051c-3aa1-4cf9-8962-f725d8a81d80",
        "trusted": true
      },
      "outputs": [
        {
          "name": "stdout",
          "text": "<class 'pandas.core.frame.DataFrame'>\nIndex: 1625627 entries, 668560 to 1686015\nData columns (total 44 columns):\n #   Column            Non-Null Count    Dtype  \n---  ------            --------------    -----  \n 0   proto             1625627 non-null  object \n 1   state             1625627 non-null  object \n 2   dur               1625627 non-null  float64\n 3   sbytes            1625627 non-null  int64  \n 4   dbytes            1625627 non-null  int64  \n 5   sttl              1625627 non-null  int64  \n 6   dttl              1625627 non-null  int64  \n 7   sloss             1625627 non-null  int64  \n 8   dloss             1625627 non-null  int64  \n 9   service           1625627 non-null  object \n 10  Sload             1625627 non-null  float64\n 11  Dload             1625627 non-null  float64\n 12  Spkts             1625627 non-null  int64  \n 13  Dpkts             1625627 non-null  int64  \n 14  swin              1625627 non-null  int64  \n 15  dwin              1625627 non-null  int64  \n 16  stcpb             1625627 non-null  int64  \n 17  dtcpb             1625627 non-null  int64  \n 18  smeansz           1625627 non-null  int64  \n 19  dmeansz           1625627 non-null  int64  \n 20  trans_depth       1625627 non-null  int64  \n 21  res_bdy_len       1625627 non-null  int64  \n 22  Sjit              1625627 non-null  float64\n 23  Djit              1625627 non-null  float64\n 24  Stime             1625627 non-null  int64  \n 25  Ltime             1625627 non-null  int64  \n 26  Sintpkt           1625627 non-null  float64\n 27  Dintpkt           1625627 non-null  float64\n 28  tcprtt            1625627 non-null  float64\n 29  synack            1625627 non-null  float64\n 30  ackdat            1625627 non-null  float64\n 31  is_sm_ips_ports   1625627 non-null  int64  \n 32  ct_state_ttl      1625627 non-null  int64  \n 33  ct_flw_http_mthd  1625627 non-null  float64\n 34  is_ftp_login      1625627 non-null  float64\n 35  ct_ftp_cmd        1625627 non-null  int64  \n 36  ct_srv_src        1625627 non-null  int64  \n 37  ct_srv_dst        1625627 non-null  int64  \n 38  ct_dst_ltm        1625627 non-null  int64  \n 39  ct_src_ ltm       1625627 non-null  int64  \n 40  ct_src_dport_ltm  1625627 non-null  int64  \n 41  ct_dst_sport_ltm  1625627 non-null  int64  \n 42  ct_dst_src_ltm    1625627 non-null  int64  \n 43  attack_cat        1625627 non-null  object \ndtypes: float64(12), int64(28), object(4)\nmemory usage: 558.1+ MB\n",
          "output_type": "stream"
        }
      ],
      "execution_count": null
    },
    {
      "cell_type": "code",
      "source": [
        "cat_col = ['proto', 'service', 'state']\n",
        "\n",
        "num_col = list(set(x_train.columns) - set(cat_col))"
      ],
      "metadata": {
        "execution": {
          "iopub.status.busy": "2024-11-27T19:25:40.742852Z",
          "iopub.execute_input": "2024-11-27T19:25:40.743140Z",
          "iopub.status.idle": "2024-11-27T19:25:40.747537Z",
          "shell.execute_reply.started": "2024-11-27T19:25:40.743105Z",
          "shell.execute_reply": "2024-11-27T19:25:40.746615Z"
        },
        "id": "k0dDkhdN3ETt",
        "trusted": true
      },
      "outputs": [],
      "execution_count": null
    },
    {
      "cell_type": "markdown",
      "source": [
        "# **Data Correlation**"
      ],
      "metadata": {
        "id": "JI4QfP-H3ETt"
      }
    },
    {
      "cell_type": "code",
      "source": [
        "# labels = train['Label']\n",
        "\n",
        "\n",
        "\n",
        "# # Create a count plot with Seaborn\n",
        "\n",
        "# sns.countplot(x=labels)\n",
        "\n",
        "\n",
        "\n",
        "# # Add labels and title\n",
        "\n",
        "# plt.xlabel('Class Label')\n",
        "\n",
        "# plt.ylabel('Number of Data Points')\n",
        "\n",
        "# plt.title('Class Distribution')\n",
        "\n",
        "\n",
        "\n",
        "# # Rotate x-axis labels for better readability if there are many classes\n",
        "\n",
        "# plt.xticks(rotation=0)\n",
        "\n",
        "\n",
        "\n",
        "# # Show the plot\n",
        "\n",
        "# plt.show()\n"
      ],
      "metadata": {
        "execution": {
          "iopub.status.busy": "2024-11-27T19:25:40.748467Z",
          "iopub.execute_input": "2024-11-27T19:25:40.748762Z",
          "iopub.status.idle": "2024-11-27T19:25:40.759854Z",
          "shell.execute_reply.started": "2024-11-27T19:25:40.748736Z",
          "shell.execute_reply": "2024-11-27T19:25:40.759166Z"
        },
        "id": "e3oIhhwl3ETu",
        "trusted": true
      },
      "outputs": [],
      "execution_count": null
    },
    {
      "cell_type": "code",
      "source": [
        "# combined_data.drop(columns=['attack_cat'],inplace=True)"
      ],
      "metadata": {
        "execution": {
          "iopub.status.busy": "2024-11-27T19:25:40.760656Z",
          "iopub.execute_input": "2024-11-27T19:25:40.760853Z",
          "iopub.status.idle": "2024-11-27T19:25:40.770123Z",
          "shell.execute_reply.started": "2024-11-27T19:25:40.760833Z",
          "shell.execute_reply": "2024-11-27T19:25:40.769396Z"
        },
        "id": "TcuicIYl3ETv",
        "trusted": true
      },
      "outputs": [],
      "execution_count": null
    },
    {
      "cell_type": "code",
      "source": [
        "del combined_data"
      ],
      "metadata": {
        "execution": {
          "iopub.status.busy": "2024-11-27T19:25:40.771160Z",
          "iopub.execute_input": "2024-11-27T19:25:40.771503Z",
          "iopub.status.idle": "2024-11-27T19:25:40.778124Z",
          "shell.execute_reply.started": "2024-11-27T19:25:40.771469Z",
          "shell.execute_reply": "2024-11-27T19:25:40.777286Z"
        },
        "id": "Ug_GBGHd3ETv",
        "trusted": true
      },
      "outputs": [],
      "execution_count": null
    },
    {
      "cell_type": "markdown",
      "source": [
        "# **Data Preprocessing**"
      ],
      "metadata": {
        "id": "mo2U4ag13ETv"
      }
    },
    {
      "cell_type": "markdown",
      "source": [
        "1.Data encoding : find the categorical features and use OneHotEncoder\n",
        "\n",
        "\n",
        "\n",
        "2.Data Normalization : find numerical features and use StandaraScaler\n",
        "\n",
        "\n",
        "\n",
        "3.Feature Selection : SelectKBest"
      ],
      "metadata": {
        "id": "j1j1Q8ov3ETv"
      }
    },
    {
      "cell_type": "code",
      "source": [
        "scaler = StandardScaler()\n",
        "\n",
        "scaler = scaler.fit(x_train[num_col])\n",
        "\n",
        "x_train[num_col] = scaler.transform(x_train[num_col])\n",
        "\n",
        "x_test[num_col] = scaler.transform(x_test[num_col])\n",
        "\n",
        "x_val[num_col] = scaler.transform(x_val[num_col])"
      ],
      "metadata": {
        "execution": {
          "iopub.status.busy": "2024-11-27T19:25:40.779233Z",
          "iopub.execute_input": "2024-11-27T19:25:40.780016Z",
          "iopub.status.idle": "2024-11-27T19:25:43.022899Z",
          "shell.execute_reply.started": "2024-11-27T19:25:40.779981Z",
          "shell.execute_reply": "2024-11-27T19:25:43.022066Z"
        },
        "id": "4oC7OxuK3ETw",
        "trusted": true
      },
      "outputs": [],
      "execution_count": null
    },
    {
      "cell_type": "code",
      "source": [
        "x_train.isnull().sum()"
      ],
      "metadata": {
        "colab": {
          "base_uri": "https://localhost:8080/",
          "height": 1000
        },
        "execution": {
          "iopub.status.busy": "2024-11-27T19:25:43.024082Z",
          "iopub.execute_input": "2024-11-27T19:25:43.024441Z",
          "iopub.status.idle": "2024-11-27T19:25:43.342931Z",
          "shell.execute_reply.started": "2024-11-27T19:25:43.024396Z",
          "shell.execute_reply": "2024-11-27T19:25:43.342037Z"
        },
        "id": "pLaYP_dq3ETw",
        "outputId": "0145d7e5-8d91-4bde-ce6c-b4dbb0ba38d2",
        "trusted": true
      },
      "outputs": [
        {
          "execution_count": 49,
          "output_type": "execute_result",
          "data": {
            "text/plain": "Name\nproto               0\nstate               0\ndur                 0\nsbytes              0\ndbytes              0\nsttl                0\ndttl                0\nsloss               0\ndloss               0\nservice             0\nSload               0\nDload               0\nSpkts               0\nDpkts               0\nswin                0\ndwin                0\nstcpb               0\ndtcpb               0\nsmeansz             0\ndmeansz             0\ntrans_depth         0\nres_bdy_len         0\nSjit                0\nDjit                0\nStime               0\nLtime               0\nSintpkt             0\nDintpkt             0\ntcprtt              0\nsynack              0\nackdat              0\nis_sm_ips_ports     0\nct_state_ttl        0\nct_flw_http_mthd    0\nis_ftp_login        0\nct_ftp_cmd          0\nct_srv_src          0\nct_srv_dst          0\nct_dst_ltm          0\nct_src_ ltm         0\nct_src_dport_ltm    0\nct_dst_sport_ltm    0\nct_dst_src_ltm      0\ndtype: int64"
          },
          "metadata": {}
        }
      ],
      "execution_count": null
    },
    {
      "cell_type": "code",
      "source": [
        "x_train.head()"
      ],
      "metadata": {
        "colab": {
          "base_uri": "https://localhost:8080/",
          "height": 273
        },
        "execution": {
          "iopub.status.busy": "2024-11-27T19:25:43.343906Z",
          "iopub.execute_input": "2024-11-27T19:25:43.344459Z",
          "iopub.status.idle": "2024-11-27T19:25:43.369168Z",
          "shell.execute_reply.started": "2024-11-27T19:25:43.344420Z",
          "shell.execute_reply": "2024-11-27T19:25:43.368296Z"
        },
        "id": "-0-4JsF-3ETx",
        "outputId": "a61efed7-a457-4720-fbae-1664f0aba952",
        "trusted": true
      },
      "outputs": [
        {
          "execution_count": 50,
          "output_type": "execute_result",
          "data": {
            "text/plain": "Name    proto state       dur    sbytes    dbytes      sttl      dttl  \\\n668560    udp   CON -0.042152 -0.076738 -0.224285 -0.425641 -0.040753   \n1810690   tcp   FIN -0.041193 -0.032713 -0.090640 -0.425641 -0.040753   \n1888748   tcp   FIN -0.041183 -0.032713 -0.090344 -0.425641 -0.040753   \n2146191   udp   CON -0.042155 -0.076738 -0.224285 -0.425641 -0.040753   \n1180304   udp   INT -0.042220 -0.077326 -0.225384  2.564163 -0.718646   \n\nName        sloss     dloss service  ...  ct_flw_http_mthd  is_ftp_login  \\\n668560  -0.236284 -0.287323    None  ...         -0.197719     -0.131672   \n1810690  0.084333 -0.041463    None  ...         -0.197719     -0.131672   \n1888748  0.084333 -0.041463    None  ...         -0.197719     -0.131672   \n2146191 -0.236284 -0.287323     dns  ...         -0.197719     -0.131672   \n1180304 -0.236284 -0.287323     dns  ...         -0.197719     -0.131672   \n\nName     ct_ftp_cmd  ct_srv_src  ct_srv_dst  ct_dst_ltm  ct_src_ ltm  \\\n668560    -0.111036   -0.203678   -0.276173   -0.421367    -0.353420   \n1810690   -0.111036   -0.572721   -0.645688   -0.176521    -0.597013   \n1888748   -0.111036   -0.111417    0.093342    0.068324    -0.231624   \n2146191   -0.111036   -0.572721   -0.460931   -0.421367    -0.353420   \n1180304   -0.111036    2.287361    2.310433    1.659823     1.595323   \n\nName     ct_src_dport_ltm  ct_dst_sport_ltm  ct_dst_src_ltm  \n668560          -0.429432         -0.419821       -0.519213  \n1810690         -0.429432         -0.419821       -0.519213  \n1888748         -0.429432         -0.419821       -0.519213  \n2146191         -0.429432         -0.419821       -0.430408  \n1180304          1.810081          1.360736        2.411326  \n\n[5 rows x 43 columns]",
            "text/html": "<div>\n<style scoped>\n    .dataframe tbody tr th:only-of-type {\n        vertical-align: middle;\n    }\n\n    .dataframe tbody tr th {\n        vertical-align: top;\n    }\n\n    .dataframe thead th {\n        text-align: right;\n    }\n</style>\n<table border=\"1\" class=\"dataframe\">\n  <thead>\n    <tr style=\"text-align: right;\">\n      <th>Name</th>\n      <th>proto</th>\n      <th>state</th>\n      <th>dur</th>\n      <th>sbytes</th>\n      <th>dbytes</th>\n      <th>sttl</th>\n      <th>dttl</th>\n      <th>sloss</th>\n      <th>dloss</th>\n      <th>service</th>\n      <th>...</th>\n      <th>ct_flw_http_mthd</th>\n      <th>is_ftp_login</th>\n      <th>ct_ftp_cmd</th>\n      <th>ct_srv_src</th>\n      <th>ct_srv_dst</th>\n      <th>ct_dst_ltm</th>\n      <th>ct_src_ ltm</th>\n      <th>ct_src_dport_ltm</th>\n      <th>ct_dst_sport_ltm</th>\n      <th>ct_dst_src_ltm</th>\n    </tr>\n  </thead>\n  <tbody>\n    <tr>\n      <th>668560</th>\n      <td>udp</td>\n      <td>CON</td>\n      <td>-0.042152</td>\n      <td>-0.076738</td>\n      <td>-0.224285</td>\n      <td>-0.425641</td>\n      <td>-0.040753</td>\n      <td>-0.236284</td>\n      <td>-0.287323</td>\n      <td>None</td>\n      <td>...</td>\n      <td>-0.197719</td>\n      <td>-0.131672</td>\n      <td>-0.111036</td>\n      <td>-0.203678</td>\n      <td>-0.276173</td>\n      <td>-0.421367</td>\n      <td>-0.353420</td>\n      <td>-0.429432</td>\n      <td>-0.419821</td>\n      <td>-0.519213</td>\n    </tr>\n    <tr>\n      <th>1810690</th>\n      <td>tcp</td>\n      <td>FIN</td>\n      <td>-0.041193</td>\n      <td>-0.032713</td>\n      <td>-0.090640</td>\n      <td>-0.425641</td>\n      <td>-0.040753</td>\n      <td>0.084333</td>\n      <td>-0.041463</td>\n      <td>None</td>\n      <td>...</td>\n      <td>-0.197719</td>\n      <td>-0.131672</td>\n      <td>-0.111036</td>\n      <td>-0.572721</td>\n      <td>-0.645688</td>\n      <td>-0.176521</td>\n      <td>-0.597013</td>\n      <td>-0.429432</td>\n      <td>-0.419821</td>\n      <td>-0.519213</td>\n    </tr>\n    <tr>\n      <th>1888748</th>\n      <td>tcp</td>\n      <td>FIN</td>\n      <td>-0.041183</td>\n      <td>-0.032713</td>\n      <td>-0.090344</td>\n      <td>-0.425641</td>\n      <td>-0.040753</td>\n      <td>0.084333</td>\n      <td>-0.041463</td>\n      <td>None</td>\n      <td>...</td>\n      <td>-0.197719</td>\n      <td>-0.131672</td>\n      <td>-0.111036</td>\n      <td>-0.111417</td>\n      <td>0.093342</td>\n      <td>0.068324</td>\n      <td>-0.231624</td>\n      <td>-0.429432</td>\n      <td>-0.419821</td>\n      <td>-0.519213</td>\n    </tr>\n    <tr>\n      <th>2146191</th>\n      <td>udp</td>\n      <td>CON</td>\n      <td>-0.042155</td>\n      <td>-0.076738</td>\n      <td>-0.224285</td>\n      <td>-0.425641</td>\n      <td>-0.040753</td>\n      <td>-0.236284</td>\n      <td>-0.287323</td>\n      <td>dns</td>\n      <td>...</td>\n      <td>-0.197719</td>\n      <td>-0.131672</td>\n      <td>-0.111036</td>\n      <td>-0.572721</td>\n      <td>-0.460931</td>\n      <td>-0.421367</td>\n      <td>-0.353420</td>\n      <td>-0.429432</td>\n      <td>-0.419821</td>\n      <td>-0.430408</td>\n    </tr>\n    <tr>\n      <th>1180304</th>\n      <td>udp</td>\n      <td>INT</td>\n      <td>-0.042220</td>\n      <td>-0.077326</td>\n      <td>-0.225384</td>\n      <td>2.564163</td>\n      <td>-0.718646</td>\n      <td>-0.236284</td>\n      <td>-0.287323</td>\n      <td>dns</td>\n      <td>...</td>\n      <td>-0.197719</td>\n      <td>-0.131672</td>\n      <td>-0.111036</td>\n      <td>2.287361</td>\n      <td>2.310433</td>\n      <td>1.659823</td>\n      <td>1.595323</td>\n      <td>1.810081</td>\n      <td>1.360736</td>\n      <td>2.411326</td>\n    </tr>\n  </tbody>\n</table>\n<p>5 rows × 43 columns</p>\n</div>"
          },
          "metadata": {}
        }
      ],
      "execution_count": null
    },
    {
      "cell_type": "code",
      "source": [
        "x_test.head()"
      ],
      "metadata": {
        "colab": {
          "base_uri": "https://localhost:8080/",
          "height": 273
        },
        "execution": {
          "iopub.status.busy": "2024-11-27T19:25:43.370178Z",
          "iopub.execute_input": "2024-11-27T19:25:43.370446Z",
          "iopub.status.idle": "2024-11-27T19:25:43.392161Z",
          "shell.execute_reply.started": "2024-11-27T19:25:43.370422Z",
          "shell.execute_reply": "2024-11-27T19:25:43.391266Z"
        },
        "id": "XnzVWW5r3ETx",
        "outputId": "f91a9700-6c94-4744-b082-d0d3c2ad136a",
        "trusted": true
      },
      "outputs": [
        {
          "execution_count": 51,
          "output_type": "execute_result",
          "data": {
            "text/plain": "Name    proto state       dur    sbytes    dbytes      sttl      dttl  \\\n76611     udp   CON -0.042151 -0.076738 -0.224285 -0.425641 -0.040753   \n1677804   tcp   FIN -0.040937  0.605726 -0.205167 -0.425641 -0.040753   \n1094113   tcp   FIN  0.023240 -0.050389 -0.162634 -0.425641 -0.040753   \n326349    tcp   FIN -0.041921 -0.002101 -0.210227 -0.425641 -0.040753   \n2129556   udp   CON -0.042152 -0.077032 -0.224384 -0.425641 -0.040753   \n\nName        sloss     dloss service  ...  ct_flw_http_mthd  is_ftp_login  \\\n76611   -0.236284 -0.287323     dns  ...         -0.197719     -0.131672   \n1677804  0.588160 -0.146831    smtp  ...         -0.197719     -0.131672   \n1094113 -0.098877 -0.199516    http  ...          1.588390     -0.131672   \n326349   0.084333 -0.164393    None  ...         -0.197719     -0.131672   \n2129556 -0.236284 -0.287323     dns  ...         -0.197719     -0.131672   \n\nName     ct_ftp_cmd  ct_srv_src  ct_srv_dst  ct_dst_ltm  ct_src_ ltm  \\\n76611     -0.111036   -0.388199   -0.460931   -0.421367    -0.109827   \n1677804   -0.111036   -0.757242   -0.738067   -0.666213    -0.718810   \n1094113   -0.111036   -0.757242   -0.553310   -0.298944    -0.109827   \n326349    -0.111036   -0.203678   -0.368552   -0.298944    -0.475217   \n2129556   -0.111036   -0.480460   -0.553310   -0.421367    -0.353420   \n\nName     ct_src_dport_ltm  ct_dst_sport_ltm  ct_dst_src_ltm  \n76611           -0.429432         -0.419821       -0.430408  \n1677804         -0.429432         -0.419821       -0.519213  \n1094113         -0.429432         -0.419821       -0.341604  \n326349          -0.429432         -0.419821       -0.163996  \n2129556         -0.429432         -0.419821       -0.341604  \n\n[5 rows x 43 columns]",
            "text/html": "<div>\n<style scoped>\n    .dataframe tbody tr th:only-of-type {\n        vertical-align: middle;\n    }\n\n    .dataframe tbody tr th {\n        vertical-align: top;\n    }\n\n    .dataframe thead th {\n        text-align: right;\n    }\n</style>\n<table border=\"1\" class=\"dataframe\">\n  <thead>\n    <tr style=\"text-align: right;\">\n      <th>Name</th>\n      <th>proto</th>\n      <th>state</th>\n      <th>dur</th>\n      <th>sbytes</th>\n      <th>dbytes</th>\n      <th>sttl</th>\n      <th>dttl</th>\n      <th>sloss</th>\n      <th>dloss</th>\n      <th>service</th>\n      <th>...</th>\n      <th>ct_flw_http_mthd</th>\n      <th>is_ftp_login</th>\n      <th>ct_ftp_cmd</th>\n      <th>ct_srv_src</th>\n      <th>ct_srv_dst</th>\n      <th>ct_dst_ltm</th>\n      <th>ct_src_ ltm</th>\n      <th>ct_src_dport_ltm</th>\n      <th>ct_dst_sport_ltm</th>\n      <th>ct_dst_src_ltm</th>\n    </tr>\n  </thead>\n  <tbody>\n    <tr>\n      <th>76611</th>\n      <td>udp</td>\n      <td>CON</td>\n      <td>-0.042151</td>\n      <td>-0.076738</td>\n      <td>-0.224285</td>\n      <td>-0.425641</td>\n      <td>-0.040753</td>\n      <td>-0.236284</td>\n      <td>-0.287323</td>\n      <td>dns</td>\n      <td>...</td>\n      <td>-0.197719</td>\n      <td>-0.131672</td>\n      <td>-0.111036</td>\n      <td>-0.388199</td>\n      <td>-0.460931</td>\n      <td>-0.421367</td>\n      <td>-0.109827</td>\n      <td>-0.429432</td>\n      <td>-0.419821</td>\n      <td>-0.430408</td>\n    </tr>\n    <tr>\n      <th>1677804</th>\n      <td>tcp</td>\n      <td>FIN</td>\n      <td>-0.040937</td>\n      <td>0.605726</td>\n      <td>-0.205167</td>\n      <td>-0.425641</td>\n      <td>-0.040753</td>\n      <td>0.588160</td>\n      <td>-0.146831</td>\n      <td>smtp</td>\n      <td>...</td>\n      <td>-0.197719</td>\n      <td>-0.131672</td>\n      <td>-0.111036</td>\n      <td>-0.757242</td>\n      <td>-0.738067</td>\n      <td>-0.666213</td>\n      <td>-0.718810</td>\n      <td>-0.429432</td>\n      <td>-0.419821</td>\n      <td>-0.519213</td>\n    </tr>\n    <tr>\n      <th>1094113</th>\n      <td>tcp</td>\n      <td>FIN</td>\n      <td>0.023240</td>\n      <td>-0.050389</td>\n      <td>-0.162634</td>\n      <td>-0.425641</td>\n      <td>-0.040753</td>\n      <td>-0.098877</td>\n      <td>-0.199516</td>\n      <td>http</td>\n      <td>...</td>\n      <td>1.588390</td>\n      <td>-0.131672</td>\n      <td>-0.111036</td>\n      <td>-0.757242</td>\n      <td>-0.553310</td>\n      <td>-0.298944</td>\n      <td>-0.109827</td>\n      <td>-0.429432</td>\n      <td>-0.419821</td>\n      <td>-0.341604</td>\n    </tr>\n    <tr>\n      <th>326349</th>\n      <td>tcp</td>\n      <td>FIN</td>\n      <td>-0.041921</td>\n      <td>-0.002101</td>\n      <td>-0.210227</td>\n      <td>-0.425641</td>\n      <td>-0.040753</td>\n      <td>0.084333</td>\n      <td>-0.164393</td>\n      <td>None</td>\n      <td>...</td>\n      <td>-0.197719</td>\n      <td>-0.131672</td>\n      <td>-0.111036</td>\n      <td>-0.203678</td>\n      <td>-0.368552</td>\n      <td>-0.298944</td>\n      <td>-0.475217</td>\n      <td>-0.429432</td>\n      <td>-0.419821</td>\n      <td>-0.163996</td>\n    </tr>\n    <tr>\n      <th>2129556</th>\n      <td>udp</td>\n      <td>CON</td>\n      <td>-0.042152</td>\n      <td>-0.077032</td>\n      <td>-0.224384</td>\n      <td>-0.425641</td>\n      <td>-0.040753</td>\n      <td>-0.236284</td>\n      <td>-0.287323</td>\n      <td>dns</td>\n      <td>...</td>\n      <td>-0.197719</td>\n      <td>-0.131672</td>\n      <td>-0.111036</td>\n      <td>-0.480460</td>\n      <td>-0.553310</td>\n      <td>-0.421367</td>\n      <td>-0.353420</td>\n      <td>-0.429432</td>\n      <td>-0.419821</td>\n      <td>-0.341604</td>\n    </tr>\n  </tbody>\n</table>\n<p>5 rows × 43 columns</p>\n</div>"
          },
          "metadata": {}
        }
      ],
      "execution_count": null
    },
    {
      "cell_type": "code",
      "source": [
        "type(x_train)"
      ],
      "metadata": {
        "colab": {
          "base_uri": "https://localhost:8080/",
          "height": 203
        },
        "execution": {
          "iopub.status.busy": "2024-11-27T19:25:43.393126Z",
          "iopub.execute_input": "2024-11-27T19:25:43.393406Z",
          "iopub.status.idle": "2024-11-27T19:25:43.398509Z",
          "shell.execute_reply.started": "2024-11-27T19:25:43.393345Z",
          "shell.execute_reply": "2024-11-27T19:25:43.397595Z"
        },
        "id": "ldTsu7K93ETx",
        "outputId": "4f250938-2bcc-46ac-8bca-1f2af5e61320",
        "trusted": true
      },
      "outputs": [
        {
          "execution_count": 52,
          "output_type": "execute_result",
          "data": {
            "text/plain": "pandas.core.frame.DataFrame"
          },
          "metadata": {}
        }
      ],
      "execution_count": null
    },
    {
      "cell_type": "code",
      "source": [
        "x_train.shape"
      ],
      "metadata": {
        "colab": {
          "base_uri": "https://localhost:8080/"
        },
        "execution": {
          "iopub.status.busy": "2024-11-27T19:25:43.399661Z",
          "iopub.execute_input": "2024-11-27T19:25:43.399980Z",
          "iopub.status.idle": "2024-11-27T19:25:43.406958Z",
          "shell.execute_reply.started": "2024-11-27T19:25:43.399945Z",
          "shell.execute_reply": "2024-11-27T19:25:43.406135Z"
        },
        "id": "5Dfn4bbw3ETy",
        "outputId": "4d2b280d-aa25-4ead-f770-c35a4b247fd0",
        "trusted": true
      },
      "outputs": [
        {
          "execution_count": 53,
          "output_type": "execute_result",
          "data": {
            "text/plain": "(1625627, 43)"
          },
          "metadata": {}
        }
      ],
      "execution_count": null
    },
    {
      "cell_type": "code",
      "source": [
        "x_test.shape"
      ],
      "metadata": {
        "colab": {
          "base_uri": "https://localhost:8080/"
        },
        "execution": {
          "iopub.status.busy": "2024-11-27T19:25:43.407982Z",
          "iopub.execute_input": "2024-11-27T19:25:43.408338Z",
          "iopub.status.idle": "2024-11-27T19:25:43.416147Z",
          "shell.execute_reply.started": "2024-11-27T19:25:43.408299Z",
          "shell.execute_reply": "2024-11-27T19:25:43.415277Z"
        },
        "id": "xYlVeRIK3ETy",
        "outputId": "c817fa8d-020c-40a7-b4b0-275ba4ba4497",
        "trusted": true
      },
      "outputs": [
        {
          "execution_count": 54,
          "output_type": "execute_result",
          "data": {
            "text/plain": "(508009, 43)"
          },
          "metadata": {}
        }
      ],
      "execution_count": null
    },
    {
      "cell_type": "code",
      "source": [
        "x_val.shape"
      ],
      "metadata": {
        "colab": {
          "base_uri": "https://localhost:8080/"
        },
        "execution": {
          "iopub.status.busy": "2024-11-27T19:25:43.417264Z",
          "iopub.execute_input": "2024-11-27T19:25:43.417626Z",
          "iopub.status.idle": "2024-11-27T19:25:43.424423Z",
          "shell.execute_reply.started": "2024-11-27T19:25:43.417588Z",
          "shell.execute_reply": "2024-11-27T19:25:43.423579Z"
        },
        "id": "__TuGeX03ETy",
        "outputId": "baeb7016-9e0b-4834-ef8b-cda321f33731",
        "trusted": true
      },
      "outputs": [
        {
          "execution_count": 55,
          "output_type": "execute_result",
          "data": {
            "text/plain": "(406407, 43)"
          },
          "metadata": {}
        }
      ],
      "execution_count": null
    },
    {
      "cell_type": "code",
      "source": [
        "from sklearn.preprocessing import OneHotEncoder\n",
        "\n",
        "from sklearn.compose import ColumnTransformer\n",
        "\n",
        "\n",
        "\n",
        "# Define your ColumnTransformer\n",
        "\n",
        "ct = ColumnTransformer(\n",
        "\n",
        "    transformers=[('encoder', OneHotEncoder(sparse_output=False), cat_col)],\n",
        "\n",
        "    remainder='passthrough'\n",
        "\n",
        ")\n",
        "\n",
        "\n",
        "\n",
        "# Transform the datasets\n",
        "\n",
        "x_train = np.array(ct.fit_transform(x_train))\n",
        "\n",
        "x_test = np.array(ct.transform(x_test))\n",
        "\n",
        "x_val = np.array(ct.transform(x_val))\n"
      ],
      "metadata": {
        "execution": {
          "iopub.status.busy": "2024-11-27T19:25:43.425591Z",
          "iopub.execute_input": "2024-11-27T19:25:43.425904Z",
          "iopub.status.idle": "2024-11-27T19:25:53.549032Z",
          "shell.execute_reply.started": "2024-11-27T19:25:43.425868Z",
          "shell.execute_reply": "2024-11-27T19:25:53.548090Z"
        },
        "id": "QwC8-_HE3ETy",
        "trusted": true
      },
      "outputs": [],
      "execution_count": null
    },
    {
      "cell_type": "code",
      "source": [
        "y_train.info()"
      ],
      "metadata": {
        "colab": {
          "base_uri": "https://localhost:8080/"
        },
        "execution": {
          "iopub.status.busy": "2024-11-27T19:25:53.550130Z",
          "iopub.execute_input": "2024-11-27T19:25:53.550389Z",
          "iopub.status.idle": "2024-11-27T19:25:53.792216Z",
          "shell.execute_reply.started": "2024-11-27T19:25:53.550347Z",
          "shell.execute_reply": "2024-11-27T19:25:53.791289Z"
        },
        "id": "tk6c5QMt3ETy",
        "outputId": "9fcb816d-67a9-436f-ef73-01a0800b1bf6",
        "trusted": true
      },
      "outputs": [
        {
          "name": "stdout",
          "text": "<class 'pandas.core.frame.DataFrame'>\nIndex: 1625627 entries, 668560 to 1686015\nData columns (total 1 columns):\n #   Column      Non-Null Count    Dtype \n---  ------      --------------    ----- \n 0   attack_cat  1625627 non-null  object\ndtypes: object(1)\nmemory usage: 24.8+ MB\n",
          "output_type": "stream"
        }
      ],
      "execution_count": null
    },
    {
      "cell_type": "code",
      "source": [
        "y_train.columns"
      ],
      "metadata": {
        "colab": {
          "base_uri": "https://localhost:8080/"
        },
        "execution": {
          "iopub.status.busy": "2024-11-27T19:25:53.793593Z",
          "iopub.execute_input": "2024-11-27T19:25:53.794513Z",
          "iopub.status.idle": "2024-11-27T19:25:53.800254Z",
          "shell.execute_reply.started": "2024-11-27T19:25:53.794471Z",
          "shell.execute_reply": "2024-11-27T19:25:53.799497Z"
        },
        "id": "0qyGfAKy3ETz",
        "outputId": "78a34bea-9437-453e-9cc2-b470b27ea903",
        "trusted": true
      },
      "outputs": [
        {
          "execution_count": 58,
          "output_type": "execute_result",
          "data": {
            "text/plain": "Index(['attack_cat'], dtype='object', name='Name')"
          },
          "metadata": {}
        }
      ],
      "execution_count": null
    },
    {
      "cell_type": "code",
      "source": [
        "attacks = y_train['attack_cat'].unique()"
      ],
      "metadata": {
        "execution": {
          "iopub.status.busy": "2024-11-27T19:25:53.801222Z",
          "iopub.execute_input": "2024-11-27T19:25:53.801488Z",
          "iopub.status.idle": "2024-11-27T19:25:54.130516Z",
          "shell.execute_reply.started": "2024-11-27T19:25:53.801463Z",
          "shell.execute_reply": "2024-11-27T19:25:54.129756Z"
        },
        "id": "ceHBIT-g3ETz",
        "trusted": true
      },
      "outputs": [],
      "execution_count": null
    },
    {
      "cell_type": "code",
      "source": [
        "attacks"
      ],
      "metadata": {
        "colab": {
          "base_uri": "https://localhost:8080/"
        },
        "execution": {
          "iopub.status.busy": "2024-11-27T19:25:54.131512Z",
          "iopub.execute_input": "2024-11-27T19:25:54.131781Z",
          "iopub.status.idle": "2024-11-27T19:25:54.137115Z",
          "shell.execute_reply.started": "2024-11-27T19:25:54.131756Z",
          "shell.execute_reply": "2024-11-27T19:25:54.136278Z"
        },
        "id": "aNg0fWR93ETz",
        "outputId": "d60ca058-fc44-467b-c6c6-a5b56fd59897",
        "trusted": true
      },
      "outputs": [
        {
          "execution_count": 60,
          "output_type": "execute_result",
          "data": {
            "text/plain": "array(['normal', 'generic', 'exploits', 'backdoor', 'analysis', 'dos',\n       'reconnaissance', 'fuzzers', 'shellcode', 'worms'], dtype=object)"
          },
          "metadata": {}
        }
      ],
      "execution_count": null
    },
    {
      "cell_type": "code",
      "source": [
        "# Get unique elements and their counts\n",
        "\n",
        "unique_values, counts = np.unique(y_train, return_counts=True)\n",
        "\n",
        "\n",
        "\n",
        "# Print the unique values and their corresponding counts\n",
        "\n",
        "for value, count in zip(unique_values, counts):\n",
        "\n",
        "    print(f\"Value: {value}, Count: {count}\")"
      ],
      "metadata": {
        "colab": {
          "base_uri": "https://localhost:8080/"
        },
        "execution": {
          "iopub.status.busy": "2024-11-27T19:25:54.138237Z",
          "iopub.execute_input": "2024-11-27T19:25:54.138808Z",
          "iopub.status.idle": "2024-11-27T19:25:56.966451Z",
          "shell.execute_reply.started": "2024-11-27T19:25:54.138772Z",
          "shell.execute_reply": "2024-11-27T19:25:56.965512Z"
        },
        "id": "ktyAA_UI3ETz",
        "outputId": "4bec0336-1264-4bae-e282-13f29c471b09",
        "trusted": true
      },
      "outputs": [
        {
          "name": "stdout",
          "text": "Value: analysis, Count: 1728\nValue: backdoor, Count: 1441\nValue: dos, Count: 10499\nValue: exploits, Count: 28367\nValue: fuzzers, Count: 15455\nValue: generic, Count: 137810\nValue: normal, Count: 1420330\nValue: reconnaissance, Count: 8909\nValue: shellcode, Count: 980\nValue: worms, Count: 108\n",
          "output_type": "stream"
        }
      ],
      "execution_count": null
    },
    {
      "cell_type": "code",
      "source": [
        "# Get unique elements and their counts\n",
        "\n",
        "unique_values, counts = np.unique(y_test, return_counts=True)\n",
        "\n",
        "\n",
        "\n",
        "# Print the unique values and their corresponding counts\n",
        "\n",
        "for value, count in zip(unique_values, counts):\n",
        "\n",
        "    print(f\"Value: {value}, Count: {count}\")"
      ],
      "metadata": {
        "colab": {
          "base_uri": "https://localhost:8080/"
        },
        "execution": {
          "iopub.status.busy": "2024-11-27T19:25:56.967563Z",
          "iopub.execute_input": "2024-11-27T19:25:56.967861Z",
          "iopub.status.idle": "2024-11-27T19:25:57.700147Z",
          "shell.execute_reply.started": "2024-11-27T19:25:56.967836Z",
          "shell.execute_reply": "2024-11-27T19:25:57.699246Z"
        },
        "id": "vKRdvdv83ETz",
        "outputId": "7b90b8e1-9958-472a-f6ac-11c1b7e05199",
        "trusted": true
      },
      "outputs": [
        {
          "name": "stdout",
          "text": "Value: analysis, Count: 524\nValue: backdoor, Count: 496\nValue: dos, Count: 3225\nValue: exploits, Count: 9003\nValue: fuzzers, Count: 4898\nValue: generic, Count: 43092\nValue: normal, Count: 443659\nValue: reconnaissance, Count: 2780\nValue: shellcode, Count: 288\nValue: worms, Count: 44\n",
          "output_type": "stream"
        }
      ],
      "execution_count": null
    },
    {
      "cell_type": "code",
      "source": [
        "from sklearn.compose import ColumnTransformer\n",
        "\n",
        "from sklearn.preprocessing import OneHotEncoder\n",
        "\n",
        "import numpy as np\n",
        "\n",
        "\n",
        "\n",
        "ct1 = ColumnTransformer(\n",
        "\n",
        "    transformers=[('encoder', OneHotEncoder(categories=[attacks], sparse_output=False), ['attack_cat'])],\n",
        "\n",
        "    remainder='passthrough'\n",
        "\n",
        ")\n",
        "\n",
        "\n",
        "\n",
        "y_train = np.array(ct1.fit_transform(y_train))\n",
        "\n",
        "y_test = np.array(ct1.transform(y_test))\n",
        "\n",
        "y_val = np.array(ct1.transform(y_val))\n"
      ],
      "metadata": {
        "execution": {
          "iopub.status.busy": "2024-11-27T19:25:57.701212Z",
          "iopub.execute_input": "2024-11-27T19:25:57.701517Z",
          "iopub.status.idle": "2024-11-27T19:25:59.749663Z",
          "shell.execute_reply.started": "2024-11-27T19:25:57.701490Z",
          "shell.execute_reply": "2024-11-27T19:25:59.748673Z"
        },
        "id": "JBqqrUJo3ET0",
        "trusted": true
      },
      "outputs": [],
      "execution_count": null
    },
    {
      "cell_type": "code",
      "source": [
        "print(x_train)"
      ],
      "metadata": {
        "colab": {
          "base_uri": "https://localhost:8080/"
        },
        "execution": {
          "iopub.status.busy": "2024-11-27T19:25:59.750884Z",
          "iopub.execute_input": "2024-11-27T19:25:59.751554Z",
          "iopub.status.idle": "2024-11-27T19:25:59.756790Z",
          "shell.execute_reply.started": "2024-11-27T19:25:59.751514Z",
          "shell.execute_reply": "2024-11-27T19:25:59.755871Z"
        },
        "id": "_k_U_3BG3ET0",
        "outputId": "c5c5ea0f-4481-46a5-dc55-6d96cf971957",
        "trusted": true
      },
      "outputs": [
        {
          "name": "stdout",
          "text": "[[ 0.          0.          0.         ... -0.42943209 -0.41982139\n  -0.5192126 ]\n [ 0.          0.          0.         ... -0.42943209 -0.41982139\n  -0.5192126 ]\n [ 0.          0.          0.         ... -0.42943209 -0.41982139\n  -0.5192126 ]\n ...\n [ 0.          0.          0.         ... -0.42943209 -0.41982139\n  -0.16399583]\n [ 0.          0.          0.         ... -0.42943209 -0.41982139\n  -0.5192126 ]\n [ 0.          0.          0.         ...  0.39565179  0.71326043\n   0.8128503 ]]\n",
          "output_type": "stream"
        }
      ],
      "execution_count": null
    },
    {
      "cell_type": "code",
      "source": [
        "print(x_test)"
      ],
      "metadata": {
        "colab": {
          "base_uri": "https://localhost:8080/"
        },
        "execution": {
          "iopub.status.busy": "2024-11-27T19:25:59.757769Z",
          "iopub.execute_input": "2024-11-27T19:25:59.757982Z",
          "iopub.status.idle": "2024-11-27T19:25:59.766593Z",
          "shell.execute_reply.started": "2024-11-27T19:25:59.757961Z",
          "shell.execute_reply": "2024-11-27T19:25:59.765852Z"
        },
        "id": "3m2dFbnC3ET0",
        "outputId": "b241b2d9-9f57-412e-9d66-31380b2ba1ad",
        "trusted": true
      },
      "outputs": [
        {
          "name": "stdout",
          "text": "[[ 0.          0.          0.         ... -0.42943209 -0.41982139\n  -0.43040841]\n [ 0.          0.          0.         ... -0.42943209 -0.41982139\n  -0.5192126 ]\n [ 0.          0.          0.         ... -0.42943209 -0.41982139\n  -0.34160422]\n ...\n [ 0.          0.          0.         ... -0.42943209 -0.41982139\n  -0.5192126 ]\n [ 0.          0.          0.         ... -0.42943209 -0.41982139\n  -0.34160422]\n [ 0.          0.          0.         ...  1.33860479  2.00821109\n   0.8128503 ]]\n",
          "output_type": "stream"
        }
      ],
      "execution_count": null
    },
    {
      "cell_type": "code",
      "source": [
        "print(y_train)"
      ],
      "metadata": {
        "colab": {
          "base_uri": "https://localhost:8080/"
        },
        "execution": {
          "iopub.status.busy": "2024-11-27T19:25:59.767728Z",
          "iopub.execute_input": "2024-11-27T19:25:59.768430Z",
          "iopub.status.idle": "2024-11-27T19:25:59.777700Z",
          "shell.execute_reply.started": "2024-11-27T19:25:59.768392Z",
          "shell.execute_reply": "2024-11-27T19:25:59.776897Z"
        },
        "id": "ZBTah3jT3ET0",
        "outputId": "72efd7c7-2af0-4842-b656-324d700e0ccd",
        "trusted": true
      },
      "outputs": [
        {
          "name": "stdout",
          "text": "[[1. 0. 0. ... 0. 0. 0.]\n [1. 0. 0. ... 0. 0. 0.]\n [1. 0. 0. ... 0. 0. 0.]\n ...\n [1. 0. 0. ... 0. 0. 0.]\n [1. 0. 0. ... 0. 0. 0.]\n [1. 0. 0. ... 0. 0. 0.]]\n",
          "output_type": "stream"
        }
      ],
      "execution_count": null
    },
    {
      "cell_type": "code",
      "source": [
        "print(y_test)"
      ],
      "metadata": {
        "colab": {
          "base_uri": "https://localhost:8080/"
        },
        "execution": {
          "iopub.status.busy": "2024-11-27T19:25:59.778582Z",
          "iopub.execute_input": "2024-11-27T19:25:59.778904Z",
          "iopub.status.idle": "2024-11-27T19:25:59.786154Z",
          "shell.execute_reply.started": "2024-11-27T19:25:59.778881Z",
          "shell.execute_reply": "2024-11-27T19:25:59.785298Z"
        },
        "id": "Dq-z_-ix3ET1",
        "outputId": "fd1cce08-7830-440e-8465-a9c5329ad8f1",
        "trusted": true
      },
      "outputs": [
        {
          "name": "stdout",
          "text": "[[1. 0. 0. ... 0. 0. 0.]\n [1. 0. 0. ... 0. 0. 0.]\n [1. 0. 0. ... 0. 0. 0.]\n ...\n [1. 0. 0. ... 0. 0. 0.]\n [1. 0. 0. ... 0. 0. 0.]\n [1. 0. 0. ... 0. 0. 0.]]\n",
          "output_type": "stream"
        }
      ],
      "execution_count": null
    },
    {
      "cell_type": "code",
      "source": [
        "y_train.shape"
      ],
      "metadata": {
        "colab": {
          "base_uri": "https://localhost:8080/"
        },
        "execution": {
          "iopub.status.busy": "2024-11-27T19:25:59.787342Z",
          "iopub.execute_input": "2024-11-27T19:25:59.787635Z",
          "iopub.status.idle": "2024-11-27T19:25:59.795028Z",
          "shell.execute_reply.started": "2024-11-27T19:25:59.787610Z",
          "shell.execute_reply": "2024-11-27T19:25:59.794117Z"
        },
        "id": "ZH10ZYXj3ET1",
        "outputId": "3437eb63-2836-4a7d-dd65-928101290f12",
        "trusted": true
      },
      "outputs": [
        {
          "execution_count": 68,
          "output_type": "execute_result",
          "data": {
            "text/plain": "(1625627, 10)"
          },
          "metadata": {}
        }
      ],
      "execution_count": null
    },
    {
      "cell_type": "code",
      "source": [
        "x_train.shape"
      ],
      "metadata": {
        "colab": {
          "base_uri": "https://localhost:8080/"
        },
        "execution": {
          "iopub.status.busy": "2024-11-27T19:25:59.796055Z",
          "iopub.execute_input": "2024-11-27T19:25:59.796329Z",
          "iopub.status.idle": "2024-11-27T19:25:59.803780Z",
          "shell.execute_reply.started": "2024-11-27T19:25:59.796304Z",
          "shell.execute_reply": "2024-11-27T19:25:59.803016Z"
        },
        "id": "0pCB1U6f3ET1",
        "outputId": "e98ac5c2-d1dd-4ceb-e95c-e3d43402babf",
        "trusted": true
      },
      "outputs": [
        {
          "execution_count": 69,
          "output_type": "execute_result",
          "data": {
            "text/plain": "(1625627, 204)"
          },
          "metadata": {}
        }
      ],
      "execution_count": null
    },
    {
      "cell_type": "code",
      "source": [
        "x_test.shape"
      ],
      "metadata": {
        "colab": {
          "base_uri": "https://localhost:8080/"
        },
        "execution": {
          "iopub.status.busy": "2024-11-27T19:25:59.804573Z",
          "iopub.execute_input": "2024-11-27T19:25:59.804790Z",
          "iopub.status.idle": "2024-11-27T19:25:59.812718Z",
          "shell.execute_reply.started": "2024-11-27T19:25:59.804768Z",
          "shell.execute_reply": "2024-11-27T19:25:59.811866Z"
        },
        "id": "EoLqNPu03ET1",
        "outputId": "ad801968-d028-4e3b-d45a-16196df754d4",
        "trusted": true
      },
      "outputs": [
        {
          "execution_count": 70,
          "output_type": "execute_result",
          "data": {
            "text/plain": "(508009, 204)"
          },
          "metadata": {}
        }
      ],
      "execution_count": null
    },
    {
      "cell_type": "code",
      "source": [
        "x_train.reshape(-1,1).shape"
      ],
      "metadata": {
        "colab": {
          "base_uri": "https://localhost:8080/"
        },
        "execution": {
          "iopub.status.busy": "2024-11-27T19:25:59.813628Z",
          "iopub.execute_input": "2024-11-27T19:25:59.813867Z",
          "iopub.status.idle": "2024-11-27T19:25:59.824624Z",
          "shell.execute_reply.started": "2024-11-27T19:25:59.813844Z",
          "shell.execute_reply": "2024-11-27T19:25:59.823863Z"
        },
        "id": "I39V86dH3ET2",
        "outputId": "271ee216-e0e8-4948-a277-8f22228bf3ff",
        "trusted": true
      },
      "outputs": [
        {
          "execution_count": 71,
          "output_type": "execute_result",
          "data": {
            "text/plain": "(331627908, 1)"
          },
          "metadata": {}
        }
      ],
      "execution_count": null
    },
    {
      "cell_type": "code",
      "source": [
        "x_train.shape"
      ],
      "metadata": {
        "colab": {
          "base_uri": "https://localhost:8080/"
        },
        "execution": {
          "iopub.status.busy": "2024-11-27T19:25:59.825592Z",
          "iopub.execute_input": "2024-11-27T19:25:59.825822Z",
          "iopub.status.idle": "2024-11-27T19:25:59.833941Z",
          "shell.execute_reply.started": "2024-11-27T19:25:59.825800Z",
          "shell.execute_reply": "2024-11-27T19:25:59.833131Z"
        },
        "id": "XPlFgatW3ET2",
        "outputId": "f1830fb8-cd0f-4bb7-b740-669b14b05d42",
        "trusted": true
      },
      "outputs": [
        {
          "execution_count": 72,
          "output_type": "execute_result",
          "data": {
            "text/plain": "(1625627, 204)"
          },
          "metadata": {}
        }
      ],
      "execution_count": null
    },
    {
      "cell_type": "code",
      "source": [
        "x_val.shape"
      ],
      "metadata": {
        "colab": {
          "base_uri": "https://localhost:8080/"
        },
        "execution": {
          "iopub.status.busy": "2024-11-27T19:25:59.834978Z",
          "iopub.execute_input": "2024-11-27T19:25:59.835867Z",
          "iopub.status.idle": "2024-11-27T19:25:59.841918Z",
          "shell.execute_reply.started": "2024-11-27T19:25:59.835830Z",
          "shell.execute_reply": "2024-11-27T19:25:59.841158Z"
        },
        "id": "dZrAfDHD3ET2",
        "outputId": "6b82741b-6f14-478b-c3b0-323dca269764",
        "trusted": true
      },
      "outputs": [
        {
          "execution_count": 73,
          "output_type": "execute_result",
          "data": {
            "text/plain": "(406407, 204)"
          },
          "metadata": {}
        }
      ],
      "execution_count": null
    },
    {
      "cell_type": "markdown",
      "source": [
        "# **Training Model**"
      ],
      "metadata": {
        "id": "p0CWN1RO3ET2"
      }
    },
    {
      "cell_type": "code",
      "source": [
        "from tensorflow.keras.models import Sequential\n",
        "\n",
        "from tensorflow.keras.layers import Conv1D, MaxPooling1D, BatchNormalization, LSTM, Dense, Dropout"
      ],
      "metadata": {
        "execution": {
          "iopub.status.busy": "2024-11-27T19:25:59.842927Z",
          "iopub.execute_input": "2024-11-27T19:25:59.843185Z",
          "iopub.status.idle": "2024-11-27T19:25:59.900305Z",
          "shell.execute_reply.started": "2024-11-27T19:25:59.843161Z",
          "shell.execute_reply": "2024-11-27T19:25:59.899559Z"
        },
        "id": "sgf4nYqC3ET3",
        "trusted": true
      },
      "outputs": [],
      "execution_count": null
    },
    {
      "cell_type": "code",
      "source": [
        "# Define model parameters\n",
        "\n",
        "n_features = x_train.shape[1]  # Number of features from training data\n",
        "\n",
        "\n",
        "\n",
        "# Define the model\n",
        "\n",
        "model = Sequential()\n",
        "\n",
        "\n",
        "\n",
        "# First convolutional block\n",
        "\n",
        "model.add(Conv1D(filters=16, kernel_size=1, activation='relu', input_shape=(n_features,1)))\n",
        "\n",
        "model.add(MaxPooling1D(pool_size=2))\n",
        "\n",
        "model.add(BatchNormalization())\n",
        "\n",
        "\n",
        "\n",
        "# First LSTM block\n",
        "\n",
        "model.add(LSTM(units=16, return_sequences=True))\n",
        "\n",
        "#model.add(Dropout(0.2))  # Added dropout after LSTM\n",
        "\n",
        "\n",
        "\n",
        "# Second convolutional block\n",
        "\n",
        "model.add(Conv1D(filters=32, kernel_size=3, activation='relu'))\n",
        "\n",
        "model.add(MaxPooling1D(pool_size=2))\n",
        "\n",
        "model.add(BatchNormalization())\n",
        "\n",
        "\n",
        "\n",
        "# Second LSTM block\n",
        "\n",
        "model.add(LSTM(units=32, return_sequences=True))\n",
        "\n",
        "#model.add(Dropout(0.2))  # Added dropout after LSTM\n",
        "\n",
        "\n",
        "\n",
        "# Third convolutional block\n",
        "\n",
        "model.add(Conv1D(filters=64, kernel_size=5, activation='relu'))\n",
        "\n",
        "model.add(MaxPooling1D(pool_size=2))\n",
        "\n",
        "model.add(BatchNormalization())\n",
        "\n",
        "\n",
        "\n",
        "# Third LSTM block\n",
        "\n",
        "model.add(LSTM(units=64))\n",
        "\n",
        "#model.add(Dropout(0.2))  # Added dropout after LSTM\n",
        "\n",
        "\n",
        "\n",
        "# Dense layers\n",
        "\n",
        "model.add(Dense(64, activation='relu'))\n",
        "\n",
        "model.add(Dropout(0.2))  # Adjusted dropout rate for dense layer\n",
        "\n",
        "\n",
        "\n",
        "model.add(Dense(10, activation='softmax'))  # Output layer for 10 classes\n",
        "\n",
        "\n",
        "\n",
        "# Compile the model\n",
        "\n",
        "model.compile(optimizer='adam', loss='categorical_crossentropy', metrics=['accuracy', tf.keras.metrics.Precision(), tf.keras.metrics.Recall()])\n",
        "\n",
        "\n",
        "\n",
        "model.summary()"
      ],
      "metadata": {
        "colab": {
          "base_uri": "https://localhost:8080/",
          "height": 712
        },
        "id": "464MZC-F3ET3",
        "outputId": "15ddba3e-20da-4c72-9ec2-596095e6bc58",
        "trusted": true,
        "execution": {
          "iopub.status.busy": "2024-11-27T19:25:59.901349Z",
          "iopub.execute_input": "2024-11-27T19:25:59.901681Z",
          "iopub.status.idle": "2024-11-27T19:26:01.407668Z",
          "shell.execute_reply.started": "2024-11-27T19:25:59.901646Z",
          "shell.execute_reply": "2024-11-27T19:26:01.406897Z"
        }
      },
      "outputs": [
        {
          "name": "stderr",
          "text": "/opt/conda/lib/python3.10/site-packages/keras/src/layers/convolutional/base_conv.py:107: UserWarning: Do not pass an `input_shape`/`input_dim` argument to a layer. When using Sequential models, prefer using an `Input(shape)` object as the first layer in the model instead.\n  super().__init__(activity_regularizer=activity_regularizer, **kwargs)\n",
          "output_type": "stream"
        },
        {
          "output_type": "display_data",
          "data": {
            "text/plain": "\u001b[1mModel: \"sequential\"\u001b[0m\n",
            "text/html": "<pre style=\"white-space:pre;overflow-x:auto;line-height:normal;font-family:Menlo,'DejaVu Sans Mono',consolas,'Courier New',monospace\"><span style=\"font-weight: bold\">Model: \"sequential\"</span>\n</pre>\n"
          },
          "metadata": {}
        },
        {
          "output_type": "display_data",
          "data": {
            "text/plain": "┏━━━━━━━━━━━━━━━━━━━━━━━━━━━━━━━━━┳━━━━━━━━━━━━━━━━━━━━━━━━┳━━━━━━━━━━━━━━━┓\n┃\u001b[1m \u001b[0m\u001b[1mLayer (type)                   \u001b[0m\u001b[1m \u001b[0m┃\u001b[1m \u001b[0m\u001b[1mOutput Shape          \u001b[0m\u001b[1m \u001b[0m┃\u001b[1m \u001b[0m\u001b[1m      Param #\u001b[0m\u001b[1m \u001b[0m┃\n┡━━━━━━━━━━━━━━━━━━━━━━━━━━━━━━━━━╇━━━━━━━━━━━━━━━━━━━━━━━━╇━━━━━━━━━━━━━━━┩\n│ conv1d (\u001b[38;5;33mConv1D\u001b[0m)                 │ (\u001b[38;5;45mNone\u001b[0m, \u001b[38;5;34m204\u001b[0m, \u001b[38;5;34m16\u001b[0m)        │            \u001b[38;5;34m32\u001b[0m │\n├─────────────────────────────────┼────────────────────────┼───────────────┤\n│ max_pooling1d (\u001b[38;5;33mMaxPooling1D\u001b[0m)    │ (\u001b[38;5;45mNone\u001b[0m, \u001b[38;5;34m102\u001b[0m, \u001b[38;5;34m16\u001b[0m)        │             \u001b[38;5;34m0\u001b[0m │\n├─────────────────────────────────┼────────────────────────┼───────────────┤\n│ batch_normalization             │ (\u001b[38;5;45mNone\u001b[0m, \u001b[38;5;34m102\u001b[0m, \u001b[38;5;34m16\u001b[0m)        │            \u001b[38;5;34m64\u001b[0m │\n│ (\u001b[38;5;33mBatchNormalization\u001b[0m)            │                        │               │\n├─────────────────────────────────┼────────────────────────┼───────────────┤\n│ lstm (\u001b[38;5;33mLSTM\u001b[0m)                     │ (\u001b[38;5;45mNone\u001b[0m, \u001b[38;5;34m102\u001b[0m, \u001b[38;5;34m16\u001b[0m)        │         \u001b[38;5;34m2,112\u001b[0m │\n├─────────────────────────────────┼────────────────────────┼───────────────┤\n│ conv1d_1 (\u001b[38;5;33mConv1D\u001b[0m)               │ (\u001b[38;5;45mNone\u001b[0m, \u001b[38;5;34m100\u001b[0m, \u001b[38;5;34m32\u001b[0m)        │         \u001b[38;5;34m1,568\u001b[0m │\n├─────────────────────────────────┼────────────────────────┼───────────────┤\n│ max_pooling1d_1 (\u001b[38;5;33mMaxPooling1D\u001b[0m)  │ (\u001b[38;5;45mNone\u001b[0m, \u001b[38;5;34m50\u001b[0m, \u001b[38;5;34m32\u001b[0m)         │             \u001b[38;5;34m0\u001b[0m │\n├─────────────────────────────────┼────────────────────────┼───────────────┤\n│ batch_normalization_1           │ (\u001b[38;5;45mNone\u001b[0m, \u001b[38;5;34m50\u001b[0m, \u001b[38;5;34m32\u001b[0m)         │           \u001b[38;5;34m128\u001b[0m │\n│ (\u001b[38;5;33mBatchNormalization\u001b[0m)            │                        │               │\n├─────────────────────────────────┼────────────────────────┼───────────────┤\n│ lstm_1 (\u001b[38;5;33mLSTM\u001b[0m)                   │ (\u001b[38;5;45mNone\u001b[0m, \u001b[38;5;34m50\u001b[0m, \u001b[38;5;34m32\u001b[0m)         │         \u001b[38;5;34m8,320\u001b[0m │\n├─────────────────────────────────┼────────────────────────┼───────────────┤\n│ conv1d_2 (\u001b[38;5;33mConv1D\u001b[0m)               │ (\u001b[38;5;45mNone\u001b[0m, \u001b[38;5;34m46\u001b[0m, \u001b[38;5;34m64\u001b[0m)         │        \u001b[38;5;34m10,304\u001b[0m │\n├─────────────────────────────────┼────────────────────────┼───────────────┤\n│ max_pooling1d_2 (\u001b[38;5;33mMaxPooling1D\u001b[0m)  │ (\u001b[38;5;45mNone\u001b[0m, \u001b[38;5;34m23\u001b[0m, \u001b[38;5;34m64\u001b[0m)         │             \u001b[38;5;34m0\u001b[0m │\n├─────────────────────────────────┼────────────────────────┼───────────────┤\n│ batch_normalization_2           │ (\u001b[38;5;45mNone\u001b[0m, \u001b[38;5;34m23\u001b[0m, \u001b[38;5;34m64\u001b[0m)         │           \u001b[38;5;34m256\u001b[0m │\n│ (\u001b[38;5;33mBatchNormalization\u001b[0m)            │                        │               │\n├─────────────────────────────────┼────────────────────────┼───────────────┤\n│ lstm_2 (\u001b[38;5;33mLSTM\u001b[0m)                   │ (\u001b[38;5;45mNone\u001b[0m, \u001b[38;5;34m64\u001b[0m)             │        \u001b[38;5;34m33,024\u001b[0m │\n├─────────────────────────────────┼────────────────────────┼───────────────┤\n│ dense (\u001b[38;5;33mDense\u001b[0m)                   │ (\u001b[38;5;45mNone\u001b[0m, \u001b[38;5;34m64\u001b[0m)             │         \u001b[38;5;34m4,160\u001b[0m │\n├─────────────────────────────────┼────────────────────────┼───────────────┤\n│ dropout (\u001b[38;5;33mDropout\u001b[0m)               │ (\u001b[38;5;45mNone\u001b[0m, \u001b[38;5;34m64\u001b[0m)             │             \u001b[38;5;34m0\u001b[0m │\n├─────────────────────────────────┼────────────────────────┼───────────────┤\n│ dense_1 (\u001b[38;5;33mDense\u001b[0m)                 │ (\u001b[38;5;45mNone\u001b[0m, \u001b[38;5;34m10\u001b[0m)             │           \u001b[38;5;34m650\u001b[0m │\n└─────────────────────────────────┴────────────────────────┴───────────────┘\n",
            "text/html": "<pre style=\"white-space:pre;overflow-x:auto;line-height:normal;font-family:Menlo,'DejaVu Sans Mono',consolas,'Courier New',monospace\">┏━━━━━━━━━━━━━━━━━━━━━━━━━━━━━━━━━┳━━━━━━━━━━━━━━━━━━━━━━━━┳━━━━━━━━━━━━━━━┓\n┃<span style=\"font-weight: bold\"> Layer (type)                    </span>┃<span style=\"font-weight: bold\"> Output Shape           </span>┃<span style=\"font-weight: bold\">       Param # </span>┃\n┡━━━━━━━━━━━━━━━━━━━━━━━━━━━━━━━━━╇━━━━━━━━━━━━━━━━━━━━━━━━╇━━━━━━━━━━━━━━━┩\n│ conv1d (<span style=\"color: #0087ff; text-decoration-color: #0087ff\">Conv1D</span>)                 │ (<span style=\"color: #00d7ff; text-decoration-color: #00d7ff\">None</span>, <span style=\"color: #00af00; text-decoration-color: #00af00\">204</span>, <span style=\"color: #00af00; text-decoration-color: #00af00\">16</span>)        │            <span style=\"color: #00af00; text-decoration-color: #00af00\">32</span> │\n├─────────────────────────────────┼────────────────────────┼───────────────┤\n│ max_pooling1d (<span style=\"color: #0087ff; text-decoration-color: #0087ff\">MaxPooling1D</span>)    │ (<span style=\"color: #00d7ff; text-decoration-color: #00d7ff\">None</span>, <span style=\"color: #00af00; text-decoration-color: #00af00\">102</span>, <span style=\"color: #00af00; text-decoration-color: #00af00\">16</span>)        │             <span style=\"color: #00af00; text-decoration-color: #00af00\">0</span> │\n├─────────────────────────────────┼────────────────────────┼───────────────┤\n│ batch_normalization             │ (<span style=\"color: #00d7ff; text-decoration-color: #00d7ff\">None</span>, <span style=\"color: #00af00; text-decoration-color: #00af00\">102</span>, <span style=\"color: #00af00; text-decoration-color: #00af00\">16</span>)        │            <span style=\"color: #00af00; text-decoration-color: #00af00\">64</span> │\n│ (<span style=\"color: #0087ff; text-decoration-color: #0087ff\">BatchNormalization</span>)            │                        │               │\n├─────────────────────────────────┼────────────────────────┼───────────────┤\n│ lstm (<span style=\"color: #0087ff; text-decoration-color: #0087ff\">LSTM</span>)                     │ (<span style=\"color: #00d7ff; text-decoration-color: #00d7ff\">None</span>, <span style=\"color: #00af00; text-decoration-color: #00af00\">102</span>, <span style=\"color: #00af00; text-decoration-color: #00af00\">16</span>)        │         <span style=\"color: #00af00; text-decoration-color: #00af00\">2,112</span> │\n├─────────────────────────────────┼────────────────────────┼───────────────┤\n│ conv1d_1 (<span style=\"color: #0087ff; text-decoration-color: #0087ff\">Conv1D</span>)               │ (<span style=\"color: #00d7ff; text-decoration-color: #00d7ff\">None</span>, <span style=\"color: #00af00; text-decoration-color: #00af00\">100</span>, <span style=\"color: #00af00; text-decoration-color: #00af00\">32</span>)        │         <span style=\"color: #00af00; text-decoration-color: #00af00\">1,568</span> │\n├─────────────────────────────────┼────────────────────────┼───────────────┤\n│ max_pooling1d_1 (<span style=\"color: #0087ff; text-decoration-color: #0087ff\">MaxPooling1D</span>)  │ (<span style=\"color: #00d7ff; text-decoration-color: #00d7ff\">None</span>, <span style=\"color: #00af00; text-decoration-color: #00af00\">50</span>, <span style=\"color: #00af00; text-decoration-color: #00af00\">32</span>)         │             <span style=\"color: #00af00; text-decoration-color: #00af00\">0</span> │\n├─────────────────────────────────┼────────────────────────┼───────────────┤\n│ batch_normalization_1           │ (<span style=\"color: #00d7ff; text-decoration-color: #00d7ff\">None</span>, <span style=\"color: #00af00; text-decoration-color: #00af00\">50</span>, <span style=\"color: #00af00; text-decoration-color: #00af00\">32</span>)         │           <span style=\"color: #00af00; text-decoration-color: #00af00\">128</span> │\n│ (<span style=\"color: #0087ff; text-decoration-color: #0087ff\">BatchNormalization</span>)            │                        │               │\n├─────────────────────────────────┼────────────────────────┼───────────────┤\n│ lstm_1 (<span style=\"color: #0087ff; text-decoration-color: #0087ff\">LSTM</span>)                   │ (<span style=\"color: #00d7ff; text-decoration-color: #00d7ff\">None</span>, <span style=\"color: #00af00; text-decoration-color: #00af00\">50</span>, <span style=\"color: #00af00; text-decoration-color: #00af00\">32</span>)         │         <span style=\"color: #00af00; text-decoration-color: #00af00\">8,320</span> │\n├─────────────────────────────────┼────────────────────────┼───────────────┤\n│ conv1d_2 (<span style=\"color: #0087ff; text-decoration-color: #0087ff\">Conv1D</span>)               │ (<span style=\"color: #00d7ff; text-decoration-color: #00d7ff\">None</span>, <span style=\"color: #00af00; text-decoration-color: #00af00\">46</span>, <span style=\"color: #00af00; text-decoration-color: #00af00\">64</span>)         │        <span style=\"color: #00af00; text-decoration-color: #00af00\">10,304</span> │\n├─────────────────────────────────┼────────────────────────┼───────────────┤\n│ max_pooling1d_2 (<span style=\"color: #0087ff; text-decoration-color: #0087ff\">MaxPooling1D</span>)  │ (<span style=\"color: #00d7ff; text-decoration-color: #00d7ff\">None</span>, <span style=\"color: #00af00; text-decoration-color: #00af00\">23</span>, <span style=\"color: #00af00; text-decoration-color: #00af00\">64</span>)         │             <span style=\"color: #00af00; text-decoration-color: #00af00\">0</span> │\n├─────────────────────────────────┼────────────────────────┼───────────────┤\n│ batch_normalization_2           │ (<span style=\"color: #00d7ff; text-decoration-color: #00d7ff\">None</span>, <span style=\"color: #00af00; text-decoration-color: #00af00\">23</span>, <span style=\"color: #00af00; text-decoration-color: #00af00\">64</span>)         │           <span style=\"color: #00af00; text-decoration-color: #00af00\">256</span> │\n│ (<span style=\"color: #0087ff; text-decoration-color: #0087ff\">BatchNormalization</span>)            │                        │               │\n├─────────────────────────────────┼────────────────────────┼───────────────┤\n│ lstm_2 (<span style=\"color: #0087ff; text-decoration-color: #0087ff\">LSTM</span>)                   │ (<span style=\"color: #00d7ff; text-decoration-color: #00d7ff\">None</span>, <span style=\"color: #00af00; text-decoration-color: #00af00\">64</span>)             │        <span style=\"color: #00af00; text-decoration-color: #00af00\">33,024</span> │\n├─────────────────────────────────┼────────────────────────┼───────────────┤\n│ dense (<span style=\"color: #0087ff; text-decoration-color: #0087ff\">Dense</span>)                   │ (<span style=\"color: #00d7ff; text-decoration-color: #00d7ff\">None</span>, <span style=\"color: #00af00; text-decoration-color: #00af00\">64</span>)             │         <span style=\"color: #00af00; text-decoration-color: #00af00\">4,160</span> │\n├─────────────────────────────────┼────────────────────────┼───────────────┤\n│ dropout (<span style=\"color: #0087ff; text-decoration-color: #0087ff\">Dropout</span>)               │ (<span style=\"color: #00d7ff; text-decoration-color: #00d7ff\">None</span>, <span style=\"color: #00af00; text-decoration-color: #00af00\">64</span>)             │             <span style=\"color: #00af00; text-decoration-color: #00af00\">0</span> │\n├─────────────────────────────────┼────────────────────────┼───────────────┤\n│ dense_1 (<span style=\"color: #0087ff; text-decoration-color: #0087ff\">Dense</span>)                 │ (<span style=\"color: #00d7ff; text-decoration-color: #00d7ff\">None</span>, <span style=\"color: #00af00; text-decoration-color: #00af00\">10</span>)             │           <span style=\"color: #00af00; text-decoration-color: #00af00\">650</span> │\n└─────────────────────────────────┴────────────────────────┴───────────────┘\n</pre>\n"
          },
          "metadata": {}
        },
        {
          "output_type": "display_data",
          "data": {
            "text/plain": "\u001b[1m Total params: \u001b[0m\u001b[38;5;34m60,618\u001b[0m (236.79 KB)\n",
            "text/html": "<pre style=\"white-space:pre;overflow-x:auto;line-height:normal;font-family:Menlo,'DejaVu Sans Mono',consolas,'Courier New',monospace\"><span style=\"font-weight: bold\"> Total params: </span><span style=\"color: #00af00; text-decoration-color: #00af00\">60,618</span> (236.79 KB)\n</pre>\n"
          },
          "metadata": {}
        },
        {
          "output_type": "display_data",
          "data": {
            "text/plain": "\u001b[1m Trainable params: \u001b[0m\u001b[38;5;34m60,394\u001b[0m (235.91 KB)\n",
            "text/html": "<pre style=\"white-space:pre;overflow-x:auto;line-height:normal;font-family:Menlo,'DejaVu Sans Mono',consolas,'Courier New',monospace\"><span style=\"font-weight: bold\"> Trainable params: </span><span style=\"color: #00af00; text-decoration-color: #00af00\">60,394</span> (235.91 KB)\n</pre>\n"
          },
          "metadata": {}
        },
        {
          "output_type": "display_data",
          "data": {
            "text/plain": "\u001b[1m Non-trainable params: \u001b[0m\u001b[38;5;34m224\u001b[0m (896.00 B)\n",
            "text/html": "<pre style=\"white-space:pre;overflow-x:auto;line-height:normal;font-family:Menlo,'DejaVu Sans Mono',consolas,'Courier New',monospace\"><span style=\"font-weight: bold\"> Non-trainable params: </span><span style=\"color: #00af00; text-decoration-color: #00af00\">224</span> (896.00 B)\n</pre>\n"
          },
          "metadata": {}
        }
      ],
      "execution_count": null
    },
    {
      "cell_type": "code",
      "source": [
        "def create_model():\n",
        "\n",
        "    n_features = x_train.shape[1]  # Number of features from training data\n",
        "\n",
        "\n",
        "\n",
        "    # Define the model\n",
        "\n",
        "    model = Sequential()\n",
        "\n",
        "\n",
        "\n",
        "    # First convolutional block\n",
        "\n",
        "    model.add(Conv1D(filters=16, kernel_size=1, activation='relu', input_shape=(n_features,1)))\n",
        "\n",
        "    model.add(MaxPooling1D(pool_size=2))\n",
        "\n",
        "    model.add(BatchNormalization())\n",
        "\n",
        "\n",
        "\n",
        "    # First LSTM block\n",
        "\n",
        "    model.add(LSTM(units=16, return_sequences=True))\n",
        "\n",
        "    #model.add(Dropout(0.2))  # Added dropout after LSTM\n",
        "\n",
        "\n",
        "\n",
        "    # Second convolutional block\n",
        "\n",
        "    model.add(Conv1D(filters=32, kernel_size=3, activation='relu'))\n",
        "\n",
        "    model.add(MaxPooling1D(pool_size=2))\n",
        "\n",
        "    model.add(BatchNormalization())\n",
        "\n",
        "\n",
        "\n",
        "    # Second LSTM block\n",
        "\n",
        "    model.add(LSTM(units=32, return_sequences=True))\n",
        "\n",
        "    #model.add(Dropout(0.2))  # Added dropout after LSTM\n",
        "\n",
        "\n",
        "\n",
        "    # Third convolutional block\n",
        "\n",
        "    model.add(Conv1D(filters=64, kernel_size=5, activation='relu'))\n",
        "\n",
        "    model.add(MaxPooling1D(pool_size=2))\n",
        "\n",
        "    model.add(BatchNormalization())\n",
        "\n",
        "\n",
        "\n",
        "    # Third LSTM block\n",
        "\n",
        "    model.add(LSTM(units=64))\n",
        "\n",
        "    #model.add(Dropout(0.2))  # Added dropout after LSTM\n",
        "\n",
        "\n",
        "\n",
        "    # Dense layers\n",
        "\n",
        "    model.add(Dense(64, activation='relu'))\n",
        "\n",
        "    model.add(Dropout(0.2))  # Adjusted dropout rate for dense layer\n",
        "\n",
        "\n",
        "\n",
        "    model.add(Dense(10, activation='softmax'))  # Output layer for 10 classes\n",
        "\n",
        "\n",
        "\n",
        "    model.compile(optimizer='adam', loss='categorical_crossentropy', metrics=['accuracy', tf.keras.metrics.Precision(), tf.keras.metrics.Recall()])\n",
        "\n",
        "\n",
        "\n",
        "    return model\n"
      ],
      "metadata": {
        "execution": {
          "iopub.status.busy": "2024-11-27T19:26:01.408786Z",
          "iopub.execute_input": "2024-11-27T19:26:01.409047Z",
          "iopub.status.idle": "2024-11-27T19:26:01.416610Z",
          "shell.execute_reply.started": "2024-11-27T19:26:01.409021Z",
          "shell.execute_reply": "2024-11-27T19:26:01.415630Z"
        },
        "id": "3V3iAjN_3ET3",
        "trusted": true
      },
      "outputs": [],
      "execution_count": null
    },
    {
      "cell_type": "code",
      "source": [
        "x_train.shape"
      ],
      "metadata": {
        "colab": {
          "base_uri": "https://localhost:8080/"
        },
        "execution": {
          "iopub.status.busy": "2024-11-27T19:26:01.417791Z",
          "iopub.execute_input": "2024-11-27T19:26:01.418136Z",
          "iopub.status.idle": "2024-11-27T19:26:01.431845Z",
          "shell.execute_reply.started": "2024-11-27T19:26:01.418090Z",
          "shell.execute_reply": "2024-11-27T19:26:01.431016Z"
        },
        "id": "uMAZDssi3ET3",
        "outputId": "34d5b279-5be1-4df0-fb5e-a2d60411a661",
        "trusted": true
      },
      "outputs": [
        {
          "execution_count": 77,
          "output_type": "execute_result",
          "data": {
            "text/plain": "(1625627, 204)"
          },
          "metadata": {}
        }
      ],
      "execution_count": null
    },
    {
      "cell_type": "markdown",
      "source": [
        "# **Training the model**"
      ],
      "metadata": {
        "id": "8Tanu0t93ET4"
      }
    },
    {
      "cell_type": "code",
      "source": [
        "history = model.fit(x_train, y_train, epochs=5, batch_size=256,validation_data=(x_val,y_val))\n",
        "\n",
        "\n",
        "\n",
        " #Evaluate the model\n",
        "\n",
        "test_loss, test_accuracy, test_precision, test_recall = model.evaluate(x_test, y_test)\n",
        "\n",
        "print(\"Test Loss:\", test_loss)\n",
        "\n",
        "print(\"Test Accuracy:\", test_accuracy)\n",
        "\n",
        "print(\"Test Precision:\", test_precision)\n",
        "\n",
        "print(\"Test Recall:\", test_recall)"
      ],
      "metadata": {
        "id": "66G8LuTG3ET4",
        "trusted": true,
        "execution": {
          "iopub.status.busy": "2024-11-27T19:26:01.437887Z",
          "iopub.execute_input": "2024-11-27T19:26:01.438344Z",
          "iopub.status.idle": "2024-11-27T19:35:54.424291Z",
          "shell.execute_reply.started": "2024-11-27T19:26:01.438320Z",
          "shell.execute_reply": "2024-11-27T19:35:54.423547Z"
        },
        "outputId": "65410b60-21ef-4cb2-e029-89ef0ef74c8c"
      },
      "outputs": [
        {
          "name": "stdout",
          "text": "Epoch 1/5\n\u001b[1m6351/6351\u001b[0m \u001b[32m━━━━━━━━━━━━━━━━━━━━\u001b[0m\u001b[37m\u001b[0m \u001b[1m109s\u001b[0m 16ms/step - accuracy: 0.9644 - loss: 0.1081 - precision: 0.9874 - recall: 0.9450 - val_accuracy: 0.9753 - val_loss: 0.0616 - val_precision: 0.9908 - val_recall: 0.9645\nEpoch 2/5\n\u001b[1m6351/6351\u001b[0m \u001b[32m━━━━━━━━━━━━━━━━━━━━\u001b[0m\u001b[37m\u001b[0m \u001b[1m100s\u001b[0m 16ms/step - accuracy: 0.9754 - loss: 0.0617 - precision: 0.9896 - recall: 0.9655 - val_accuracy: 0.9699 - val_loss: 0.1470 - val_precision: 0.9810 - val_recall: 0.9614\nEpoch 3/5\n\u001b[1m6351/6351\u001b[0m \u001b[32m━━━━━━━━━━━━━━━━━━━━\u001b[0m\u001b[37m\u001b[0m \u001b[1m100s\u001b[0m 16ms/step - accuracy: 0.9769 - loss: 0.0584 - precision: 0.9900 - recall: 0.9678 - val_accuracy: 0.9775 - val_loss: 0.0570 - val_precision: 0.9911 - val_recall: 0.9677\nEpoch 4/5\n\u001b[1m6351/6351\u001b[0m \u001b[32m━━━━━━━━━━━━━━━━━━━━\u001b[0m\u001b[37m\u001b[0m \u001b[1m99s\u001b[0m 16ms/step - accuracy: 0.9778 - loss: 0.0552 - precision: 0.9904 - recall: 0.9690 - val_accuracy: 0.9781 - val_loss: 0.0544 - val_precision: 0.9899 - val_recall: 0.9700\nEpoch 5/5\n\u001b[1m6351/6351\u001b[0m \u001b[32m━━━━━━━━━━━━━━━━━━━━\u001b[0m\u001b[37m\u001b[0m \u001b[1m99s\u001b[0m 16ms/step - accuracy: 0.9780 - loss: 0.0548 - precision: 0.9904 - recall: 0.9693 - val_accuracy: 0.9780 - val_loss: 0.0553 - val_precision: 0.9905 - val_recall: 0.9692\n\u001b[1m15876/15876\u001b[0m \u001b[32m━━━━━━━━━━━━━━━━━━━━\u001b[0m\u001b[37m\u001b[0m \u001b[1m81s\u001b[0m 5ms/step - accuracy: 0.9776 - loss: 0.0558 - precision: 0.9901 - recall: 0.9689\nTest Loss: 0.05556664243340492\nTest Accuracy: 0.9776913523674011\nTest Precision: 0.9900386333465576\nTest Recall: 0.9690143465995789\n",
          "output_type": "stream"
        }
      ],
      "execution_count": null
    },
    {
      "cell_type": "markdown",
      "source": [
        "# **Testing the model with test set**"
      ],
      "metadata": {
        "id": "8kCPtUDZ3ET4"
      }
    },
    {
      "cell_type": "code",
      "source": [
        "y_pred = model.predict(x_test)  # Assuming X_test is your test data"
      ],
      "metadata": {
        "id": "nnWubT0A3ET4",
        "trusted": true,
        "execution": {
          "iopub.status.busy": "2024-11-27T19:35:54.425244Z",
          "iopub.execute_input": "2024-11-27T19:35:54.425524Z",
          "iopub.status.idle": "2024-11-27T19:37:07.782290Z",
          "shell.execute_reply.started": "2024-11-27T19:35:54.425498Z",
          "shell.execute_reply": "2024-11-27T19:37:07.781591Z"
        },
        "outputId": "82fb8523-65fe-42fd-ae61-33a8e480c61e"
      },
      "outputs": [
        {
          "name": "stdout",
          "text": "\u001b[1m15876/15876\u001b[0m \u001b[32m━━━━━━━━━━━━━━━━━━━━\u001b[0m\u001b[37m\u001b[0m \u001b[1m64s\u001b[0m 4ms/step\n",
          "output_type": "stream"
        }
      ],
      "execution_count": null
    },
    {
      "cell_type": "code",
      "source": [
        "y_pred"
      ],
      "metadata": {
        "id": "WsdYrtvq3ET4",
        "trusted": true,
        "execution": {
          "iopub.status.busy": "2024-11-27T19:37:07.783609Z",
          "iopub.execute_input": "2024-11-27T19:37:07.783877Z",
          "iopub.status.idle": "2024-11-27T19:37:07.789773Z",
          "shell.execute_reply.started": "2024-11-27T19:37:07.783850Z",
          "shell.execute_reply": "2024-11-27T19:37:07.788988Z"
        },
        "outputId": "f392cd9f-53e8-46e2-a1ed-c146803d5033"
      },
      "outputs": [
        {
          "execution_count": 80,
          "output_type": "execute_result",
          "data": {
            "text/plain": "array([[1.0000000e+00, 1.6240072e-13, 6.4947631e-12, ..., 4.7885490e-14,\n        2.3889403e-37, 0.0000000e+00],\n       [1.0000000e+00, 6.0740909e-13, 5.0590164e-11, ..., 1.5381555e-15,\n        0.0000000e+00, 7.6744661e-38],\n       [9.9999976e-01, 3.0969325e-09, 1.9388520e-07, ..., 2.4268536e-09,\n        2.7695866e-25, 1.5498091e-25],\n       ...,\n       [1.0000000e+00, 7.2482883e-13, 4.9333645e-12, ..., 1.0206268e-14,\n        2.9828639e-38, 9.4822706e-38],\n       [1.0000000e+00, 1.9341879e-14, 2.8926330e-13, ..., 6.1530003e-16,\n        0.0000000e+00, 0.0000000e+00],\n       [1.0000000e+00, 7.4126131e-12, 6.3160410e-10, ..., 3.1730177e-13,\n        8.8225654e-34, 4.9177334e-34]], dtype=float32)"
          },
          "metadata": {}
        }
      ],
      "execution_count": null
    },
    {
      "cell_type": "markdown",
      "source": [
        "**Neural netwrok**"
      ],
      "metadata": {
        "id": "6PvKOlsn3ET4"
      }
    },
    {
      "cell_type": "code",
      "source": [
        "y_train"
      ],
      "metadata": {
        "execution": {
          "iopub.status.busy": "2024-11-27T19:37:07.790782Z",
          "iopub.execute_input": "2024-11-27T19:37:07.791031Z",
          "iopub.status.idle": "2024-11-27T19:37:07.800663Z",
          "shell.execute_reply.started": "2024-11-27T19:37:07.791006Z",
          "shell.execute_reply": "2024-11-27T19:37:07.799938Z"
        },
        "id": "Onf8HF7o3ET5",
        "trusted": true,
        "outputId": "f3bab178-6440-4e70-ecef-50ae1d80e267"
      },
      "outputs": [
        {
          "execution_count": 81,
          "output_type": "execute_result",
          "data": {
            "text/plain": "array([[1., 0., 0., ..., 0., 0., 0.],\n       [1., 0., 0., ..., 0., 0., 0.],\n       [1., 0., 0., ..., 0., 0., 0.],\n       ...,\n       [1., 0., 0., ..., 0., 0., 0.],\n       [1., 0., 0., ..., 0., 0., 0.],\n       [1., 0., 0., ..., 0., 0., 0.]])"
          },
          "metadata": {}
        }
      ],
      "execution_count": null
    },
    {
      "cell_type": "code",
      "source": [
        "from sklearn.model_selection import StratifiedKFold"
      ],
      "metadata": {
        "execution": {
          "iopub.status.busy": "2024-11-27T19:37:07.801433Z",
          "iopub.execute_input": "2024-11-27T19:37:07.801635Z",
          "iopub.status.idle": "2024-11-27T19:37:07.808800Z",
          "shell.execute_reply.started": "2024-11-27T19:37:07.801615Z",
          "shell.execute_reply": "2024-11-27T19:37:07.808013Z"
        },
        "id": "pUB3uBuR3ET5",
        "trusted": true
      },
      "outputs": [],
      "execution_count": null
    },
    {
      "cell_type": "code",
      "source": [
        "kfold = StratifiedKFold(n_splits=2, shuffle=True, random_state=42)"
      ],
      "metadata": {
        "execution": {
          "iopub.status.busy": "2024-11-27T19:37:07.809650Z",
          "iopub.execute_input": "2024-11-27T19:37:07.809899Z",
          "iopub.status.idle": "2024-11-27T19:37:07.818997Z",
          "shell.execute_reply.started": "2024-11-27T19:37:07.809876Z",
          "shell.execute_reply": "2024-11-27T19:37:07.818211Z"
        },
        "id": "91MkV1bs3ET5",
        "trusted": true
      },
      "outputs": [],
      "execution_count": null
    },
    {
      "cell_type": "code",
      "source": [
        "y_train_labels = np.argmax(y_train, axis=1)"
      ],
      "metadata": {
        "execution": {
          "iopub.status.busy": "2024-11-27T19:37:07.819921Z",
          "iopub.execute_input": "2024-11-27T19:37:07.820155Z",
          "iopub.status.idle": "2024-11-27T19:37:07.859081Z",
          "shell.execute_reply.started": "2024-11-27T19:37:07.820131Z",
          "shell.execute_reply": "2024-11-27T19:37:07.858297Z"
        },
        "id": "bhhdPjHg3ET5",
        "trusted": true
      },
      "outputs": [],
      "execution_count": null
    },
    {
      "cell_type": "code",
      "source": [
        "y_train_labels"
      ],
      "metadata": {
        "execution": {
          "iopub.status.busy": "2024-11-27T19:37:07.859963Z",
          "iopub.execute_input": "2024-11-27T19:37:07.860194Z",
          "iopub.status.idle": "2024-11-27T19:37:07.865186Z",
          "shell.execute_reply.started": "2024-11-27T19:37:07.860171Z",
          "shell.execute_reply": "2024-11-27T19:37:07.864316Z"
        },
        "id": "RVz6hz_63ET5",
        "trusted": true,
        "outputId": "584972c3-1a41-4a16-b582-cd100f2b064b"
      },
      "outputs": [
        {
          "execution_count": 85,
          "output_type": "execute_result",
          "data": {
            "text/plain": "array([0, 0, 0, ..., 0, 0, 0])"
          },
          "metadata": {}
        }
      ],
      "execution_count": null
    },
    {
      "cell_type": "code",
      "source": [
        "scores = []\n",
        "\n",
        "model = create_model()\n",
        "\n",
        "for train_index, val_index in kfold.split(x_train, y_train_labels):\n",
        "\n",
        "    X_train_inner, X_val_inner = x_train[train_index], x_train[val_index]\n",
        "\n",
        "    y_train_inner, y_val_inner = y_train[train_index], y_train[val_index]\n",
        "\n",
        "\n",
        "\n",
        "    model.fit(X_train_inner, y_train_inner, epochs=5, batch_size=256,validation_data=(X_val_inner, y_val_inner))\n",
        "\n",
        "    test_loss, test_acc, precision, recall = model.evaluate(x_val, y_val)\n",
        "\n",
        "    scores.append([test_loss, test_acc, precision, recall])\n",
        "\n",
        "\n",
        "\n",
        "print(\"Average K-Fold Cross-Validation Results (on Validation Set):\")\n",
        "\n",
        "print(\"Loss:\", np.mean([score[0] for score in scores]))\n",
        "\n",
        "print(\"Accuracy:\", np.mean([score[1] for score in scores]))\n",
        "\n",
        "print(\"Precision:\", np.mean([score[2] for score in scores]))\n",
        "\n",
        "print(\"Recall:\", np.mean([score[3] for score in scores]))"
      ],
      "metadata": {
        "execution": {
          "iopub.status.busy": "2024-11-27T19:37:07.866210Z",
          "iopub.execute_input": "2024-11-27T19:37:07.866469Z",
          "iopub.status.idle": "2024-11-27T19:49:40.721741Z",
          "shell.execute_reply.started": "2024-11-27T19:37:07.866445Z",
          "shell.execute_reply": "2024-11-27T19:49:40.720933Z"
        },
        "id": "hGC7N8A73ET9",
        "trusted": true,
        "outputId": "47583d75-ae8a-4a28-9b13-8df81fdb3ac9"
      },
      "outputs": [
        {
          "name": "stdout",
          "text": "Epoch 1/5\n\u001b[1m3176/3176\u001b[0m \u001b[32m━━━━━━━━━━━━━━━━━━━━\u001b[0m\u001b[37m\u001b[0m \u001b[1m68s\u001b[0m 20ms/step - accuracy: 0.9618 - loss: 0.1236 - precision_1: 0.9863 - recall_1: 0.9389 - val_accuracy: 0.9722 - val_loss: 0.0730 - val_precision_1: 0.9879 - val_recall_1: 0.9627\nEpoch 2/5\n\u001b[1m3176/3176\u001b[0m \u001b[32m━━━━━━━━━━━━━━━━━━━━\u001b[0m\u001b[37m\u001b[0m \u001b[1m61s\u001b[0m 19ms/step - accuracy: 0.9740 - loss: 0.0664 - precision_1: 0.9894 - recall_1: 0.9630 - val_accuracy: 0.9757 - val_loss: 0.0619 - val_precision_1: 0.9902 - val_recall_1: 0.9652\nEpoch 3/5\n\u001b[1m3176/3176\u001b[0m \u001b[32m━━━━━━━━━━━━━━━━━━━━\u001b[0m\u001b[37m\u001b[0m \u001b[1m61s\u001b[0m 19ms/step - accuracy: 0.9757 - loss: 0.0620 - precision_1: 0.9896 - recall_1: 0.9658 - val_accuracy: 0.9769 - val_loss: 0.0591 - val_precision_1: 0.9896 - val_recall_1: 0.9681\nEpoch 4/5\n\u001b[1m3176/3176\u001b[0m \u001b[32m━━━━━━━━━━━━━━━━━━━━\u001b[0m\u001b[37m\u001b[0m \u001b[1m61s\u001b[0m 19ms/step - accuracy: 0.9769 - loss: 0.0586 - precision_1: 0.9901 - recall_1: 0.9676 - val_accuracy: 0.9775 - val_loss: 0.0568 - val_precision_1: 0.9904 - val_recall_1: 0.9682\nEpoch 5/5\n\u001b[1m3176/3176\u001b[0m \u001b[32m━━━━━━━━━━━━━━━━━━━━\u001b[0m\u001b[37m\u001b[0m \u001b[1m61s\u001b[0m 19ms/step - accuracy: 0.9773 - loss: 0.0573 - precision_1: 0.9903 - recall_1: 0.9680 - val_accuracy: 0.9769 - val_loss: 0.0578 - val_precision_1: 0.9891 - val_recall_1: 0.9688\n\u001b[1m12701/12701\u001b[0m \u001b[32m━━━━━━━━━━━━━━━━━━━━\u001b[0m\u001b[37m\u001b[0m \u001b[1m64s\u001b[0m 5ms/step - accuracy: 0.9766 - loss: 0.0582 - precision_1: 0.9892 - recall_1: 0.9682\nEpoch 1/5\n\u001b[1m3176/3176\u001b[0m \u001b[32m━━━━━━━━━━━━━━━━━━━━\u001b[0m\u001b[37m\u001b[0m \u001b[1m63s\u001b[0m 20ms/step - accuracy: 0.9777 - loss: 0.0568 - precision_1: 0.9905 - recall_1: 0.9686 - val_accuracy: 0.9781 - val_loss: 0.0547 - val_precision_1: 0.9902 - val_recall_1: 0.9694\nEpoch 2/5\n\u001b[1m3176/3176\u001b[0m \u001b[32m━━━━━━━━━━━━━━━━━━━━\u001b[0m\u001b[37m\u001b[0m \u001b[1m61s\u001b[0m 19ms/step - accuracy: 0.9776 - loss: 0.0556 - precision_1: 0.9905 - recall_1: 0.9687 - val_accuracy: 0.9779 - val_loss: 0.0546 - val_precision_1: 0.9902 - val_recall_1: 0.9694\nEpoch 3/5\n\u001b[1m3176/3176\u001b[0m \u001b[32m━━━━━━━━━━━━━━━━━━━━\u001b[0m\u001b[37m\u001b[0m \u001b[1m61s\u001b[0m 19ms/step - accuracy: 0.9782 - loss: 0.0547 - precision_1: 0.9906 - recall_1: 0.9692 - val_accuracy: 0.9782 - val_loss: 0.0544 - val_precision_1: 0.9898 - val_recall_1: 0.9702\nEpoch 4/5\n\u001b[1m3176/3176\u001b[0m \u001b[32m━━━━━━━━━━━━━━━━━━━━\u001b[0m\u001b[37m\u001b[0m \u001b[1m61s\u001b[0m 19ms/step - accuracy: 0.9783 - loss: 0.0540 - precision_1: 0.9904 - recall_1: 0.9696 - val_accuracy: 0.9776 - val_loss: 0.0555 - val_precision_1: 0.9892 - val_recall_1: 0.9695\nEpoch 5/5\n\u001b[1m3176/3176\u001b[0m \u001b[32m━━━━━━━━━━━━━━━━━━━━\u001b[0m\u001b[37m\u001b[0m \u001b[1m61s\u001b[0m 19ms/step - accuracy: 0.9783 - loss: 0.0540 - precision_1: 0.9905 - recall_1: 0.9694 - val_accuracy: 0.9782 - val_loss: 0.0536 - val_precision_1: 0.9905 - val_recall_1: 0.9693\n\u001b[1m12701/12701\u001b[0m \u001b[32m━━━━━━━━━━━━━━━━━━━━\u001b[0m\u001b[37m\u001b[0m \u001b[1m64s\u001b[0m 5ms/step - accuracy: 0.9781 - loss: 0.0541 - precision_1: 0.9909 - recall_1: 0.9690\nAverage K-Fold Cross-Validation Results (on Validation Set):\nLoss: 0.056470226496458054\nAccuracy: 0.9774167239665985\nPrecision: 0.9898960590362549\nRecall: 0.968686580657959\n",
          "output_type": "stream"
        }
      ],
      "execution_count": null
    },
    {
      "cell_type": "code",
      "source": [
        "y_pred = model.predict(x_test)  # Assuming X_test is your test data"
      ],
      "metadata": {
        "execution": {
          "iopub.status.busy": "2024-11-27T19:49:40.722735Z",
          "iopub.execute_input": "2024-11-27T19:49:40.723004Z",
          "iopub.status.idle": "2024-11-27T19:50:50.500869Z",
          "shell.execute_reply.started": "2024-11-27T19:49:40.722977Z",
          "shell.execute_reply": "2024-11-27T19:50:50.499888Z"
        },
        "id": "UxDCBwHW3ET9",
        "trusted": true,
        "outputId": "653d212c-80e3-40c6-c713-05483eb7661c"
      },
      "outputs": [
        {
          "name": "stdout",
          "text": "\u001b[1m15876/15876\u001b[0m \u001b[32m━━━━━━━━━━━━━━━━━━━━\u001b[0m\u001b[37m\u001b[0m \u001b[1m64s\u001b[0m 4ms/step\n",
          "output_type": "stream"
        }
      ],
      "execution_count": null
    },
    {
      "cell_type": "code",
      "source": [
        "from sklearn.metrics import confusion_matrix\n",
        "\n",
        "\n",
        "\n",
        "# Assuming y_test is your one-hot encoded ground truth (shape: n_samples x 10)\n",
        "\n",
        "# Assuming y_pred is your predicted probabilities (shape: n_samples x 10)\n",
        "\n",
        "\n",
        "\n",
        "# Get the predicted class index (one label per sample) for each sample\n",
        "\n",
        "y_pred_labels = np.argmax(y_pred, axis=1)  # Argmax along axis=1 gives the index of the maximum value in each row\n",
        "\n",
        "\n",
        "\n",
        "# Now you can use the confusion matrix with y_test and y_pred_labels\n",
        "\n",
        "cm = confusion_matrix(y_test.argmax(axis=1), y_pred_labels)  # Convert y_test to labels using argmax\n",
        "\n",
        "print(cm)\n",
        "\n",
        "\n"
      ],
      "metadata": {
        "execution": {
          "iopub.status.busy": "2024-11-27T19:50:50.503420Z",
          "iopub.execute_input": "2024-11-27T19:50:50.503802Z",
          "iopub.status.idle": "2024-11-27T19:50:50.546857Z",
          "shell.execute_reply.started": "2024-11-27T19:50:50.503763Z",
          "shell.execute_reply": "2024-11-27T19:50:50.546161Z"
        },
        "id": "Y3kVuECN3ET-",
        "trusted": true,
        "outputId": "7a5451ed-44e2-4f9a-cebc-90d2e202fd7f"
      },
      "outputs": [
        {
          "name": "stdout",
          "text": "[[443002     11    127      0      0      2     72    426     19      0]\n [    73  42133    783      0      0     32     12     39     20      0]\n [   374     77   7915      0      0     72    222    277     66      0]\n [    23      5    345      0      0     10      4    101      8      0]\n [   102     11    310      0      0      2      0     99      0      0]\n [   100     61   2817      0      0     75     20    124     28      0]\n [   163      1    596      0      0     12   1991      9      8      0]\n [  2804     26    433      0      0      2     39   1582     12      0]\n [    67      8     12      0      0      0     46      5    150      0]\n [     3      0     37      0      0      0      2      0      2      0]]\n",
          "output_type": "stream"
        }
      ],
      "execution_count": null
    },
    {
      "cell_type": "code",
      "source": [
        "import matplotlib.pyplot as plt\n",
        "\n",
        "\n",
        "\n",
        "# Define labels for your classes (assuming you know the class names)\n",
        "\n",
        "class_names = attacks\n",
        "\n",
        "\n",
        "\n",
        "# Create a heatmap from the confusion matrix\n",
        "\n",
        "plt.figure(figsize=(9, 9))\n",
        "\n",
        "plt.imshow(cm, interpolation='nearest', cmap='Blues')\n",
        "\n",
        "plt.colorbar(label='Count')\n",
        "\n",
        "for i in range(len(class_names)):\n",
        "\n",
        "    for j in range(len(class_names)):\n",
        "\n",
        "        plt.text(j, i, cm[i, j], ha='center', va='center', fontsize=10)\n",
        "\n",
        "plt.xticks(range(len(class_names)), class_names, rotation=90, ha='right')\n",
        "\n",
        "plt.yticks(range(len(class_names)), class_names)\n",
        "\n",
        "plt.xlabel('Predicted Labels')\n",
        "\n",
        "plt.ylabel('True Labels')\n",
        "\n",
        "plt.title('Confusion Matrix')\n",
        "\n",
        "plt.grid(False)\n",
        "\n",
        "plt.show()\n"
      ],
      "metadata": {
        "execution": {
          "iopub.status.busy": "2024-11-27T19:50:50.547778Z",
          "iopub.execute_input": "2024-11-27T19:50:50.548028Z",
          "iopub.status.idle": "2024-11-27T19:50:50.966161Z",
          "shell.execute_reply.started": "2024-11-27T19:50:50.548004Z",
          "shell.execute_reply": "2024-11-27T19:50:50.965287Z"
        },
        "id": "dsSQ7bFO3ET-",
        "trusted": true,
        "outputId": "6c79463b-046f-4162-a9ef-04e354125cbc"
      },
      "outputs": [
        {
          "output_type": "display_data",
          "data": {
            "text/plain": "<Figure size 900x900 with 2 Axes>",
            "image/png": "[encoded data removed]"
          },
          "metadata": {}
        }
      ],
      "execution_count": null
    },
    {
      "cell_type": "markdown",
      "source": [
        "# **Partie Federated learning**"
      ],
      "metadata": {
        "id": "Mo6fJcH_NDa8"
      }
    },
    {
      "cell_type": "code",
      "source": [
        "# Diviser les données d'entraînement en plusieurs clients\n",
        "\n",
        "num_clients = 5  # Le nombre de clients\n",
        "\n",
        "client_data = np.array_split(x_train, num_clients)  # Diviser x_train en num_clients sous-ensembles\n",
        "\n",
        "client_labels = np.array_split(y_train, num_clients)  # Idem pour les labels\n"
      ],
      "metadata": {
        "id": "6jQl3-tKP6PJ",
        "trusted": true,
        "execution": {
          "iopub.status.busy": "2024-11-27T19:50:50.967228Z",
          "iopub.execute_input": "2024-11-27T19:50:50.967498Z",
          "iopub.status.idle": "2024-11-27T19:50:50.971866Z",
          "shell.execute_reply.started": "2024-11-27T19:50:50.967472Z",
          "shell.execute_reply": "2024-11-27T19:50:50.970994Z"
        }
      },
      "outputs": [],
      "execution_count": null
    },
    {
      "cell_type": "code",
      "source": [
        "def create_model():\n",
        "\n",
        "    model = Sequential()\n",
        "\n",
        "    model.add(Conv1D(filters=16, kernel_size=1, activation='relu', input_shape=(x_train.shape[1], 1)))\n",
        "\n",
        "    model.add(MaxPooling1D(pool_size=2))\n",
        "\n",
        "    model.add(BatchNormalization())\n",
        "\n",
        "    model.add(LSTM(units=16, return_sequences=True))\n",
        "\n",
        "    model.add(Conv1D(filters=32, kernel_size=3, activation='relu'))\n",
        "\n",
        "    model.add(MaxPooling1D(pool_size=2))\n",
        "\n",
        "    model.add(BatchNormalization())\n",
        "\n",
        "    model.add(LSTM(units=32, return_sequences=True))\n",
        "\n",
        "    model.add(Conv1D(filters=64, kernel_size=5, activation='relu'))\n",
        "\n",
        "    model.add(MaxPooling1D(pool_size=2))\n",
        "\n",
        "    model.add(BatchNormalization())\n",
        "\n",
        "    model.add(LSTM(units=64))\n",
        "\n",
        "    model.add(Dense(64, activation='relu'))\n",
        "\n",
        "    model.add(Dropout(0.2))\n",
        "\n",
        "    model.add(Dense(10, activation='softmax'))  # Output layer\n",
        "\n",
        "    model.compile(optimizer='adam', loss='categorical_crossentropy', metrics=['accuracy'])\n",
        "\n",
        "    return model\n"
      ],
      "metadata": {
        "id": "CPHBYGNNP9BD",
        "trusted": true,
        "execution": {
          "iopub.status.busy": "2024-11-27T19:50:50.972928Z",
          "iopub.execute_input": "2024-11-27T19:50:50.973163Z",
          "iopub.status.idle": "2024-11-27T19:50:50.982337Z",
          "shell.execute_reply.started": "2024-11-27T19:50:50.973133Z",
          "shell.execute_reply": "2024-11-27T19:50:50.981474Z"
        }
      },
      "outputs": [],
      "execution_count": null
    },
    {
      "cell_type": "code",
      "source": [
        "def train_client_model(client_data, client_labels, model, epochs=5, batch_size=256):\n",
        "\n",
        "    model.fit(client_data, client_labels, epochs=epochs, batch_size=batch_size, validation_data=(x_val, y_val))\n",
        "\n",
        "    return model.get_weights()  # Renvoie les poids du modèle entraîné localement\n"
      ],
      "metadata": {
        "id": "TEOGlIiGQAzI",
        "trusted": true,
        "execution": {
          "iopub.status.busy": "2024-11-27T19:50:50.983412Z",
          "iopub.execute_input": "2024-11-27T19:50:50.983733Z",
          "iopub.status.idle": "2024-11-27T19:50:50.990183Z",
          "shell.execute_reply.started": "2024-11-27T19:50:50.983698Z",
          "shell.execute_reply": "2024-11-27T19:50:50.989502Z"
        }
      },
      "outputs": [],
      "execution_count": null
    },
    {
      "cell_type": "code",
      "source": [
        "def aggregate_weights(client_weights):\n",
        "\n",
        "    # Calcule la moyenne des poids de tous les clients\n",
        "\n",
        "    avg_weights = [np.mean([client_weights[i][layer] for i in range(len(client_weights))], axis=0) for layer in range(len(client_weights[0]))]\n",
        "\n",
        "    return avg_weights\n"
      ],
      "metadata": {
        "id": "jp8klPkSQC5y",
        "trusted": true,
        "execution": {
          "iopub.status.busy": "2024-11-27T19:50:50.991121Z",
          "iopub.execute_input": "2024-11-27T19:50:50.991459Z",
          "iopub.status.idle": "2024-11-27T19:50:51.000682Z",
          "shell.execute_reply.started": "2024-11-27T19:50:50.991420Z",
          "shell.execute_reply": "2024-11-27T19:50:50.999967Z"
        }
      },
      "outputs": [],
      "execution_count": null
    },
    {
      "cell_type": "code",
      "source": [
        "def update_global_model(global_model, aggregated_weights):\n",
        "\n",
        "    global_model.set_weights(aggregated_weights)\n"
      ],
      "metadata": {
        "id": "mUuW-aPcQFOc",
        "trusted": true,
        "execution": {
          "iopub.status.busy": "2024-11-27T19:50:51.001622Z",
          "iopub.execute_input": "2024-11-27T19:50:51.001930Z",
          "iopub.status.idle": "2024-11-27T19:50:51.008864Z",
          "shell.execute_reply.started": "2024-11-27T19:50:51.001891Z",
          "shell.execute_reply": "2024-11-27T19:50:51.008069Z"
        }
      },
      "outputs": [],
      "execution_count": null
    },
    {
      "cell_type": "code",
      "source": [
        "# Initialiser le modèle global\n",
        "\n",
        "global_model = create_model()\n",
        "\n",
        "\n",
        "\n",
        "num_rounds = 10  # Nombre de rounds d'entraînement fédéré\n",
        "\n",
        "client_weights_per_round = []\n",
        "\n",
        "\n",
        "\n",
        "for round_num in range(num_rounds):\n",
        "\n",
        "    print(f\"Round {round_num + 1}/{num_rounds}\")\n",
        "\n",
        "\n",
        "\n",
        "    # Entraîner les clients localement et collecter leurs poids\n",
        "\n",
        "    client_weights = []\n",
        "\n",
        "    for i in range(num_clients):\n",
        "\n",
        "        client_model = create_model()  # Chaque client a son propre modèle\n",
        "\n",
        "        client_model.set_weights(global_model.get_weights())  # Initialiser avec les poids du modèle global\n",
        "\n",
        "        weights = train_client_model(client_data[i], client_labels[i], client_model)  # Entraîner et obtenir les poids\n",
        "\n",
        "        client_weights.append(weights)\n",
        "\n",
        "\n",
        "\n",
        "    # Agréger les poids des clients\n",
        "\n",
        "    aggregated_weights = aggregate_weights(client_weights)\n",
        "\n",
        "\n",
        "\n",
        "    # Mettre à jour le modèle global\n",
        "\n",
        "    update_global_model(global_model, aggregated_weights)\n",
        "\n",
        "\n",
        "\n",
        "    # Évaluer le modèle global après chaque round\n",
        "\n",
        "    test_loss, test_accuracy = global_model.evaluate(x_test, y_test)\n",
        "\n",
        "    print(f\"Round {round_num + 1} - Test Accuracy: {test_accuracy:.4f}\")\n"
      ],
      "metadata": {
        "id": "hBMbXtLGQIDJ",
        "trusted": true,
        "execution": {
          "iopub.status.busy": "2024-11-27T19:50:51.009863Z",
          "iopub.execute_input": "2024-11-27T19:50:51.010120Z",
          "iopub.status.idle": "2024-11-27T21:54:39.059256Z",
          "shell.execute_reply.started": "2024-11-27T19:50:51.010096Z",
          "shell.execute_reply": "2024-11-27T21:54:39.058584Z"
        },
        "outputId": "9edb8f7c-93bc-4111-b8b1-568414dbf5c9"
      },
      "outputs": [
        {
          "name": "stderr",
          "text": "/opt/conda/lib/python3.10/site-packages/keras/src/layers/convolutional/base_conv.py:107: UserWarning: Do not pass an `input_shape`/`input_dim` argument to a layer. When using Sequential models, prefer using an `Input(shape)` object as the first layer in the model instead.\n  super().__init__(activity_regularizer=activity_regularizer, **kwargs)\n",
          "output_type": "stream"
        },
        {
          "name": "stdout",
          "text": "Round 1/10\nEpoch 1/5\n\u001b[1m1271/1271\u001b[0m \u001b[32m━━━━━━━━━━━━━━━━━━━━\u001b[0m\u001b[37m\u001b[0m \u001b[1m31s\u001b[0m 21ms/step - accuracy: 0.9520 - loss: 0.1690 - val_accuracy: 0.9541 - val_loss: 0.1711\nEpoch 2/5\n\u001b[1m1271/1271\u001b[0m \u001b[32m━━━━━━━━━━━━━━━━━━━━\u001b[0m\u001b[37m\u001b[0m \u001b[1m25s\u001b[0m 20ms/step - accuracy: 0.9726 - loss: 0.0697 - val_accuracy: 0.9703 - val_loss: 0.0806\nEpoch 3/5\n\u001b[1m1271/1271\u001b[0m \u001b[32m━━━━━━━━━━━━━━━━━━━━\u001b[0m\u001b[37m\u001b[0m \u001b[1m25s\u001b[0m 20ms/step - accuracy: 0.9743 - loss: 0.0654 - val_accuracy: 0.9695 - val_loss: 0.0827\nEpoch 4/5\n\u001b[1m1271/1271\u001b[0m \u001b[32m━━━━━━━━━━━━━━━━━━━━\u001b[0m\u001b[37m\u001b[0m \u001b[1m25s\u001b[0m 20ms/step - accuracy: 0.9756 - loss: 0.0623 - val_accuracy: 0.9755 - val_loss: 0.0622\nEpoch 5/5\n\u001b[1m1271/1271\u001b[0m \u001b[32m━━━━━━━━━━━━━━━━━━━━\u001b[0m\u001b[37m\u001b[0m \u001b[1m25s\u001b[0m 20ms/step - accuracy: 0.9759 - loss: 0.0614 - val_accuracy: 0.9752 - val_loss: 0.0692\nEpoch 1/5\n\u001b[1m1271/1271\u001b[0m \u001b[32m━━━━━━━━━━━━━━━━━━━━\u001b[0m\u001b[37m\u001b[0m \u001b[1m31s\u001b[0m 21ms/step - accuracy: 0.9513 - loss: 0.1734 - val_accuracy: 0.9673 - val_loss: 0.0823\nEpoch 2/5\n\u001b[1m1271/1271\u001b[0m \u001b[32m━━━━━━━━━━━━━━━━━━━━\u001b[0m\u001b[37m\u001b[0m \u001b[1m25s\u001b[0m 20ms/step - accuracy: 0.9717 - loss: 0.0741 - val_accuracy: 0.8851 - val_loss: 0.3182\nEpoch 3/5\n\u001b[1m1271/1271\u001b[0m \u001b[32m━━━━━━━━━━━━━━━━━━━━\u001b[0m\u001b[37m\u001b[0m \u001b[1m25s\u001b[0m 20ms/step - accuracy: 0.9738 - loss: 0.0663 - val_accuracy: 0.9705 - val_loss: 0.0819\nEpoch 4/5\n\u001b[1m1271/1271\u001b[0m \u001b[32m━━━━━━━━━━━━━━━━━━━━\u001b[0m\u001b[37m\u001b[0m \u001b[1m25s\u001b[0m 20ms/step - accuracy: 0.9742 - loss: 0.0641 - val_accuracy: 0.9757 - val_loss: 0.0618\nEpoch 5/5\n\u001b[1m1271/1271\u001b[0m \u001b[32m━━━━━━━━━━━━━━━━━━━━\u001b[0m\u001b[37m\u001b[0m \u001b[1m25s\u001b[0m 20ms/step - accuracy: 0.9743 - loss: 0.0632 - val_accuracy: 0.9757 - val_loss: 0.0627\nEpoch 1/5\n\u001b[1m1271/1271\u001b[0m \u001b[32m━━━━━━━━━━━━━━━━━━━━\u001b[0m\u001b[37m\u001b[0m \u001b[1m31s\u001b[0m 21ms/step - accuracy: 0.9518 - loss: 0.1705 - val_accuracy: 0.9718 - val_loss: 0.0742\nEpoch 2/5\n\u001b[1m1271/1271\u001b[0m \u001b[32m━━━━━━━━━━━━━━━━━━━━\u001b[0m\u001b[37m\u001b[0m \u001b[1m25s\u001b[0m 20ms/step - accuracy: 0.9725 - loss: 0.0712 - val_accuracy: 0.9738 - val_loss: 0.0680\nEpoch 3/5\n\u001b[1m1271/1271\u001b[0m \u001b[32m━━━━━━━━━━━━━━━━━━━━\u001b[0m\u001b[37m\u001b[0m \u001b[1m25s\u001b[0m 20ms/step - accuracy: 0.9736 - loss: 0.0670 - val_accuracy: 0.9748 - val_loss: 0.0635\nEpoch 4/5\n\u001b[1m1271/1271\u001b[0m \u001b[32m━━━━━━━━━━━━━━━━━━━━\u001b[0m\u001b[37m\u001b[0m \u001b[1m25s\u001b[0m 20ms/step - accuracy: 0.9747 - loss: 0.0634 - val_accuracy: 0.9753 - val_loss: 0.0635\nEpoch 5/5\n\u001b[1m1271/1271\u001b[0m \u001b[32m━━━━━━━━━━━━━━━━━━━━\u001b[0m\u001b[37m\u001b[0m \u001b[1m26s\u001b[0m 20ms/step - accuracy: 0.9745 - loss: 0.0651 - val_accuracy: 0.9738 - val_loss: 0.0675\nEpoch 1/5\n\u001b[1m1271/1271\u001b[0m \u001b[32m━━━━━━━━━━━━━━━━━━━━\u001b[0m\u001b[37m\u001b[0m \u001b[1m30s\u001b[0m 21ms/step - accuracy: 0.9522 - loss: 0.1710 - val_accuracy: 0.8823 - val_loss: 0.3741\nEpoch 2/5\n\u001b[1m1271/1271\u001b[0m \u001b[32m━━━━━━━━━━━━━━━━━━━━\u001b[0m\u001b[37m\u001b[0m \u001b[1m25s\u001b[0m 20ms/step - accuracy: 0.9726 - loss: 0.0711 - val_accuracy: 0.9696 - val_loss: 0.0792\nEpoch 3/5\n\u001b[1m1271/1271\u001b[0m \u001b[32m━━━━━━━━━━━━━━━━━━━━\u001b[0m\u001b[37m\u001b[0m \u001b[1m25s\u001b[0m 20ms/step - accuracy: 0.9742 - loss: 0.0656 - val_accuracy: 0.9739 - val_loss: 0.0627\nEpoch 4/5\n\u001b[1m1271/1271\u001b[0m \u001b[32m━━━━━━━━━━━━━━━━━━━━\u001b[0m\u001b[37m\u001b[0m \u001b[1m25s\u001b[0m 20ms/step - accuracy: 0.9744 - loss: 0.0641 - val_accuracy: 0.9733 - val_loss: 0.0683\nEpoch 5/5\n\u001b[1m1271/1271\u001b[0m \u001b[32m━━━━━━━━━━━━━━━━━━━━\u001b[0m\u001b[37m\u001b[0m \u001b[1m25s\u001b[0m 20ms/step - accuracy: 0.9756 - loss: 0.0613 - val_accuracy: 0.9752 - val_loss: 0.0629\nEpoch 1/5\n\u001b[1m1271/1271\u001b[0m \u001b[32m━━━━━━━━━━━━━━━━━━━━\u001b[0m\u001b[37m\u001b[0m \u001b[1m30s\u001b[0m 21ms/step - accuracy: 0.9502 - loss: 0.1751 - val_accuracy: 0.9715 - val_loss: 0.0730\nEpoch 2/5\n\u001b[1m1271/1271\u001b[0m \u001b[32m━━━━━━━━━━━━━━━━━━━━\u001b[0m\u001b[37m\u001b[0m \u001b[1m25s\u001b[0m 20ms/step - accuracy: 0.9732 - loss: 0.0694 - val_accuracy: 0.9287 - val_loss: 0.2043\nEpoch 3/5\n\u001b[1m1271/1271\u001b[0m \u001b[32m━━━━━━━━━━━━━━━━━━━━\u001b[0m\u001b[37m\u001b[0m \u001b[1m25s\u001b[0m 20ms/step - accuracy: 0.9737 - loss: 0.0659 - val_accuracy: 0.9739 - val_loss: 0.0666\nEpoch 4/5\n\u001b[1m1271/1271\u001b[0m \u001b[32m━━━━━━━━━━━━━━━━━━━━\u001b[0m\u001b[37m\u001b[0m \u001b[1m25s\u001b[0m 20ms/step - accuracy: 0.9752 - loss: 0.0627 - val_accuracy: 0.9746 - val_loss: 0.0647\nEpoch 5/5\n\u001b[1m1271/1271\u001b[0m \u001b[32m━━━━━━━━━━━━━━━━━━━━\u001b[0m\u001b[37m\u001b[0m \u001b[1m25s\u001b[0m 20ms/step - accuracy: 0.9757 - loss: 0.0610 - val_accuracy: 0.9754 - val_loss: 0.0635\n\u001b[1m15876/15876\u001b[0m \u001b[32m━━━━━━━━━━━━━━━━━━━━\u001b[0m\u001b[37m\u001b[0m \u001b[1m77s\u001b[0m 5ms/step - accuracy: 0.9676 - loss: 0.0857\nRound 1 - Test Accuracy: 0.9677\nRound 2/10\nEpoch 1/5\n\u001b[1m1271/1271\u001b[0m \u001b[32m━━━━━━━━━━━━━━━━━━━━\u001b[0m\u001b[37m\u001b[0m \u001b[1m31s\u001b[0m 21ms/step - accuracy: 0.9745 - loss: 0.0656 - val_accuracy: 0.9660 - val_loss: 0.0981\nEpoch 2/5\n\u001b[1m1271/1271\u001b[0m \u001b[32m━━━━━━━━━━━━━━━━━━━━\u001b[0m\u001b[37m\u001b[0m \u001b[1m25s\u001b[0m 20ms/step - accuracy: 0.9752 - loss: 0.0617 - val_accuracy: 0.9758 - val_loss: 0.0616\nEpoch 3/5\n\u001b[1m1271/1271\u001b[0m \u001b[32m━━━━━━━━━━━━━━━━━━━━\u001b[0m\u001b[37m\u001b[0m \u001b[1m25s\u001b[0m 20ms/step - accuracy: 0.9764 - loss: 0.0600 - val_accuracy: 0.9759 - val_loss: 0.0610\nEpoch 4/5\n\u001b[1m1271/1271\u001b[0m \u001b[32m━━━━━━━━━━━━━━━━━━━━\u001b[0m\u001b[37m\u001b[0m \u001b[1m25s\u001b[0m 20ms/step - accuracy: 0.9766 - loss: 0.0588 - val_accuracy: 0.9752 - val_loss: 0.0628\nEpoch 5/5\n\u001b[1m1271/1271\u001b[0m \u001b[32m━━━━━━━━━━━━━━━━━━━━\u001b[0m\u001b[37m\u001b[0m \u001b[1m25s\u001b[0m 20ms/step - accuracy: 0.9773 - loss: 0.0573 - val_accuracy: 0.9753 - val_loss: 0.0629\nEpoch 1/5\n\u001b[1m1271/1271\u001b[0m \u001b[32m━━━━━━━━━━━━━━━━━━━━\u001b[0m\u001b[37m\u001b[0m \u001b[1m30s\u001b[0m 21ms/step - accuracy: 0.9734 - loss: 0.0679 - val_accuracy: 0.9742 - val_loss: 0.0636\nEpoch 2/5\n\u001b[1m1271/1271\u001b[0m \u001b[32m━━━━━━━━━━━━━━━━━━━━\u001b[0m\u001b[37m\u001b[0m \u001b[1m25s\u001b[0m 20ms/step - accuracy: 0.9753 - loss: 0.0617 - val_accuracy: 0.9758 - val_loss: 0.0602\nEpoch 3/5\n\u001b[1m1271/1271\u001b[0m \u001b[32m━━━━━━━━━━━━━━━━━━━━\u001b[0m\u001b[37m\u001b[0m \u001b[1m25s\u001b[0m 20ms/step - accuracy: 0.9758 - loss: 0.0615 - val_accuracy: 0.9762 - val_loss: 0.0598\nEpoch 4/5\n\u001b[1m1271/1271\u001b[0m \u001b[32m━━━━━━━━━━━━━━━━━━━━\u001b[0m\u001b[37m\u001b[0m \u001b[1m25s\u001b[0m 20ms/step - accuracy: 0.9756 - loss: 0.0606 - val_accuracy: 0.9751 - val_loss: 0.0668\nEpoch 5/5\n\u001b[1m1271/1271\u001b[0m \u001b[32m━━━━━━━━━━━━━━━━━━━━\u001b[0m\u001b[37m\u001b[0m \u001b[1m25s\u001b[0m 20ms/step - accuracy: 0.9766 - loss: 0.0585 - val_accuracy: 0.9770 - val_loss: 0.0585\nEpoch 1/5\n\u001b[1m1271/1271\u001b[0m \u001b[32m━━━━━━━━━━━━━━━━━━━━\u001b[0m\u001b[37m\u001b[0m \u001b[1m30s\u001b[0m 21ms/step - accuracy: 0.9743 - loss: 0.0663 - val_accuracy: 0.9706 - val_loss: 0.0843\nEpoch 2/5\n\u001b[1m1271/1271\u001b[0m \u001b[32m━━━━━━━━━━━━━━━━━━━━\u001b[0m\u001b[37m\u001b[0m \u001b[1m25s\u001b[0m 20ms/step - accuracy: 0.9753 - loss: 0.0629 - val_accuracy: 0.9765 - val_loss: 0.0601\nEpoch 3/5\n\u001b[1m1271/1271\u001b[0m \u001b[32m━━━━━━━━━━━━━━━━━━━━\u001b[0m\u001b[37m\u001b[0m \u001b[1m25s\u001b[0m 20ms/step - accuracy: 0.9763 - loss: 0.0590 - val_accuracy: 0.9756 - val_loss: 0.0630\nEpoch 4/5\n\u001b[1m1271/1271\u001b[0m \u001b[32m━━━━━━━━━━━━━━━━━━━━\u001b[0m\u001b[37m\u001b[0m \u001b[1m25s\u001b[0m 20ms/step - accuracy: 0.9767 - loss: 0.0596 - val_accuracy: 0.9758 - val_loss: 0.0613\nEpoch 5/5\n\u001b[1m1271/1271\u001b[0m \u001b[32m━━━━━━━━━━━━━━━━━━━━\u001b[0m\u001b[37m\u001b[0m \u001b[1m25s\u001b[0m 20ms/step - accuracy: 0.9768 - loss: 0.0582 - val_accuracy: 0.9761 - val_loss: 0.0612\nEpoch 1/5\n\u001b[1m1271/1271\u001b[0m \u001b[32m━━━━━━━━━━━━━━━━━━━━\u001b[0m\u001b[37m\u001b[0m \u001b[1m30s\u001b[0m 21ms/step - accuracy: 0.9735 - loss: 0.0677 - val_accuracy: 0.9744 - val_loss: 0.0661\nEpoch 2/5\n\u001b[1m1271/1271\u001b[0m \u001b[32m━━━━━━━━━━━━━━━━━━━━\u001b[0m\u001b[37m\u001b[0m \u001b[1m25s\u001b[0m 20ms/step - accuracy: 0.9745 - loss: 0.0643 - val_accuracy: 0.9758 - val_loss: 0.0600\nEpoch 3/5\n\u001b[1m1271/1271\u001b[0m \u001b[32m━━━━━━━━━━━━━━━━━━━━\u001b[0m\u001b[37m\u001b[0m \u001b[1m25s\u001b[0m 20ms/step - accuracy: 0.9759 - loss: 0.0609 - val_accuracy: 0.9759 - val_loss: 0.0616\nEpoch 4/5\n\u001b[1m1271/1271\u001b[0m \u001b[32m━━━━━━━━━━━━━━━━━━━━\u001b[0m\u001b[37m\u001b[0m \u001b[1m25s\u001b[0m 20ms/step - accuracy: 0.9760 - loss: 0.0601 - val_accuracy: 0.9769 - val_loss: 0.0585\nEpoch 5/5\n\u001b[1m1271/1271\u001b[0m \u001b[32m━━━━━━━━━━━━━━━━━━━━\u001b[0m\u001b[37m\u001b[0m \u001b[1m25s\u001b[0m 20ms/step - accuracy: 0.9766 - loss: 0.0577 - val_accuracy: 0.9772 - val_loss: 0.0573\nEpoch 1/5\n\u001b[1m1271/1271\u001b[0m \u001b[32m━━━━━━━━━━━━━━━━━━━━\u001b[0m\u001b[37m\u001b[0m \u001b[1m31s\u001b[0m 21ms/step - accuracy: 0.9742 - loss: 0.0659 - val_accuracy: 0.9757 - val_loss: 0.0620\nEpoch 2/5\n\u001b[1m1271/1271\u001b[0m \u001b[32m━━━━━━━━━━━━━━━━━━━━\u001b[0m\u001b[37m\u001b[0m \u001b[1m25s\u001b[0m 20ms/step - accuracy: 0.9756 - loss: 0.0617 - val_accuracy: 0.9755 - val_loss: 0.0620\nEpoch 3/5\n\u001b[1m1271/1271\u001b[0m \u001b[32m━━━━━━━━━━━━━━━━━━━━\u001b[0m\u001b[37m\u001b[0m \u001b[1m25s\u001b[0m 20ms/step - accuracy: 0.9767 - loss: 0.0592 - val_accuracy: 0.9659 - val_loss: 0.1068\nEpoch 4/5\n\u001b[1m1271/1271\u001b[0m \u001b[32m━━━━━━━━━━━━━━━━━━━━\u001b[0m\u001b[37m\u001b[0m \u001b[1m25s\u001b[0m 20ms/step - accuracy: 0.9774 - loss: 0.0572 - val_accuracy: 0.9769 - val_loss: 0.0582\nEpoch 5/5\n\u001b[1m1271/1271\u001b[0m \u001b[32m━━━━━━━━━━━━━━━━━━━━\u001b[0m\u001b[37m\u001b[0m \u001b[1m26s\u001b[0m 20ms/step - accuracy: 0.9765 - loss: 0.0578 - val_accuracy: 0.9717 - val_loss: 0.0767\n\u001b[1m15876/15876\u001b[0m \u001b[32m━━━━━━━━━━━━━━━━━━━━\u001b[0m\u001b[37m\u001b[0m \u001b[1m76s\u001b[0m 5ms/step - accuracy: 0.9762 - loss: 0.0598\nRound 2 - Test Accuracy: 0.9764\nRound 3/10\nEpoch 1/5\n\u001b[1m1271/1271\u001b[0m \u001b[32m━━━━━━━━━━━━━━━━━━━━\u001b[0m\u001b[37m\u001b[0m \u001b[1m30s\u001b[0m 21ms/step - accuracy: 0.9775 - loss: 0.0572 - val_accuracy: 0.9767 - val_loss: 0.0598\nEpoch 2/5\n\u001b[1m1271/1271\u001b[0m \u001b[32m━━━━━━━━━━━━━━━━━━━━\u001b[0m\u001b[37m\u001b[0m \u001b[1m25s\u001b[0m 20ms/step - accuracy: 0.9775 - loss: 0.0565 - val_accuracy: 0.9770 - val_loss: 0.0587\nEpoch 3/5\n\u001b[1m1271/1271\u001b[0m \u001b[32m━━━━━━━━━━━━━━━━━━━━\u001b[0m\u001b[37m\u001b[0m \u001b[1m25s\u001b[0m 20ms/step - accuracy: 0.9778 - loss: 0.0555 - val_accuracy: 0.8897 - val_loss: 0.5667\nEpoch 4/5\n\u001b[1m1271/1271\u001b[0m \u001b[32m━━━━━━━━━━━━━━━━━━━━\u001b[0m\u001b[37m\u001b[0m \u001b[1m25s\u001b[0m 20ms/step - accuracy: 0.9774 - loss: 0.0563 - val_accuracy: 0.9772 - val_loss: 0.0574\nEpoch 5/5\n\u001b[1m1271/1271\u001b[0m \u001b[32m━━━━━━━━━━━━━━━━━━━━\u001b[0m\u001b[37m\u001b[0m \u001b[1m25s\u001b[0m 20ms/step - accuracy: 0.9781 - loss: 0.0536 - val_accuracy: 0.9769 - val_loss: 0.0572\nEpoch 1/5\n\u001b[1m1271/1271\u001b[0m \u001b[32m━━━━━━━━━━━━━━━━━━━━\u001b[0m\u001b[37m\u001b[0m \u001b[1m30s\u001b[0m 21ms/step - accuracy: 0.9766 - loss: 0.0588 - val_accuracy: 0.9759 - val_loss: 0.0599\nEpoch 2/5\n\u001b[1m1271/1271\u001b[0m \u001b[32m━━━━━━━━━━━━━━━━━━━━\u001b[0m\u001b[37m\u001b[0m \u001b[1m25s\u001b[0m 20ms/step - accuracy: 0.9767 - loss: 0.0588 - val_accuracy: 0.9769 - val_loss: 0.0577\nEpoch 3/5\n\u001b[1m1271/1271\u001b[0m \u001b[32m━━━━━━━━━━━━━━━━━━━━\u001b[0m\u001b[37m\u001b[0m \u001b[1m25s\u001b[0m 20ms/step - accuracy: 0.9775 - loss: 0.0558 - val_accuracy: 0.9774 - val_loss: 0.0570\nEpoch 4/5\n\u001b[1m1271/1271\u001b[0m \u001b[32m━━━━━━━━━━━━━━━━━━━━\u001b[0m\u001b[37m\u001b[0m \u001b[1m25s\u001b[0m 20ms/step - accuracy: 0.9781 - loss: 0.0545 - val_accuracy: 0.9768 - val_loss: 0.0583\nEpoch 5/5\n\u001b[1m1271/1271\u001b[0m \u001b[32m━━━━━━━━━━━━━━━━━━━━\u001b[0m\u001b[37m\u001b[0m \u001b[1m25s\u001b[0m 20ms/step - accuracy: 0.9779 - loss: 0.0556 - val_accuracy: 0.9777 - val_loss: 0.0562\nEpoch 1/5\n\u001b[1m1271/1271\u001b[0m \u001b[32m━━━━━━━━━━━━━━━━━━━━\u001b[0m\u001b[37m\u001b[0m \u001b[1m30s\u001b[0m 21ms/step - accuracy: 0.9768 - loss: 0.0591 - val_accuracy: 0.9766 - val_loss: 0.0607\nEpoch 2/5\n\u001b[1m1271/1271\u001b[0m \u001b[32m━━━━━━━━━━━━━━━━━━━━\u001b[0m\u001b[37m\u001b[0m \u001b[1m25s\u001b[0m 20ms/step - accuracy: 0.9775 - loss: 0.0573 - val_accuracy: 0.9774 - val_loss: 0.0563\nEpoch 3/5\n\u001b[1m1271/1271\u001b[0m \u001b[32m━━━━━━━━━━━━━━━━━━━━\u001b[0m\u001b[37m\u001b[0m \u001b[1m25s\u001b[0m 20ms/step - accuracy: 0.9781 - loss: 0.0549 - val_accuracy: 0.9611 - val_loss: 0.1063\nEpoch 4/5\n\u001b[1m1271/1271\u001b[0m \u001b[32m━━━━━━━━━━━━━━━━━━━━\u001b[0m\u001b[37m\u001b[0m \u001b[1m28s\u001b[0m 22ms/step - accuracy: 0.9780 - loss: 0.0550 - val_accuracy: 0.9773 - val_loss: 0.0569\nEpoch 5/5\n\u001b[1m1271/1271\u001b[0m \u001b[32m━━━━━━━━━━━━━━━━━━━━\u001b[0m\u001b[37m\u001b[0m \u001b[1m25s\u001b[0m 20ms/step - accuracy: 0.9778 - loss: 0.0553 - val_accuracy: 0.9774 - val_loss: 0.0565\nEpoch 1/5\n\u001b[1m1271/1271\u001b[0m \u001b[32m━━━━━━━━━━━━━━━━━━━━\u001b[0m\u001b[37m\u001b[0m \u001b[1m30s\u001b[0m 21ms/step - accuracy: 0.9763 - loss: 0.0599 - val_accuracy: 0.9615 - val_loss: 0.1300\nEpoch 2/5\n\u001b[1m1271/1271\u001b[0m \u001b[32m━━━━━━━━━━━━━━━━━━━━\u001b[0m\u001b[37m\u001b[0m \u001b[1m25s\u001b[0m 20ms/step - accuracy: 0.9772 - loss: 0.0575 - val_accuracy: 0.9770 - val_loss: 0.0569\nEpoch 3/5\n\u001b[1m1271/1271\u001b[0m \u001b[32m━━━━━━━━━━━━━━━━━━━━\u001b[0m\u001b[37m\u001b[0m \u001b[1m25s\u001b[0m 20ms/step - accuracy: 0.9775 - loss: 0.0569 - val_accuracy: 0.8838 - val_loss: 0.3860\nEpoch 4/5\n\u001b[1m1271/1271\u001b[0m \u001b[32m━━━━━━━━━━━━━━━━━━━━\u001b[0m\u001b[37m\u001b[0m \u001b[1m25s\u001b[0m 20ms/step - accuracy: 0.9775 - loss: 0.0556 - val_accuracy: 0.8882 - val_loss: 0.3108\nEpoch 5/5\n\u001b[1m1271/1271\u001b[0m \u001b[32m━━━━━━━━━━━━━━━━━━━━\u001b[0m\u001b[37m\u001b[0m \u001b[1m25s\u001b[0m 20ms/step - accuracy: 0.9787 - loss: 0.0530 - val_accuracy: 0.9776 - val_loss: 0.0566\nEpoch 1/5\n\u001b[1m1271/1271\u001b[0m \u001b[32m━━━━━━━━━━━━━━━━━━━━\u001b[0m\u001b[37m\u001b[0m \u001b[1m31s\u001b[0m 21ms/step - accuracy: 0.9767 - loss: 0.0583 - val_accuracy: 0.9768 - val_loss: 0.0575\nEpoch 2/5\n\u001b[1m1271/1271\u001b[0m \u001b[32m━━━━━━━━━━━━━━━━━━━━\u001b[0m\u001b[37m\u001b[0m \u001b[1m25s\u001b[0m 20ms/step - accuracy: 0.9772 - loss: 0.0561 - val_accuracy: 0.9774 - val_loss: 0.0566\nEpoch 3/5\n\u001b[1m1271/1271\u001b[0m \u001b[32m━━━━━━━━━━━━━━━━━━━━\u001b[0m\u001b[37m\u001b[0m \u001b[1m25s\u001b[0m 20ms/step - accuracy: 0.9778 - loss: 0.0551 - val_accuracy: 0.9774 - val_loss: 0.0569\nEpoch 4/5\n\u001b[1m1271/1271\u001b[0m \u001b[32m━━━━━━━━━━━━━━━━━━━━\u001b[0m\u001b[37m\u001b[0m \u001b[1m25s\u001b[0m 20ms/step - accuracy: 0.9779 - loss: 0.0546 - val_accuracy: 0.9776 - val_loss: 0.0557\nEpoch 5/5\n\u001b[1m1271/1271\u001b[0m \u001b[32m━━━━━━━━━━━━━━━━━━━━\u001b[0m\u001b[37m\u001b[0m \u001b[1m25s\u001b[0m 20ms/step - accuracy: 0.9785 - loss: 0.0536 - val_accuracy: 0.9767 - val_loss: 0.0578\n\u001b[1m15876/15876\u001b[0m \u001b[32m━━━━━━━━━━━━━━━━━━━━\u001b[0m\u001b[37m\u001b[0m \u001b[1m76s\u001b[0m 5ms/step - accuracy: 0.9779 - loss: 0.0548\nRound 3 - Test Accuracy: 0.9780\nRound 4/10\nEpoch 1/5\n\u001b[1m1271/1271\u001b[0m \u001b[32m━━━━━━━━━━━━━━━━━━━━\u001b[0m\u001b[37m\u001b[0m \u001b[1m30s\u001b[0m 21ms/step - accuracy: 0.9782 - loss: 0.0554 - val_accuracy: 0.9775 - val_loss: 0.0564\nEpoch 2/5\n\u001b[1m1271/1271\u001b[0m \u001b[32m━━━━━━━━━━━━━━━━━━━━\u001b[0m\u001b[37m\u001b[0m \u001b[1m25s\u001b[0m 20ms/step - accuracy: 0.9781 - loss: 0.0547 - val_accuracy: 0.9782 - val_loss: 0.0546\nEpoch 3/5\n\u001b[1m1271/1271\u001b[0m \u001b[32m━━━━━━━━━━━━━━━━━━━━\u001b[0m\u001b[37m\u001b[0m \u001b[1m25s\u001b[0m 20ms/step - accuracy: 0.9787 - loss: 0.0533 - val_accuracy: 0.9773 - val_loss: 0.0572\nEpoch 4/5\n\u001b[1m1271/1271\u001b[0m \u001b[32m━━━━━━━━━━━━━━━━━━━━\u001b[0m\u001b[37m\u001b[0m \u001b[1m25s\u001b[0m 20ms/step - accuracy: 0.9786 - loss: 0.0525 - val_accuracy: 0.9754 - val_loss: 0.0669\nEpoch 5/5\n\u001b[1m1271/1271\u001b[0m \u001b[32m━━━━━━━━━━━━━━━━━━━━\u001b[0m\u001b[37m\u001b[0m \u001b[1m25s\u001b[0m 20ms/step - accuracy: 0.9792 - loss: 0.0516 - val_accuracy: 0.9776 - val_loss: 0.0556\nEpoch 1/5\n\u001b[1m1271/1271\u001b[0m \u001b[32m━━━━━━━━━━━━━━━━━━━━\u001b[0m\u001b[37m\u001b[0m \u001b[1m30s\u001b[0m 21ms/step - accuracy: 0.9776 - loss: 0.0549 - val_accuracy: 0.9777 - val_loss: 0.0569\nEpoch 2/5\n\u001b[1m1271/1271\u001b[0m \u001b[32m━━━━━━━━━━━━━━━━━━━━\u001b[0m\u001b[37m\u001b[0m \u001b[1m25s\u001b[0m 20ms/step - accuracy: 0.9781 - loss: 0.0548 - val_accuracy: 0.9778 - val_loss: 0.0556\nEpoch 3/5\n\u001b[1m1271/1271\u001b[0m \u001b[32m━━━━━━━━━━━━━━━━━━━━\u001b[0m\u001b[37m\u001b[0m \u001b[1m25s\u001b[0m 20ms/step - accuracy: 0.9781 - loss: 0.0539 - val_accuracy: 0.9781 - val_loss: 0.0549\nEpoch 4/5\n\u001b[1m1271/1271\u001b[0m \u001b[32m━━━━━━━━━━━━━━━━━━━━\u001b[0m\u001b[37m\u001b[0m \u001b[1m25s\u001b[0m 20ms/step - accuracy: 0.9777 - loss: 0.0542 - val_accuracy: 0.9776 - val_loss: 0.0557\nEpoch 5/5\n\u001b[1m1271/1271\u001b[0m \u001b[32m━━━━━━━━━━━━━━━━━━━━\u001b[0m\u001b[37m\u001b[0m \u001b[1m25s\u001b[0m 20ms/step - accuracy: 0.9779 - loss: 0.0537 - val_accuracy: 0.9780 - val_loss: 0.0556\nEpoch 1/5\n\u001b[1m1271/1271\u001b[0m \u001b[32m━━━━━━━━━━━━━━━━━━━━\u001b[0m\u001b[37m\u001b[0m \u001b[1m30s\u001b[0m 21ms/step - accuracy: 0.9776 - loss: 0.0560 - val_accuracy: 0.9685 - val_loss: 0.1011\nEpoch 2/5\n\u001b[1m1271/1271\u001b[0m \u001b[32m━━━━━━━━━━━━━━━━━━━━\u001b[0m\u001b[37m\u001b[0m \u001b[1m25s\u001b[0m 20ms/step - accuracy: 0.9782 - loss: 0.0553 - val_accuracy: 0.9778 - val_loss: 0.0554\nEpoch 3/5\n\u001b[1m1271/1271\u001b[0m \u001b[32m━━━━━━━━━━━━━━━━━━━━\u001b[0m\u001b[37m\u001b[0m \u001b[1m25s\u001b[0m 20ms/step - accuracy: 0.9780 - loss: 0.0547 - val_accuracy: 0.9778 - val_loss: 0.0553\nEpoch 4/5\n\u001b[1m1271/1271\u001b[0m \u001b[32m━━━━━━━━━━━━━━━━━━━━\u001b[0m\u001b[37m\u001b[0m \u001b[1m25s\u001b[0m 20ms/step - accuracy: 0.9783 - loss: 0.0534 - val_accuracy: 0.9782 - val_loss: 0.0551\nEpoch 5/5\n\u001b[1m1271/1271\u001b[0m \u001b[32m━━━━━━━━━━━━━━━━━━━━\u001b[0m\u001b[37m\u001b[0m \u001b[1m25s\u001b[0m 20ms/step - accuracy: 0.9791 - loss: 0.0521 - val_accuracy: 0.9746 - val_loss: 0.0856\nEpoch 1/5\n\u001b[1m1271/1271\u001b[0m \u001b[32m━━━━━━━━━━━━━━━━━━━━\u001b[0m\u001b[37m\u001b[0m \u001b[1m31s\u001b[0m 21ms/step - accuracy: 0.9777 - loss: 0.0561 - val_accuracy: 0.9782 - val_loss: 0.0549\nEpoch 2/5\n\u001b[1m1271/1271\u001b[0m \u001b[32m━━━━━━━━━━━━━━━━━━━━\u001b[0m\u001b[37m\u001b[0m \u001b[1m25s\u001b[0m 20ms/step - accuracy: 0.9782 - loss: 0.0540 - val_accuracy: 0.9780 - val_loss: 0.0550\nEpoch 3/5\n\u001b[1m1271/1271\u001b[0m \u001b[32m━━━━━━━━━━━━━━━━━━━━\u001b[0m\u001b[37m\u001b[0m \u001b[1m25s\u001b[0m 20ms/step - accuracy: 0.9782 - loss: 0.0539 - val_accuracy: 0.9778 - val_loss: 0.0553\nEpoch 4/5\n\u001b[1m1271/1271\u001b[0m \u001b[32m━━━━━━━━━━━━━━━━━━━━\u001b[0m\u001b[37m\u001b[0m \u001b[1m25s\u001b[0m 20ms/step - accuracy: 0.9779 - loss: 0.0543 - val_accuracy: 0.9780 - val_loss: 0.0551\nEpoch 5/5\n\u001b[1m1271/1271\u001b[0m \u001b[32m━━━━━━━━━━━━━━━━━━━━\u001b[0m\u001b[37m\u001b[0m \u001b[1m25s\u001b[0m 20ms/step - accuracy: 0.9790 - loss: 0.0515 - val_accuracy: 0.9782 - val_loss: 0.0545\nEpoch 1/5\n\u001b[1m1271/1271\u001b[0m \u001b[32m━━━━━━━━━━━━━━━━━━━━\u001b[0m\u001b[37m\u001b[0m \u001b[1m31s\u001b[0m 21ms/step - accuracy: 0.9778 - loss: 0.0548 - val_accuracy: 0.9778 - val_loss: 0.0558\nEpoch 2/5\n\u001b[1m1271/1271\u001b[0m \u001b[32m━━━━━━━━━━━━━━━━━━━━\u001b[0m\u001b[37m\u001b[0m \u001b[1m25s\u001b[0m 20ms/step - accuracy: 0.9785 - loss: 0.0540 - val_accuracy: 0.9779 - val_loss: 0.0551\nEpoch 3/5\n\u001b[1m1271/1271\u001b[0m \u001b[32m━━━━━━━━━━━━━━━━━━━━\u001b[0m\u001b[37m\u001b[0m \u001b[1m25s\u001b[0m 20ms/step - accuracy: 0.9781 - loss: 0.0537 - val_accuracy: 0.9780 - val_loss: 0.0545\nEpoch 4/5\n\u001b[1m1271/1271\u001b[0m \u001b[32m━━━━━━━━━━━━━━━━━━━━\u001b[0m\u001b[37m\u001b[0m \u001b[1m26s\u001b[0m 20ms/step - accuracy: 0.9782 - loss: 0.0534 - val_accuracy: 0.9779 - val_loss: 0.0560\nEpoch 5/5\n\u001b[1m1271/1271\u001b[0m \u001b[32m━━━━━━━━━━━━━━━━━━━━\u001b[0m\u001b[37m\u001b[0m \u001b[1m25s\u001b[0m 20ms/step - accuracy: 0.9789 - loss: 0.0519 - val_accuracy: 0.9777 - val_loss: 0.0557\n\u001b[1m15876/15876\u001b[0m \u001b[32m━━━━━━━━━━━━━━━━━━━━\u001b[0m\u001b[37m\u001b[0m \u001b[1m77s\u001b[0m 5ms/step - accuracy: 0.9786 - loss: 0.0537\nRound 4 - Test Accuracy: 0.9787\nRound 5/10\nEpoch 1/5\n\u001b[1m1271/1271\u001b[0m \u001b[32m━━━━━━━━━━━━━━━━━━━━\u001b[0m\u001b[37m\u001b[0m \u001b[1m31s\u001b[0m 21ms/step - accuracy: 0.9787 - loss: 0.0532 - val_accuracy: 0.9764 - val_loss: 0.0585\nEpoch 2/5\n\u001b[1m1271/1271\u001b[0m \u001b[32m━━━━━━━━━━━━━━━━━━━━\u001b[0m\u001b[37m\u001b[0m \u001b[1m25s\u001b[0m 20ms/step - accuracy: 0.9788 - loss: 0.0528 - val_accuracy: 0.9779 - val_loss: 0.0553\nEpoch 3/5\n\u001b[1m1271/1271\u001b[0m \u001b[32m━━━━━━━━━━━━━━━━━━━━\u001b[0m\u001b[37m\u001b[0m \u001b[1m25s\u001b[0m 20ms/step - accuracy: 0.9789 - loss: 0.0517 - val_accuracy: 0.9767 - val_loss: 0.0603\nEpoch 4/5\n\u001b[1m1271/1271\u001b[0m \u001b[32m━━━━━━━━━━━━━━━━━━━━\u001b[0m\u001b[37m\u001b[0m \u001b[1m26s\u001b[0m 20ms/step - accuracy: 0.9794 - loss: 0.0505 - val_accuracy: 0.9774 - val_loss: 0.0560\nEpoch 5/5\n\u001b[1m1271/1271\u001b[0m \u001b[32m━━━━━━━━━━━━━━━━━━━━\u001b[0m\u001b[37m\u001b[0m \u001b[1m25s\u001b[0m 20ms/step - accuracy: 0.9791 - loss: 0.0516 - val_accuracy: 0.9785 - val_loss: 0.0538\nEpoch 1/5\n\u001b[1m1271/1271\u001b[0m \u001b[32m━━━━━━━━━━━━━━━━━━━━\u001b[0m\u001b[37m\u001b[0m \u001b[1m30s\u001b[0m 21ms/step - accuracy: 0.9783 - loss: 0.0539 - val_accuracy: 0.9783 - val_loss: 0.0540\nEpoch 2/5\n\u001b[1m1271/1271\u001b[0m \u001b[32m━━━━━━━━━━━━━━━━━━━━\u001b[0m\u001b[37m\u001b[0m \u001b[1m25s\u001b[0m 20ms/step - accuracy: 0.9784 - loss: 0.0531 - val_accuracy: 0.9781 - val_loss: 0.0557\nEpoch 3/5\n\u001b[1m1271/1271\u001b[0m \u001b[32m━━━━━━━━━━━━━━━━━━━━\u001b[0m\u001b[37m\u001b[0m \u001b[1m25s\u001b[0m 20ms/step - accuracy: 0.9780 - loss: 0.0539 - val_accuracy: 0.9785 - val_loss: 0.0540\nEpoch 4/5\n\u001b[1m1271/1271\u001b[0m \u001b[32m━━━━━━━━━━━━━━━━━━━━\u001b[0m\u001b[37m\u001b[0m \u001b[1m25s\u001b[0m 20ms/step - accuracy: 0.9784 - loss: 0.0528 - val_accuracy: 0.9712 - val_loss: 0.0846\nEpoch 5/5\n\u001b[1m1271/1271\u001b[0m \u001b[32m━━━━━━━━━━━━━━━━━━━━\u001b[0m\u001b[37m\u001b[0m \u001b[1m25s\u001b[0m 20ms/step - accuracy: 0.9787 - loss: 0.0521 - val_accuracy: 0.9783 - val_loss: 0.0540\nEpoch 1/5\n\u001b[1m1271/1271\u001b[0m \u001b[32m━━━━━━━━━━━━━━━━━━━━\u001b[0m\u001b[37m\u001b[0m \u001b[1m30s\u001b[0m 21ms/step - accuracy: 0.9784 - loss: 0.0540 - val_accuracy: 0.9781 - val_loss: 0.0545\nEpoch 2/5\n\u001b[1m1271/1271\u001b[0m \u001b[32m━━━━━━━━━━━━━━━━━━━━\u001b[0m\u001b[37m\u001b[0m \u001b[1m25s\u001b[0m 20ms/step - accuracy: 0.9784 - loss: 0.0531 - val_accuracy: 0.9784 - val_loss: 0.0537\nEpoch 3/5\n\u001b[1m1271/1271\u001b[0m \u001b[32m━━━━━━━━━━━━━━━━━━━━\u001b[0m\u001b[37m\u001b[0m \u001b[1m25s\u001b[0m 20ms/step - accuracy: 0.9786 - loss: 0.0523 - val_accuracy: 0.9779 - val_loss: 0.0545\nEpoch 4/5\n\u001b[1m1271/1271\u001b[0m \u001b[32m━━━━━━━━━━━━━━━━━━━━\u001b[0m\u001b[37m\u001b[0m \u001b[1m25s\u001b[0m 20ms/step - accuracy: 0.9790 - loss: 0.0522 - val_accuracy: 0.9781 - val_loss: 0.0549\nEpoch 5/5\n\u001b[1m1271/1271\u001b[0m \u001b[32m━━━━━━━━━━━━━━━━━━━━\u001b[0m\u001b[37m\u001b[0m \u001b[1m25s\u001b[0m 20ms/step - accuracy: 0.9789 - loss: 0.0518 - val_accuracy: 0.9784 - val_loss: 0.0540\nEpoch 1/5\n\u001b[1m1271/1271\u001b[0m \u001b[32m━━━━━━━━━━━━━━━━━━━━\u001b[0m\u001b[37m\u001b[0m \u001b[1m30s\u001b[0m 21ms/step - accuracy: 0.9781 - loss: 0.0545 - val_accuracy: 0.9779 - val_loss: 0.0542\nEpoch 2/5\n\u001b[1m1271/1271\u001b[0m \u001b[32m━━━━━━━━━━━━━━━━━━━━\u001b[0m\u001b[37m\u001b[0m \u001b[1m25s\u001b[0m 20ms/step - accuracy: 0.9781 - loss: 0.0537 - val_accuracy: 0.9782 - val_loss: 0.0544\nEpoch 3/5\n\u001b[1m1271/1271\u001b[0m \u001b[32m━━━━━━━━━━━━━━━━━━━━\u001b[0m\u001b[37m\u001b[0m \u001b[1m25s\u001b[0m 20ms/step - accuracy: 0.9785 - loss: 0.0525 - val_accuracy: 0.9771 - val_loss: 0.0584\nEpoch 4/5\n\u001b[1m1271/1271\u001b[0m \u001b[32m━━━━━━━━━━━━━━━━━━━━\u001b[0m\u001b[37m\u001b[0m \u001b[1m25s\u001b[0m 20ms/step - accuracy: 0.9787 - loss: 0.0523 - val_accuracy: 0.9781 - val_loss: 0.0558\nEpoch 5/5\n\u001b[1m1271/1271\u001b[0m \u001b[32m━━━━━━━━━━━━━━━━━━━━\u001b[0m\u001b[37m\u001b[0m \u001b[1m25s\u001b[0m 20ms/step - accuracy: 0.9788 - loss: 0.0517 - val_accuracy: 0.9782 - val_loss: 0.0543\nEpoch 1/5\n\u001b[1m1271/1271\u001b[0m \u001b[32m━━━━━━━━━━━━━━━━━━━━\u001b[0m\u001b[37m\u001b[0m \u001b[1m30s\u001b[0m 21ms/step - accuracy: 0.9778 - loss: 0.0543 - val_accuracy: 0.9777 - val_loss: 0.0565\nEpoch 2/5\n\u001b[1m1271/1271\u001b[0m \u001b[32m━━━━━━━━━━━━━━━━━━━━\u001b[0m\u001b[37m\u001b[0m \u001b[1m25s\u001b[0m 20ms/step - accuracy: 0.9786 - loss: 0.0524 - val_accuracy: 0.9766 - val_loss: 0.0551\nEpoch 3/5\n\u001b[1m1271/1271\u001b[0m \u001b[32m━━━━━━━━━━━━━━━━━━━━\u001b[0m\u001b[37m\u001b[0m \u001b[1m26s\u001b[0m 20ms/step - accuracy: 0.9786 - loss: 0.0517 - val_accuracy: 0.9785 - val_loss: 0.0538\nEpoch 4/5\n\u001b[1m1271/1271\u001b[0m \u001b[32m━━━━━━━━━━━━━━━━━━━━\u001b[0m\u001b[37m\u001b[0m \u001b[1m25s\u001b[0m 20ms/step - accuracy: 0.9791 - loss: 0.0511 - val_accuracy: 0.9783 - val_loss: 0.0537\nEpoch 5/5\n\u001b[1m1271/1271\u001b[0m \u001b[32m━━━━━━━━━━━━━━━━━━━━\u001b[0m\u001b[37m\u001b[0m \u001b[1m25s\u001b[0m 20ms/step - accuracy: 0.9796 - loss: 0.0502 - val_accuracy: 0.9769 - val_loss: 0.0563\n\u001b[1m15876/15876\u001b[0m \u001b[32m━━━━━━━━━━━━━━━━━━━━\u001b[0m\u001b[37m\u001b[0m \u001b[1m76s\u001b[0m 5ms/step - accuracy: 0.9788 - loss: 0.0525\nRound 5 - Test Accuracy: 0.9789\nRound 6/10\nEpoch 1/5\n\u001b[1m1271/1271\u001b[0m \u001b[32m━━━━━━━━━━━━━━━━━━━━\u001b[0m\u001b[37m\u001b[0m \u001b[1m30s\u001b[0m 21ms/step - accuracy: 0.9795 - loss: 0.0511 - val_accuracy: 0.9784 - val_loss: 0.0540\nEpoch 2/5\n\u001b[1m1271/1271\u001b[0m \u001b[32m━━━━━━━━━━━━━━━━━━━━\u001b[0m\u001b[37m\u001b[0m \u001b[1m25s\u001b[0m 20ms/step - accuracy: 0.9789 - loss: 0.0517 - val_accuracy: 0.9785 - val_loss: 0.0535\nEpoch 3/5\n\u001b[1m1271/1271\u001b[0m \u001b[32m━━━━━━━━━━━━━━━━━━━━\u001b[0m\u001b[37m\u001b[0m \u001b[1m25s\u001b[0m 20ms/step - accuracy: 0.9794 - loss: 0.0509 - val_accuracy: 0.9778 - val_loss: 0.0563\nEpoch 4/5\n\u001b[1m1271/1271\u001b[0m \u001b[32m━━━━━━━━━━━━━━━━━━━━\u001b[0m\u001b[37m\u001b[0m \u001b[1m25s\u001b[0m 20ms/step - accuracy: 0.9796 - loss: 0.0504 - val_accuracy: 0.9785 - val_loss: 0.0534\nEpoch 5/5\n\u001b[1m1271/1271\u001b[0m \u001b[32m━━━━━━━━━━━━━━━━━━━━\u001b[0m\u001b[37m\u001b[0m \u001b[1m25s\u001b[0m 20ms/step - accuracy: 0.9797 - loss: 0.0502 - val_accuracy: 0.9783 - val_loss: 0.0544\nEpoch 1/5\n\u001b[1m1271/1271\u001b[0m \u001b[32m━━━━━━━━━━━━━━━━━━━━\u001b[0m\u001b[37m\u001b[0m \u001b[1m32s\u001b[0m 21ms/step - accuracy: 0.9784 - loss: 0.0525 - val_accuracy: 0.9779 - val_loss: 0.0566\nEpoch 2/5\n\u001b[1m1271/1271\u001b[0m \u001b[32m━━━━━━━━━━━━━━━━━━━━\u001b[0m\u001b[37m\u001b[0m \u001b[1m26s\u001b[0m 20ms/step - accuracy: 0.9789 - loss: 0.0518 - val_accuracy: 0.9776 - val_loss: 0.0558\nEpoch 3/5\n\u001b[1m1271/1271\u001b[0m \u001b[32m━━━━━━━━━━━━━━━━━━━━\u001b[0m\u001b[37m\u001b[0m \u001b[1m25s\u001b[0m 20ms/step - accuracy: 0.9785 - loss: 0.0517 - val_accuracy: 0.9784 - val_loss: 0.0542\nEpoch 4/5\n\u001b[1m1271/1271\u001b[0m \u001b[32m━━━━━━━━━━━━━━━━━━━━\u001b[0m\u001b[37m\u001b[0m \u001b[1m25s\u001b[0m 20ms/step - accuracy: 0.9791 - loss: 0.0507 - val_accuracy: 0.9786 - val_loss: 0.0531\nEpoch 5/5\n\u001b[1m1271/1271\u001b[0m \u001b[32m━━━━━━━━━━━━━━━━━━━━\u001b[0m\u001b[37m\u001b[0m \u001b[1m25s\u001b[0m 20ms/step - accuracy: 0.9791 - loss: 0.0512 - val_accuracy: 0.9788 - val_loss: 0.0534\nEpoch 1/5\n\u001b[1m1271/1271\u001b[0m \u001b[32m━━━━━━━━━━━━━━━━━━━━\u001b[0m\u001b[37m\u001b[0m \u001b[1m31s\u001b[0m 21ms/step - accuracy: 0.9786 - loss: 0.0536 - val_accuracy: 0.9782 - val_loss: 0.0541\nEpoch 2/5\n\u001b[1m1271/1271\u001b[0m \u001b[32m━━━━━━━━━━━━━━━━━━━━\u001b[0m\u001b[37m\u001b[0m \u001b[1m25s\u001b[0m 20ms/step - accuracy: 0.9783 - loss: 0.0527 - val_accuracy: 0.9785 - val_loss: 0.0536\nEpoch 3/5\n\u001b[1m1271/1271\u001b[0m \u001b[32m━━━━━━━━━━━━━━━━━━━━\u001b[0m\u001b[37m\u001b[0m \u001b[1m25s\u001b[0m 20ms/step - accuracy: 0.9789 - loss: 0.0516 - val_accuracy: 0.9779 - val_loss: 0.0557\nEpoch 4/5\n\u001b[1m1271/1271\u001b[0m \u001b[32m━━━━━━━━━━━━━━━━━━━━\u001b[0m\u001b[37m\u001b[0m \u001b[1m25s\u001b[0m 20ms/step - accuracy: 0.9792 - loss: 0.0510 - val_accuracy: 0.9785 - val_loss: 0.0532\nEpoch 5/5\n\u001b[1m1271/1271\u001b[0m \u001b[32m━━━━━━━━━━━━━━━━━━━━\u001b[0m\u001b[37m\u001b[0m \u001b[1m25s\u001b[0m 20ms/step - accuracy: 0.9789 - loss: 0.0508 - val_accuracy: 0.9782 - val_loss: 0.0544\nEpoch 1/5\n\u001b[1m1271/1271\u001b[0m \u001b[32m━━━━━━━━━━━━━━━━━━━━\u001b[0m\u001b[37m\u001b[0m \u001b[1m30s\u001b[0m 21ms/step - accuracy: 0.9785 - loss: 0.0527 - val_accuracy: 0.9788 - val_loss: 0.0526\nEpoch 2/5\n\u001b[1m1271/1271\u001b[0m \u001b[32m━━━━━━━━━━━━━━━━━━━━\u001b[0m\u001b[37m\u001b[0m \u001b[1m26s\u001b[0m 20ms/step - accuracy: 0.9791 - loss: 0.0520 - val_accuracy: 0.9787 - val_loss: 0.0532\nEpoch 3/5\n\u001b[1m1271/1271\u001b[0m \u001b[32m━━━━━━━━━━━━━━━━━━━━\u001b[0m\u001b[37m\u001b[0m \u001b[1m26s\u001b[0m 20ms/step - accuracy: 0.9789 - loss: 0.0518 - val_accuracy: 0.9786 - val_loss: 0.0532\nEpoch 4/5\n\u001b[1m1271/1271\u001b[0m \u001b[32m━━━━━━━━━━━━━━━━━━━━\u001b[0m\u001b[37m\u001b[0m \u001b[1m25s\u001b[0m 20ms/step - accuracy: 0.9791 - loss: 0.0509 - val_accuracy: 0.9784 - val_loss: 0.0536\nEpoch 5/5\n\u001b[1m1271/1271\u001b[0m \u001b[32m━━━━━━━━━━━━━━━━━━━━\u001b[0m\u001b[37m\u001b[0m \u001b[1m25s\u001b[0m 20ms/step - accuracy: 0.9799 - loss: 0.0493 - val_accuracy: 0.9787 - val_loss: 0.0531\nEpoch 1/5\n\u001b[1m1271/1271\u001b[0m \u001b[32m━━━━━━━━━━━━━━━━━━━━\u001b[0m\u001b[37m\u001b[0m \u001b[1m30s\u001b[0m 21ms/step - accuracy: 0.9786 - loss: 0.0526 - val_accuracy: 0.9771 - val_loss: 0.0589\nEpoch 2/5\n\u001b[1m1271/1271\u001b[0m \u001b[32m━━━━━━━━━━━━━━━━━━━━\u001b[0m\u001b[37m\u001b[0m \u001b[1m25s\u001b[0m 20ms/step - accuracy: 0.9786 - loss: 0.0525 - val_accuracy: 0.9787 - val_loss: 0.0529\nEpoch 3/5\n\u001b[1m1271/1271\u001b[0m \u001b[32m━━━━━━━━━━━━━━━━━━━━\u001b[0m\u001b[37m\u001b[0m \u001b[1m25s\u001b[0m 20ms/step - accuracy: 0.9793 - loss: 0.0508 - val_accuracy: 0.9785 - val_loss: 0.0541\nEpoch 4/5\n\u001b[1m1271/1271\u001b[0m \u001b[32m━━━━━━━━━━━━━━━━━━━━\u001b[0m\u001b[37m\u001b[0m \u001b[1m25s\u001b[0m 20ms/step - accuracy: 0.9789 - loss: 0.0508 - val_accuracy: 0.9784 - val_loss: 0.0540\nEpoch 5/5\n\u001b[1m1271/1271\u001b[0m \u001b[32m━━━━━━━━━━━━━━━━━━━━\u001b[0m\u001b[37m\u001b[0m \u001b[1m25s\u001b[0m 20ms/step - accuracy: 0.9797 - loss: 0.0501 - val_accuracy: 0.9782 - val_loss: 0.0544\n\u001b[1m15876/15876\u001b[0m \u001b[32m━━━━━━━━━━━━━━━━━━━━\u001b[0m\u001b[37m\u001b[0m \u001b[1m76s\u001b[0m 5ms/step - accuracy: 0.9790 - loss: 0.0522\nRound 6 - Test Accuracy: 0.9791\nRound 7/10\nEpoch 1/5\n\u001b[1m1271/1271\u001b[0m \u001b[32m━━━━━━━━━━━━━━━━━━━━\u001b[0m\u001b[37m\u001b[0m \u001b[1m30s\u001b[0m 21ms/step - accuracy: 0.9789 - loss: 0.0517 - val_accuracy: 0.9775 - val_loss: 0.0584\nEpoch 2/5\n\u001b[1m1271/1271\u001b[0m \u001b[32m━━━━━━━━━━━━━━━━━━━━\u001b[0m\u001b[37m\u001b[0m \u001b[1m25s\u001b[0m 20ms/step - accuracy: 0.9794 - loss: 0.0506 - val_accuracy: 0.9786 - val_loss: 0.0535\nEpoch 3/5\n\u001b[1m1271/1271\u001b[0m \u001b[32m━━━━━━━━━━━━━━━━━━━━\u001b[0m\u001b[37m\u001b[0m \u001b[1m26s\u001b[0m 20ms/step - accuracy: 0.9798 - loss: 0.0501 - val_accuracy: 0.9782 - val_loss: 0.0544\nEpoch 4/5\n\u001b[1m1271/1271\u001b[0m \u001b[32m━━━━━━━━━━━━━━━━━━━━\u001b[0m\u001b[37m\u001b[0m \u001b[1m25s\u001b[0m 20ms/step - accuracy: 0.9800 - loss: 0.0497 - val_accuracy: 0.8928 - val_loss: 0.6648\nEpoch 5/5\n\u001b[1m1271/1271\u001b[0m \u001b[32m━━━━━━━━━━━━━━━━━━━━\u001b[0m\u001b[37m\u001b[0m \u001b[1m25s\u001b[0m 20ms/step - accuracy: 0.9802 - loss: 0.0485 - val_accuracy: 0.9787 - val_loss: 0.0530\nEpoch 1/5\n\u001b[1m1271/1271\u001b[0m \u001b[32m━━━━━━━━━━━━━━━━━━━━\u001b[0m\u001b[37m\u001b[0m \u001b[1m30s\u001b[0m 21ms/step - accuracy: 0.9787 - loss: 0.0517 - val_accuracy: 0.9787 - val_loss: 0.0533\nEpoch 2/5\n\u001b[1m1271/1271\u001b[0m \u001b[32m━━━━━━━━━━━━━━━━━━━━\u001b[0m\u001b[37m\u001b[0m \u001b[1m25s\u001b[0m 20ms/step - accuracy: 0.9785 - loss: 0.0519 - val_accuracy: 0.9785 - val_loss: 0.0545\nEpoch 3/5\n\u001b[1m1271/1271\u001b[0m \u001b[32m━━━━━━━━━━━━━━━━━━━━\u001b[0m\u001b[37m\u001b[0m \u001b[1m25s\u001b[0m 20ms/step - accuracy: 0.9790 - loss: 0.0508 - val_accuracy: 0.9787 - val_loss: 0.0534\nEpoch 4/5\n\u001b[1m1271/1271\u001b[0m \u001b[32m━━━━━━━━━━━━━━━━━━━━\u001b[0m\u001b[37m\u001b[0m \u001b[1m25s\u001b[0m 20ms/step - accuracy: 0.9792 - loss: 0.0507 - val_accuracy: 0.9788 - val_loss: 0.0535\nEpoch 5/5\n\u001b[1m1271/1271\u001b[0m \u001b[32m━━━━━━━━━━━━━━━━━━━━\u001b[0m\u001b[37m\u001b[0m \u001b[1m25s\u001b[0m 20ms/step - accuracy: 0.9792 - loss: 0.0504 - val_accuracy: 0.9783 - val_loss: 0.0543\nEpoch 1/5\n\u001b[1m1271/1271\u001b[0m \u001b[32m━━━━━━━━━━━━━━━━━━━━\u001b[0m\u001b[37m\u001b[0m \u001b[1m31s\u001b[0m 21ms/step - accuracy: 0.9792 - loss: 0.0514 - val_accuracy: 0.9786 - val_loss: 0.0532\nEpoch 2/5\n\u001b[1m1271/1271\u001b[0m \u001b[32m━━━━━━━━━━━━━━━━━━━━\u001b[0m\u001b[37m\u001b[0m \u001b[1m25s\u001b[0m 20ms/step - accuracy: 0.9796 - loss: 0.0503 - val_accuracy: 0.9790 - val_loss: 0.0530\nEpoch 3/5\n\u001b[1m1271/1271\u001b[0m \u001b[32m━━━━━━━━━━━━━━━━━━━━\u001b[0m\u001b[37m\u001b[0m \u001b[1m25s\u001b[0m 20ms/step - accuracy: 0.9791 - loss: 0.0511 - val_accuracy: 0.9786 - val_loss: 0.0539\nEpoch 4/5\n\u001b[1m1271/1271\u001b[0m \u001b[32m━━━━━━━━━━━━━━━━━━━━\u001b[0m\u001b[37m\u001b[0m \u001b[1m26s\u001b[0m 20ms/step - accuracy: 0.9789 - loss: 0.0514 - val_accuracy: 0.9789 - val_loss: 0.0532\nEpoch 5/5\n\u001b[1m1271/1271\u001b[0m \u001b[32m━━━━━━━━━━━━━━━━━━━━\u001b[0m\u001b[37m\u001b[0m \u001b[1m25s\u001b[0m 20ms/step - accuracy: 0.9793 - loss: 0.0492 - val_accuracy: 0.9784 - val_loss: 0.0541\nEpoch 1/5\n\u001b[1m1271/1271\u001b[0m \u001b[32m━━━━━━━━━━━━━━━━━━━━\u001b[0m\u001b[37m\u001b[0m \u001b[1m32s\u001b[0m 21ms/step - accuracy: 0.9789 - loss: 0.0525 - val_accuracy: 0.9784 - val_loss: 0.0532\nEpoch 2/5\n\u001b[1m1271/1271\u001b[0m \u001b[32m━━━━━━━━━━━━━━━━━━━━\u001b[0m\u001b[37m\u001b[0m \u001b[1m25s\u001b[0m 20ms/step - accuracy: 0.9792 - loss: 0.0512 - val_accuracy: 0.9786 - val_loss: 0.0531\nEpoch 3/5\n\u001b[1m1271/1271\u001b[0m \u001b[32m━━━━━━━━━━━━━━━━━━━━\u001b[0m\u001b[37m\u001b[0m \u001b[1m26s\u001b[0m 20ms/step - accuracy: 0.9781 - loss: 0.0534 - val_accuracy: 0.9784 - val_loss: 0.0532\nEpoch 4/5\n\u001b[1m1271/1271\u001b[0m \u001b[32m━━━━━━━━━━━━━━━━━━━━\u001b[0m\u001b[37m\u001b[0m \u001b[1m25s\u001b[0m 20ms/step - accuracy: 0.9788 - loss: 0.0509 - val_accuracy: 0.9784 - val_loss: 0.0538\nEpoch 5/5\n\u001b[1m1271/1271\u001b[0m \u001b[32m━━━━━━━━━━━━━━━━━━━━\u001b[0m\u001b[37m\u001b[0m \u001b[1m25s\u001b[0m 20ms/step - accuracy: 0.9794 - loss: 0.0494 - val_accuracy: 0.9787 - val_loss: 0.0528\nEpoch 1/5\n\u001b[1m1271/1271\u001b[0m \u001b[32m━━━━━━━━━━━━━━━━━━━━\u001b[0m\u001b[37m\u001b[0m \u001b[1m30s\u001b[0m 21ms/step - accuracy: 0.9793 - loss: 0.0512 - val_accuracy: 0.9784 - val_loss: 0.0535\nEpoch 2/5\n\u001b[1m1271/1271\u001b[0m \u001b[32m━━━━━━━━━━━━━━━━━━━━\u001b[0m\u001b[37m\u001b[0m \u001b[1m25s\u001b[0m 20ms/step - accuracy: 0.9795 - loss: 0.0509 - val_accuracy: 0.9785 - val_loss: 0.0533\nEpoch 3/5\n\u001b[1m1271/1271\u001b[0m \u001b[32m━━━━━━━━━━━━━━━━━━━━\u001b[0m\u001b[37m\u001b[0m \u001b[1m25s\u001b[0m 20ms/step - accuracy: 0.9796 - loss: 0.0501 - val_accuracy: 0.9788 - val_loss: 0.0531\nEpoch 4/5\n\u001b[1m1271/1271\u001b[0m \u001b[32m━━━━━━━━━━━━━━━━━━━━\u001b[0m\u001b[37m\u001b[0m \u001b[1m25s\u001b[0m 20ms/step - accuracy: 0.9800 - loss: 0.0492 - val_accuracy: 0.9786 - val_loss: 0.0532\nEpoch 5/5\n\u001b[1m1271/1271\u001b[0m \u001b[32m━━━━━━━━━━━━━━━━━━━━\u001b[0m\u001b[37m\u001b[0m \u001b[1m25s\u001b[0m 20ms/step - accuracy: 0.9795 - loss: 0.0492 - val_accuracy: 0.9788 - val_loss: 0.0536\n\u001b[1m15876/15876\u001b[0m \u001b[32m━━━━━━━━━━━━━━━━━━━━\u001b[0m\u001b[37m\u001b[0m \u001b[1m76s\u001b[0m 5ms/step - accuracy: 0.9794 - loss: 0.0516\nRound 7 - Test Accuracy: 0.9795\nRound 8/10\nEpoch 1/5\n\u001b[1m1271/1271\u001b[0m \u001b[32m━━━━━━━━━━━━━━━━━━━━\u001b[0m\u001b[37m\u001b[0m \u001b[1m30s\u001b[0m 21ms/step - accuracy: 0.9798 - loss: 0.0499 - val_accuracy: 0.9788 - val_loss: 0.0521\nEpoch 2/5\n\u001b[1m1271/1271\u001b[0m \u001b[32m━━━━━━━━━━━━━━━━━━━━\u001b[0m\u001b[37m\u001b[0m \u001b[1m25s\u001b[0m 20ms/step - accuracy: 0.9798 - loss: 0.0499 - val_accuracy: 0.9785 - val_loss: 0.0531\nEpoch 3/5\n\u001b[1m1271/1271\u001b[0m \u001b[32m━━━━━━━━━━━━━━━━━━━━\u001b[0m\u001b[37m\u001b[0m \u001b[1m25s\u001b[0m 20ms/step - accuracy: 0.9798 - loss: 0.0493 - val_accuracy: 0.9785 - val_loss: 0.0539\nEpoch 4/5\n\u001b[1m1271/1271\u001b[0m \u001b[32m━━━━━━━━━━━━━━━━━━━━\u001b[0m\u001b[37m\u001b[0m \u001b[1m25s\u001b[0m 20ms/step - accuracy: 0.9796 - loss: 0.0497 - val_accuracy: 0.9789 - val_loss: 0.0530\nEpoch 5/5\n\u001b[1m1271/1271\u001b[0m \u001b[32m━━━━━━━━━━━━━━━━━━━━\u001b[0m\u001b[37m\u001b[0m \u001b[1m25s\u001b[0m 20ms/step - accuracy: 0.9804 - loss: 0.0480 - val_accuracy: 0.9786 - val_loss: 0.0544\nEpoch 1/5\n\u001b[1m1271/1271\u001b[0m \u001b[32m━━━━━━━━━━━━━━━━━━━━\u001b[0m\u001b[37m\u001b[0m \u001b[1m30s\u001b[0m 21ms/step - accuracy: 0.9795 - loss: 0.0509 - val_accuracy: 0.9786 - val_loss: 0.0543\nEpoch 2/5\n\u001b[1m1271/1271\u001b[0m \u001b[32m━━━━━━━━━━━━━━━━━━━━\u001b[0m\u001b[37m\u001b[0m \u001b[1m25s\u001b[0m 20ms/step - accuracy: 0.9795 - loss: 0.0506 - val_accuracy: 0.9787 - val_loss: 0.0536\nEpoch 3/5\n\u001b[1m1271/1271\u001b[0m \u001b[32m━━━━━━━━━━━━━━━━━━━━\u001b[0m\u001b[37m\u001b[0m \u001b[1m25s\u001b[0m 20ms/step - accuracy: 0.9791 - loss: 0.0501 - val_accuracy: 0.9788 - val_loss: 0.0535\nEpoch 4/5\n\u001b[1m1271/1271\u001b[0m \u001b[32m━━━━━━━━━━━━━━━━━━━━\u001b[0m\u001b[37m\u001b[0m \u001b[1m25s\u001b[0m 20ms/step - accuracy: 0.9796 - loss: 0.0488 - val_accuracy: 0.9789 - val_loss: 0.0523\nEpoch 5/5\n\u001b[1m1271/1271\u001b[0m \u001b[32m━━━━━━━━━━━━━━━━━━━━\u001b[0m\u001b[37m\u001b[0m \u001b[1m25s\u001b[0m 20ms/step - accuracy: 0.9794 - loss: 0.0497 - val_accuracy: 0.9783 - val_loss: 0.0552\nEpoch 1/5\n\u001b[1m1271/1271\u001b[0m \u001b[32m━━━━━━━━━━━━━━━━━━━━\u001b[0m\u001b[37m\u001b[0m \u001b[1m30s\u001b[0m 21ms/step - accuracy: 0.9791 - loss: 0.0509 - val_accuracy: 0.9792 - val_loss: 0.0516\nEpoch 2/5\n\u001b[1m1271/1271\u001b[0m \u001b[32m━━━━━━━━━━━━━━━━━━━━\u001b[0m\u001b[37m\u001b[0m \u001b[1m25s\u001b[0m 20ms/step - accuracy: 0.9794 - loss: 0.0508 - val_accuracy: 0.9787 - val_loss: 0.0531\nEpoch 3/5\n\u001b[1m1271/1271\u001b[0m \u001b[32m━━━━━━━━━━━━━━━━━━━━\u001b[0m\u001b[37m\u001b[0m \u001b[1m25s\u001b[0m 20ms/step - accuracy: 0.9792 - loss: 0.0505 - val_accuracy: 0.9785 - val_loss: 0.0541\nEpoch 4/5\n\u001b[1m1271/1271\u001b[0m \u001b[32m━━━━━━━━━━━━━━━━━━━━\u001b[0m\u001b[37m\u001b[0m \u001b[1m25s\u001b[0m 20ms/step - accuracy: 0.9799 - loss: 0.0487 - val_accuracy: 0.9790 - val_loss: 0.0527\nEpoch 5/5\n\u001b[1m1271/1271\u001b[0m \u001b[32m━━━━━━━━━━━━━━━━━━━━\u001b[0m\u001b[37m\u001b[0m \u001b[1m25s\u001b[0m 20ms/step - accuracy: 0.9799 - loss: 0.0481 - val_accuracy: 0.9789 - val_loss: 0.0529\nEpoch 1/5\n\u001b[1m1271/1271\u001b[0m \u001b[32m━━━━━━━━━━━━━━━━━━━━\u001b[0m\u001b[37m\u001b[0m \u001b[1m30s\u001b[0m 21ms/step - accuracy: 0.9794 - loss: 0.0511 - val_accuracy: 0.9791 - val_loss: 0.0519\nEpoch 2/5\n\u001b[1m1271/1271\u001b[0m \u001b[32m━━━━━━━━━━━━━━━━━━━━\u001b[0m\u001b[37m\u001b[0m \u001b[1m25s\u001b[0m 20ms/step - accuracy: 0.9792 - loss: 0.0506 - val_accuracy: 0.9786 - val_loss: 0.0536\nEpoch 3/5\n\u001b[1m1271/1271\u001b[0m \u001b[32m━━━━━━━━━━━━━━━━━━━━\u001b[0m\u001b[37m\u001b[0m \u001b[1m25s\u001b[0m 20ms/step - accuracy: 0.9792 - loss: 0.0501 - val_accuracy: 0.9791 - val_loss: 0.0529\nEpoch 4/5\n\u001b[1m1271/1271\u001b[0m \u001b[32m━━━━━━━━━━━━━━━━━━━━\u001b[0m\u001b[37m\u001b[0m \u001b[1m25s\u001b[0m 20ms/step - accuracy: 0.9795 - loss: 0.0498 - val_accuracy: 0.9790 - val_loss: 0.0519\nEpoch 5/5\n\u001b[1m1271/1271\u001b[0m \u001b[32m━━━━━━━━━━━━━━━━━━━━\u001b[0m\u001b[37m\u001b[0m \u001b[1m25s\u001b[0m 20ms/step - accuracy: 0.9796 - loss: 0.0487 - val_accuracy: 0.8887 - val_loss: 0.4629\nEpoch 1/5\n\u001b[1m1271/1271\u001b[0m \u001b[32m━━━━━━━━━━━━━━━━━━━━\u001b[0m\u001b[37m\u001b[0m \u001b[1m31s\u001b[0m 22ms/step - accuracy: 0.9792 - loss: 0.0515 - val_accuracy: 0.9772 - val_loss: 0.0565\nEpoch 2/5\n\u001b[1m1271/1271\u001b[0m \u001b[32m━━━━━━━━━━━━━━━━━━━━\u001b[0m\u001b[37m\u001b[0m \u001b[1m26s\u001b[0m 20ms/step - accuracy: 0.9797 - loss: 0.0498 - val_accuracy: 0.9788 - val_loss: 0.0529\nEpoch 3/5\n\u001b[1m1271/1271\u001b[0m \u001b[32m━━━━━━━━━━━━━━━━━━━━\u001b[0m\u001b[37m\u001b[0m \u001b[1m26s\u001b[0m 21ms/step - accuracy: 0.9799 - loss: 0.0491 - val_accuracy: 0.9786 - val_loss: 0.0541\nEpoch 4/5\n\u001b[1m1271/1271\u001b[0m \u001b[32m━━━━━━━━━━━━━━━━━━━━\u001b[0m\u001b[37m\u001b[0m \u001b[1m26s\u001b[0m 21ms/step - accuracy: 0.9802 - loss: 0.0482 - val_accuracy: 0.9780 - val_loss: 0.0543\nEpoch 5/5\n\u001b[1m1271/1271\u001b[0m \u001b[32m━━━━━━━━━━━━━━━━━━━━\u001b[0m\u001b[37m\u001b[0m \u001b[1m26s\u001b[0m 21ms/step - accuracy: 0.9801 - loss: 0.0475 - val_accuracy: 0.9780 - val_loss: 0.0554\n\u001b[1m15876/15876\u001b[0m \u001b[32m━━━━━━━━━━━━━━━━━━━━\u001b[0m\u001b[37m\u001b[0m \u001b[1m78s\u001b[0m 5ms/step - accuracy: 0.9794 - loss: 0.0514\nRound 8 - Test Accuracy: 0.9795\nRound 9/10\nEpoch 1/5\n\u001b[1m1271/1271\u001b[0m \u001b[32m━━━━━━━━━━━━━━━━━━━━\u001b[0m\u001b[37m\u001b[0m \u001b[1m30s\u001b[0m 21ms/step - accuracy: 0.9797 - loss: 0.0503 - val_accuracy: 0.9785 - val_loss: 0.0530\nEpoch 2/5\n\u001b[1m1271/1271\u001b[0m \u001b[32m━━━━━━━━━━━━━━━━━━━━\u001b[0m\u001b[37m\u001b[0m \u001b[1m25s\u001b[0m 20ms/step - accuracy: 0.9797 - loss: 0.0493 - val_accuracy: 0.9790 - val_loss: 0.0527\nEpoch 3/5\n\u001b[1m1271/1271\u001b[0m \u001b[32m━━━━━━━━━━━━━━━━━━━━\u001b[0m\u001b[37m\u001b[0m \u001b[1m25s\u001b[0m 20ms/step - accuracy: 0.9804 - loss: 0.0485 - val_accuracy: 0.9781 - val_loss: 0.0546\nEpoch 4/5\n\u001b[1m1271/1271\u001b[0m \u001b[32m━━━━━━━━━━━━━━━━━━━━\u001b[0m\u001b[37m\u001b[0m \u001b[1m25s\u001b[0m 20ms/step - accuracy: 0.9798 - loss: 0.0489 - val_accuracy: 0.9790 - val_loss: 0.0525\nEpoch 5/5\n\u001b[1m1271/1271\u001b[0m \u001b[32m━━━━━━━━━━━━━━━━━━━━\u001b[0m\u001b[37m\u001b[0m \u001b[1m25s\u001b[0m 20ms/step - accuracy: 0.9803 - loss: 0.0473 - val_accuracy: 0.9788 - val_loss: 0.0538\nEpoch 1/5\n\u001b[1m1271/1271\u001b[0m \u001b[32m━━━━━━━━━━━━━━━━━━━━\u001b[0m\u001b[37m\u001b[0m \u001b[1m30s\u001b[0m 21ms/step - accuracy: 0.9790 - loss: 0.0516 - val_accuracy: 0.9787 - val_loss: 0.0530\nEpoch 2/5\n\u001b[1m1271/1271\u001b[0m \u001b[32m━━━━━━━━━━━━━━━━━━━━\u001b[0m\u001b[37m\u001b[0m \u001b[1m25s\u001b[0m 20ms/step - accuracy: 0.9796 - loss: 0.0505 - val_accuracy: 0.9793 - val_loss: 0.0519\nEpoch 3/5\n\u001b[1m1271/1271\u001b[0m \u001b[32m━━━━━━━━━━━━━━━━━━━━\u001b[0m\u001b[37m\u001b[0m \u001b[1m25s\u001b[0m 20ms/step - accuracy: 0.9793 - loss: 0.0494 - val_accuracy: 0.9789 - val_loss: 0.0531\nEpoch 4/5\n\u001b[1m1271/1271\u001b[0m \u001b[32m━━━━━━━━━━━━━━━━━━━━\u001b[0m\u001b[37m\u001b[0m \u001b[1m25s\u001b[0m 20ms/step - accuracy: 0.9794 - loss: 0.0495 - val_accuracy: 0.9789 - val_loss: 0.0532\nEpoch 5/5\n\u001b[1m1271/1271\u001b[0m \u001b[32m━━━━━━━━━━━━━━━━━━━━\u001b[0m\u001b[37m\u001b[0m \u001b[1m25s\u001b[0m 20ms/step - accuracy: 0.9800 - loss: 0.0482 - val_accuracy: 0.9788 - val_loss: 0.0536\nEpoch 1/5\n\u001b[1m1271/1271\u001b[0m \u001b[32m━━━━━━━━━━━━━━━━━━━━\u001b[0m\u001b[37m\u001b[0m \u001b[1m32s\u001b[0m 21ms/step - accuracy: 0.9788 - loss: 0.0517 - val_accuracy: 0.9787 - val_loss: 0.0538\nEpoch 2/5\n\u001b[1m1271/1271\u001b[0m \u001b[32m━━━━━━━━━━━━━━━━━━━━\u001b[0m\u001b[37m\u001b[0m \u001b[1m25s\u001b[0m 20ms/step - accuracy: 0.9793 - loss: 0.0504 - val_accuracy: 0.9790 - val_loss: 0.0524\nEpoch 3/5\n\u001b[1m1271/1271\u001b[0m \u001b[32m━━━━━━━━━━━━━━━━━━━━\u001b[0m\u001b[37m\u001b[0m \u001b[1m25s\u001b[0m 20ms/step - accuracy: 0.9801 - loss: 0.0484 - val_accuracy: 0.9790 - val_loss: 0.0524\nEpoch 4/5\n\u001b[1m1271/1271\u001b[0m \u001b[32m━━━━━━━━━━━━━━━━━━━━\u001b[0m\u001b[37m\u001b[0m \u001b[1m26s\u001b[0m 20ms/step - accuracy: 0.9799 - loss: 0.0486 - val_accuracy: 0.9788 - val_loss: 0.0529\nEpoch 5/5\n\u001b[1m1271/1271\u001b[0m \u001b[32m━━━━━━━━━━━━━━━━━━━━\u001b[0m\u001b[37m\u001b[0m \u001b[1m25s\u001b[0m 20ms/step - accuracy: 0.9803 - loss: 0.0477 - val_accuracy: 0.9791 - val_loss: 0.0524\nEpoch 1/5\n\u001b[1m1271/1271\u001b[0m \u001b[32m━━━━━━━━━━━━━━━━━━━━\u001b[0m\u001b[37m\u001b[0m \u001b[1m31s\u001b[0m 21ms/step - accuracy: 0.9794 - loss: 0.0504 - val_accuracy: 0.9788 - val_loss: 0.0527\nEpoch 2/5\n\u001b[1m1271/1271\u001b[0m \u001b[32m━━━━━━━━━━━━━━━━━━━━\u001b[0m\u001b[37m\u001b[0m \u001b[1m25s\u001b[0m 20ms/step - accuracy: 0.9792 - loss: 0.0507 - val_accuracy: 0.9792 - val_loss: 0.0520\nEpoch 3/5\n\u001b[1m1271/1271\u001b[0m \u001b[32m━━━━━━━━━━━━━━━━━━━━\u001b[0m\u001b[37m\u001b[0m \u001b[1m25s\u001b[0m 20ms/step - accuracy: 0.9795 - loss: 0.0493 - val_accuracy: 0.9790 - val_loss: 0.0527\nEpoch 4/5\n\u001b[1m1271/1271\u001b[0m \u001b[32m━━━━━━━━━━━━━━━━━━━━\u001b[0m\u001b[37m\u001b[0m \u001b[1m25s\u001b[0m 20ms/step - accuracy: 0.9801 - loss: 0.0481 - val_accuracy: 0.9790 - val_loss: 0.0532\nEpoch 5/5\n\u001b[1m1271/1271\u001b[0m \u001b[32m━━━━━━━━━━━━━━━━━━━━\u001b[0m\u001b[37m\u001b[0m \u001b[1m25s\u001b[0m 20ms/step - accuracy: 0.9801 - loss: 0.0476 - val_accuracy: 0.9785 - val_loss: 0.0537\nEpoch 1/5\n\u001b[1m1271/1271\u001b[0m \u001b[32m━━━━━━━━━━━━━━━━━━━━\u001b[0m\u001b[37m\u001b[0m \u001b[1m30s\u001b[0m 21ms/step - accuracy: 0.9797 - loss: 0.0498 - val_accuracy: 0.9784 - val_loss: 0.0531\nEpoch 2/5\n\u001b[1m1271/1271\u001b[0m \u001b[32m━━━━━━━━━━━━━━━━━━━━\u001b[0m\u001b[37m\u001b[0m \u001b[1m25s\u001b[0m 20ms/step - accuracy: 0.9803 - loss: 0.0476 - val_accuracy: 0.9790 - val_loss: 0.0527\nEpoch 3/5\n\u001b[1m1271/1271\u001b[0m \u001b[32m━━━━━━━━━━━━━━━━━━━━\u001b[0m\u001b[37m\u001b[0m \u001b[1m25s\u001b[0m 20ms/step - accuracy: 0.9802 - loss: 0.0477 - val_accuracy: 0.9247 - val_loss: 0.1829\nEpoch 4/5\n\u001b[1m1271/1271\u001b[0m \u001b[32m━━━━━━━━━━━━━━━━━━━━\u001b[0m\u001b[37m\u001b[0m \u001b[1m25s\u001b[0m 20ms/step - accuracy: 0.9799 - loss: 0.0484 - val_accuracy: 0.9786 - val_loss: 0.0541\nEpoch 5/5\n\u001b[1m1271/1271\u001b[0m \u001b[32m━━━━━━━━━━━━━━━━━━━━\u001b[0m\u001b[37m\u001b[0m \u001b[1m25s\u001b[0m 20ms/step - accuracy: 0.9799 - loss: 0.0487 - val_accuracy: 0.9789 - val_loss: 0.0538\n\u001b[1m15876/15876\u001b[0m \u001b[32m━━━━━━━━━━━━━━━━━━━━\u001b[0m\u001b[37m\u001b[0m \u001b[1m76s\u001b[0m 5ms/step - accuracy: 0.9795 - loss: 0.0513\nRound 9 - Test Accuracy: 0.9797\nRound 10/10\nEpoch 1/5\n\u001b[1m1271/1271\u001b[0m \u001b[32m━━━━━━━━━━━━━━━━━━━━\u001b[0m\u001b[37m\u001b[0m \u001b[1m30s\u001b[0m 21ms/step - accuracy: 0.9802 - loss: 0.0491 - val_accuracy: 0.9788 - val_loss: 0.0535\nEpoch 2/5\n\u001b[1m1271/1271\u001b[0m \u001b[32m━━━━━━━━━━━━━━━━━━━━\u001b[0m\u001b[37m\u001b[0m \u001b[1m25s\u001b[0m 20ms/step - accuracy: 0.9805 - loss: 0.0476 - val_accuracy: 0.9787 - val_loss: 0.0525\nEpoch 3/5\n\u001b[1m1271/1271\u001b[0m \u001b[32m━━━━━━━━━━━━━━━━━━━━\u001b[0m\u001b[37m\u001b[0m \u001b[1m25s\u001b[0m 20ms/step - accuracy: 0.9804 - loss: 0.0480 - val_accuracy: 0.9791 - val_loss: 0.0523\nEpoch 4/5\n\u001b[1m1271/1271\u001b[0m \u001b[32m━━━━━━━━━━━━━━━━━━━━\u001b[0m\u001b[37m\u001b[0m \u001b[1m25s\u001b[0m 20ms/step - accuracy: 0.9805 - loss: 0.0474 - val_accuracy: 0.9790 - val_loss: 0.0525\nEpoch 5/5\n\u001b[1m1271/1271\u001b[0m \u001b[32m━━━━━━━━━━━━━━━━━━━━\u001b[0m\u001b[37m\u001b[0m \u001b[1m25s\u001b[0m 20ms/step - accuracy: 0.9806 - loss: 0.0472 - val_accuracy: 0.9790 - val_loss: 0.0524\nEpoch 1/5\n\u001b[1m1271/1271\u001b[0m \u001b[32m━━━━━━━━━━━━━━━━━━━━\u001b[0m\u001b[37m\u001b[0m \u001b[1m30s\u001b[0m 21ms/step - accuracy: 0.9793 - loss: 0.0506 - val_accuracy: 0.9794 - val_loss: 0.0520\nEpoch 2/5\n\u001b[1m1271/1271\u001b[0m \u001b[32m━━━━━━━━━━━━━━━━━━━━\u001b[0m\u001b[37m\u001b[0m \u001b[1m25s\u001b[0m 20ms/step - accuracy: 0.9796 - loss: 0.0492 - val_accuracy: 0.9789 - val_loss: 0.0535\nEpoch 3/5\n\u001b[1m1271/1271\u001b[0m \u001b[32m━━━━━━━━━━━━━━━━━━━━\u001b[0m\u001b[37m\u001b[0m \u001b[1m25s\u001b[0m 20ms/step - accuracy: 0.9794 - loss: 0.0491 - val_accuracy: 0.9792 - val_loss: 0.0521\nEpoch 4/5\n\u001b[1m1271/1271\u001b[0m \u001b[32m━━━━━━━━━━━━━━━━━━━━\u001b[0m\u001b[37m\u001b[0m \u001b[1m25s\u001b[0m 20ms/step - accuracy: 0.9802 - loss: 0.0474 - val_accuracy: 0.9790 - val_loss: 0.0527\nEpoch 5/5\n\u001b[1m1271/1271\u001b[0m \u001b[32m━━━━━━━━━━━━━━━━━━━━\u001b[0m\u001b[37m\u001b[0m \u001b[1m25s\u001b[0m 20ms/step - accuracy: 0.9804 - loss: 0.0475 - val_accuracy: 0.9789 - val_loss: 0.0535\nEpoch 1/5\n\u001b[1m1271/1271\u001b[0m \u001b[32m━━━━━━━━━━━━━━━━━━━━\u001b[0m\u001b[37m\u001b[0m \u001b[1m30s\u001b[0m 21ms/step - accuracy: 0.9801 - loss: 0.0496 - val_accuracy: 0.9791 - val_loss: 0.0519\nEpoch 2/5\n\u001b[1m1271/1271\u001b[0m \u001b[32m━━━━━━━━━━━━━━━━━━━━\u001b[0m\u001b[37m\u001b[0m \u001b[1m25s\u001b[0m 20ms/step - accuracy: 0.9802 - loss: 0.0483 - val_accuracy: 0.9789 - val_loss: 0.0527\nEpoch 3/5\n\u001b[1m1271/1271\u001b[0m \u001b[32m━━━━━━━━━━━━━━━━━━━━\u001b[0m\u001b[37m\u001b[0m \u001b[1m25s\u001b[0m 20ms/step - accuracy: 0.9802 - loss: 0.0478 - val_accuracy: 0.9790 - val_loss: 0.0527\nEpoch 4/5\n\u001b[1m1271/1271\u001b[0m \u001b[32m━━━━━━━━━━━━━━━━━━━━\u001b[0m\u001b[37m\u001b[0m \u001b[1m25s\u001b[0m 20ms/step - accuracy: 0.9800 - loss: 0.0485 - val_accuracy: 0.9788 - val_loss: 0.0534\nEpoch 5/5\n\u001b[1m1271/1271\u001b[0m \u001b[32m━━━━━━━━━━━━━━━━━━━━\u001b[0m\u001b[37m\u001b[0m \u001b[1m26s\u001b[0m 20ms/step - accuracy: 0.9802 - loss: 0.0471 - val_accuracy: 0.9792 - val_loss: 0.0530\nEpoch 1/5\n\u001b[1m1271/1271\u001b[0m \u001b[32m━━━━━━━━━━━━━━━━━━━━\u001b[0m\u001b[37m\u001b[0m \u001b[1m31s\u001b[0m 21ms/step - accuracy: 0.9798 - loss: 0.0499 - val_accuracy: 0.9791 - val_loss: 0.0523\nEpoch 2/5\n\u001b[1m1271/1271\u001b[0m \u001b[32m━━━━━━━━━━━━━━━━━━━━\u001b[0m\u001b[37m\u001b[0m \u001b[1m26s\u001b[0m 20ms/step - accuracy: 0.9794 - loss: 0.0496 - val_accuracy: 0.9790 - val_loss: 0.0528\nEpoch 3/5\n\u001b[1m1271/1271\u001b[0m \u001b[32m━━━━━━━━━━━━━━━━━━━━\u001b[0m\u001b[37m\u001b[0m \u001b[1m25s\u001b[0m 20ms/step - accuracy: 0.9800 - loss: 0.0478 - val_accuracy: 0.9790 - val_loss: 0.0538\nEpoch 4/5\n\u001b[1m1271/1271\u001b[0m \u001b[32m━━━━━━━━━━━━━━━━━━━━\u001b[0m\u001b[37m\u001b[0m \u001b[1m26s\u001b[0m 20ms/step - accuracy: 0.9807 - loss: 0.0468 - val_accuracy: 0.9790 - val_loss: 0.0530\nEpoch 5/5\n\u001b[1m1271/1271\u001b[0m \u001b[32m━━━━━━━━━━━━━━━━━━━━\u001b[0m\u001b[37m\u001b[0m \u001b[1m25s\u001b[0m 20ms/step - accuracy: 0.9803 - loss: 0.0470 - val_accuracy: 0.9788 - val_loss: 0.0531\nEpoch 1/5\n\u001b[1m1271/1271\u001b[0m \u001b[32m━━━━━━━━━━━━━━━━━━━━\u001b[0m\u001b[37m\u001b[0m \u001b[1m31s\u001b[0m 21ms/step - accuracy: 0.9797 - loss: 0.0498 - val_accuracy: 0.9778 - val_loss: 0.0568\nEpoch 2/5\n\u001b[1m1271/1271\u001b[0m \u001b[32m━━━━━━━━━━━━━━━━━━━━\u001b[0m\u001b[37m\u001b[0m \u001b[1m26s\u001b[0m 20ms/step - accuracy: 0.9799 - loss: 0.0491 - val_accuracy: 0.9790 - val_loss: 0.0525\nEpoch 3/5\n\u001b[1m15876/15876\u001b[0m \u001b[32m━━━━━━━━━━━━━━━━━━━━\u001b[0m\u001b[37m\u001b[0m \u001b[1m76s\u001b[0m 5ms/step - accuracy: 0.9796 - loss: 0.0509\nRound 10 - Test Accuracy: 0.9797\n",
          "output_type": "stream"
        }
      ],
      "execution_count": null
    },
    {
      "cell_type": "code",
      "source": [
        "from sklearn.metrics import confusion_matrix\n",
        "import numpy as np\n",
        "from tensorflow.keras.metrics import Precision, Recall\n",
        "\n",
        "# Supposons que vous avez déjà défini votre fonction 'create_model'\n",
        "# et que vous avez les données x_test et y_test\n",
        "\n",
        "# Compilation du modèle global avec des métriques supplémentaires\n",
        "global_model.compile(optimizer='adam',\n",
        "                     loss='categorical_crossentropy',\n",
        "                     metrics=['accuracy', Precision(), Recall()])\n",
        "\n",
        "# Après l'entraînement fédéré, évaluer le modèle global\n",
        "test_loss, test_accuracy, test_precision, test_recall = global_model.evaluate(x_test, y_test)\n",
        "\n",
        "# Affichage des résultats\n",
        "print(f\"Test Loss: {test_loss}\")\n",
        "print(f\"Test Accuracy: {test_accuracy}\")\n",
        "print(f\"Test Precision: {test_precision}\")\n",
        "print(f\"Test Recall: {test_recall}\")\n",
        "\n",
        "# Matrice de confusion\n",
        "y_pred = global_model.predict(x_test)\n",
        "y_pred_labels = np.argmax(y_pred, axis=1)\n",
        "cm = confusion_matrix(np.argmax(y_test, axis=1), y_pred_labels)\n",
        "\n",
        "print(\"Confusion Matrix:\\n\", cm)\n"
      ],
      "metadata": {
        "id": "7-bLw_biQKhs",
        "trusted": true,
        "execution": {
          "iopub.status.busy": "2024-11-27T21:59:39.483883Z",
          "iopub.execute_input": "2024-11-27T21:59:39.484237Z",
          "iopub.status.idle": "2024-11-27T22:02:12.357081Z",
          "shell.execute_reply.started": "2024-11-27T21:59:39.484204Z",
          "shell.execute_reply": "2024-11-27T22:02:12.356155Z"
        },
        "outputId": "e0acb116-0ead-4537-90aa-1a704764b480"
      },
      "outputs": [
        {
          "name": "stdout",
          "text": "\u001b[1m15876/15876\u001b[0m \u001b[32m━━━━━━━━━━━━━━━━━━━━\u001b[0m\u001b[37m\u001b[0m \u001b[1m82s\u001b[0m 5ms/step - accuracy: 0.9796 - loss: 0.0509 - precision_2: 0.9906 - recall_2: 0.9718\nTest Loss: 0.05055902898311615\nTest Accuracy: 0.9797424674034119\nTest Precision: 0.9906100630760193\nTest Recall: 0.9718863368034363\n\u001b[1m15876/15876\u001b[0m \u001b[32m━━━━━━━━━━━━━━━━━━━━\u001b[0m\u001b[37m\u001b[0m \u001b[1m64s\u001b[0m 4ms/step\nConfusion Matrix:\n [[442486      9    113      1      1     10     52    959     28      0]\n [    47  42328    626      1      3     25      5     36     21      0]\n [   288    113   8101      2      0     65    223    154     57      0]\n [     6      4    397     28      0      9      5     41      6      0]\n [    97      4    375      0     10      1      0     37      0      0]\n [    78     67   2856      5      0    114     16     60     29      0]\n [    22      6    573      0      0      5   2164      6      4      0]\n [  1971      7    563      0      0      2     36   2288     31      0]\n [    32      8     20      0      0      0     17     12    199      0]\n [     3      0     36      0      0      0      3      0      2      0]]\n",
          "output_type": "stream"
        }
      ],
      "execution_count": null
    }
  ]
}